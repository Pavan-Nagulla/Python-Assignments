{
  "nbformat": 4,
  "nbformat_minor": 0,
  "metadata": {
    "colab": {
      "provenance": [],
      "authorship_tag": "ABX9TyNNmPRf/mEdM7xKsbl0ielf",
      "include_colab_link": true
    },
    "kernelspec": {
      "name": "python3",
      "display_name": "Python 3"
    },
    "language_info": {
      "name": "python"
    }
  },
  "cells": [
    {
      "cell_type": "markdown",
      "metadata": {
        "id": "view-in-github",
        "colab_type": "text"
      },
      "source": [
        "<a href=\"https://colab.research.google.com/github/Pavan-Nagulla/Python-Assignments/blob/main/Assignment15.ipynb\" target=\"_parent\"><img src=\"https://colab.research.google.com/assets/colab-badge.svg\" alt=\"Open In Colab\"/></a>"
      ]
    },
    {
      "cell_type": "code",
      "execution_count": null,
      "metadata": {
        "id": "A2A6tHETibeT"
      },
      "outputs": [],
      "source": []
    },
    {
      "cell_type": "markdown",
      "source": [
        "1.How many seconds are in an hour? Use the interactive interpreter as a calculator and multiply the\n",
        "number of seconds in a minute (60) by the number of minutes in an hour (also 60).\n",
        "\n",
        "\n",
        "ans:\n",
        "\n",
        "\n",
        "\n",
        "To calculate the number of seconds in an hour, you can use the interactive interpreter as a calculator and multiply the number of seconds in a minute (60) by the number of minutes in an hour (also 60). Here's how you can do it:"
      ],
      "metadata": {
        "id": "DNEif9WKid22"
      }
    },
    {
      "cell_type": "code",
      "source": [
        "seconds_in_minute = 60\n",
        "minutes_in_hour = 60\n",
        "\n",
        "seconds_in_hour = seconds_in_minute * minutes_in_hour\n",
        "\n",
        "print(seconds_in_hour)\n"
      ],
      "metadata": {
        "id": "P4oKEYwrir_d"
      },
      "execution_count": null,
      "outputs": []
    },
    {
      "cell_type": "markdown",
      "source": [
        "When you run this code, it will output the result:\n",
        "\n",
        "yaml\n",
        "Copy code\n",
        "3600\n",
        "Therefore, there are 3600 seconds in an hour."
      ],
      "metadata": {
        "id": "oFDf72ZHiuV4"
      }
    },
    {
      "cell_type": "markdown",
      "source": [
        "2. Assign the result from the previous task (seconds in an hour) to a variable called\n",
        "seconds_per_hour.\n",
        "\n",
        "ans:\n",
        "\n",
        "To assign the result from the previous task (seconds in an hour) to a variable called seconds_per_hour, you can use the following code:\n",
        "\n",
        "python\n",
        "Copy code\n",
        "seconds_per_hour = 3600\n",
        "In this code, the value 3600 (which represents the number of seconds in an hour) is assigned to the variable seconds_per_hour. Now, you can use the variable seconds_per_hour in your program to refer to the number of seconds in an hour."
      ],
      "metadata": {
        "id": "q4m3YibkixK4"
      }
    },
    {
      "cell_type": "markdown",
      "source": [
        "3. How many seconds do you think there are in a day? Make use of the variables seconds per hour\n",
        "and minutes per hour.\n",
        "\n",
        "\n",
        "\n",
        "\n",
        "\n",
        "\n",
        "\n",
        "ans:\n",
        "\n",
        "To calculate the number of seconds in a day, you can multiply the number of seconds per hour by the number of hours in a day. Since there are 24 hours in a day, you can use the following code to calculate the result:\n"
      ],
      "metadata": {
        "id": "B88sm3VWi4CY"
      }
    },
    {
      "cell_type": "code",
      "source": [
        "seconds_per_hour = 3600\n",
        "hours_per_day = 24\n",
        "\n",
        "seconds_per_day = seconds_per_hour * hours_per_day\n",
        "\n",
        "print(seconds_per_day)\n"
      ],
      "metadata": {
        "id": "BTnV8mYojDOL"
      },
      "execution_count": null,
      "outputs": []
    },
    {
      "cell_type": "markdown",
      "source": [
        "When you run this code, it will output the result:\n",
        "\n",
        "Copy code\n",
        "86400\n",
        "Therefore, there are 86,400 seconds in a day."
      ],
      "metadata": {
        "id": "OYj0hNqhjFc6"
      }
    },
    {
      "cell_type": "markdown",
      "source": [
        "4. Calculate seconds per day again, but this time save the result in a variable called seconds_per_day\n",
        "\n",
        "ans:To calculate the number of seconds in a day and save the result in a variable called seconds_per_day, you can use the following code:"
      ],
      "metadata": {
        "id": "KAL-U3ocjH08"
      }
    },
    {
      "cell_type": "code",
      "source": [
        "seconds_per_hour = 3600\n",
        "hours_per_day = 24\n",
        "\n",
        "seconds_per_day = seconds_per_hour * hours_per_day\n"
      ],
      "metadata": {
        "id": "rfsES5fnjQvV"
      },
      "execution_count": null,
      "outputs": []
    },
    {
      "cell_type": "markdown",
      "source": [
        "In this code, the multiplication of seconds_per_hour and hours_per_day is assigned to the variable seconds_per_day. The variable seconds_per_day will now hold the value 86,400, which represents the number of seconds in a day."
      ],
      "metadata": {
        "id": "I-DxBwwBjSwl"
      }
    },
    {
      "cell_type": "markdown",
      "source": [
        "5. Divide seconds_per_day by seconds_per_hour. Use floating-point (/) division.\n",
        "\n",
        "ans:\n",
        "\n",
        "To divide the variable seconds_per_day by seconds_per_hour using floating-point division, you can use the following code:"
      ],
      "metadata": {
        "id": "EnCYdWfijVAs"
      }
    },
    {
      "cell_type": "code",
      "source": [
        "seconds_per_hour = 3600\n",
        "seconds_per_day = 86400\n",
        "\n",
        "result = seconds_per_day / seconds_per_hour\n",
        "\n",
        "print(result)\n"
      ],
      "metadata": {
        "id": "pv9ycKlrjdQO"
      },
      "execution_count": null,
      "outputs": []
    },
    {
      "cell_type": "markdown",
      "source": [
        "When you run this code, it will output the result:\n",
        "\n",
        "Copy code\n",
        "24.0\n",
        "The result is 24.0, indicating that there are 24 hours in a day."
      ],
      "metadata": {
        "id": "_2LMiXBmjfrG"
      }
    },
    {
      "cell_type": "markdown",
      "source": [
        "6. Divide seconds_per_day by seconds_per_hour, using integer (//) division. Did this number agree\n",
        "with the floating-point value from the previous question, aside from the final .0?\n",
        "\n",
        "ans: \n",
        "\n",
        "\n",
        "To divide the variable seconds_per_day by seconds_per_hour using integer division, you can use the double forward slash (//) operator. Here's the code:"
      ],
      "metadata": {
        "id": "XXNzIpjSjiYv"
      }
    },
    {
      "cell_type": "code",
      "source": [
        "seconds_per_hour = 3600\n",
        "seconds_per_day = 86400\n",
        "\n",
        "result = seconds_per_day // seconds_per_hour\n",
        "\n",
        "print(result)\n"
      ],
      "metadata": {
        "id": "Mrdtnwscj0xT"
      },
      "execution_count": null,
      "outputs": []
    },
    {
      "cell_type": "markdown",
      "source": [
        "When you run this code, it will output the result:\n",
        "\n",
        "Copy code\n",
        "24\n",
        "The result is 24, which agrees with the previous floating-point value of 24.0, aside from the absence of the decimal point and trailing zero. The value represents the whole number of times seconds_per_hour (3600) can be divided into seconds_per_day (86400) without any remainder."
      ],
      "metadata": {
        "id": "LVNTu5FBj4bL"
      }
    },
    {
      "cell_type": "markdown",
      "source": [
        "7. Write a generator, genPrimes, that returns the sequence of prime numbers on successive calls to\n",
        "its next() method: 2, 3, 5, 7, 11, ...\n",
        "\n",
        "\n",
        "ans: \n",
        "\n",
        "To create a generator that returns the sequence of prime numbers, you can implement the genPrimes generator using the following code:"
      ],
      "metadata": {
        "id": "6ui2XOYZj6wL"
      }
    },
    {
      "cell_type": "code",
      "source": [
        "def genPrimes():\n",
        "    # Initial prime number\n",
        "    prime = 2\n",
        "\n",
        "    while True:\n",
        "        if isPrime(prime):\n",
        "            yield prime\n",
        "        prime += 1\n",
        "\n",
        "def isPrime(n):\n",
        "    if n < 2:\n",
        "        return False\n",
        "    for i in range(2, int(n ** 0.5) + 1):\n",
        "        if n % i == 0:\n",
        "            return False\n",
        "    return True\n"
      ],
      "metadata": {
        "id": "bIDa-PPFkBtj"
      },
      "execution_count": null,
      "outputs": []
    },
    {
      "cell_type": "markdown",
      "source": [
        "In this code, the genPrimes generator uses an infinite loop (while True) and checks if each number (prime) is prime by calling the isPrime function. If the number is prime, it is yielded using the yield keyword, making it available for successive calls to the next() method.\n",
        "\n",
        "The isPrime function checks whether a number n is prime by iterating from 2 up to the square root of n. If n is divisible by any number within this range, it is not prime, and the function returns False. Otherwise, it returns True.\n",
        "\n",
        "You can use the genPrimes generator as follows:\n",
        "\n",
        "python\n",
        "Copy code\n",
        "primes = genPrimes()\n",
        "print(next(primes))  # 2\n",
        "print(next(primes))  # 3\n",
        "print(next(primes))  # 5\n",
        "print(next(primes))  # 7\n",
        "print(next(primes))  # 11\n",
        "# and so on...\n",
        "Each call to next(primes) will retrieve the next prime number in the sequence.\n",
        "\n",
        "\n",
        "\n",
        "\n",
        "\n",
        "\n",
        "Regenerate response"
      ],
      "metadata": {
        "id": "UFcSKlRwkFbv"
      }
    }
  ]
}