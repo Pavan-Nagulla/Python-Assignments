{
  "nbformat": 4,
  "nbformat_minor": 0,
  "metadata": {
    "colab": {
      "provenance": [],
      "authorship_tag": "ABX9TyMNZjcw5F77APtqxpxJSVJW",
      "include_colab_link": true
    },
    "kernelspec": {
      "name": "python3",
      "display_name": "Python 3"
    },
    "language_info": {
      "name": "python"
    }
  },
  "cells": [
    {
      "cell_type": "markdown",
      "metadata": {
        "id": "view-in-github",
        "colab_type": "text"
      },
      "source": [
        "<a href=\"https://colab.research.google.com/github/Pavan-Nagulla/Python-Assignments/blob/main/Assignment19.ipynb\" target=\"_parent\"><img src=\"https://colab.research.google.com/assets/colab-badge.svg\" alt=\"Open In Colab\"/></a>"
      ]
    },
    {
      "cell_type": "markdown",
      "source": [
        "1. Make a class called Thing with no contents and print it. Then, create an object called example\n",
        "from this class and also print it. Are the printed values the same or different?"
      ],
      "metadata": {
        "id": "E4n8sjqmekhS"
      }
    },
    {
      "cell_type": "code",
      "execution_count": null,
      "metadata": {
        "id": "wCYTDiVBeYL0"
      },
      "outputs": [],
      "source": [
        "class Thing:\n",
        "    pass\n",
        "\n",
        "# Create an object called \"example\" from the Thing class\n",
        "example = Thing()\n",
        "\n",
        "# Print the class and the object\n",
        "print(Thing)\n",
        "print(example)\n"
      ]
    },
    {
      "cell_type": "markdown",
      "source": [
        "The output of this code will be something like:\n",
        "\n",
        "javascript\n",
        "Copy code\n",
        "<class '__main__.Thing'>\n",
        "<__main__.Thing object at 0x7f9ab97c3e50>\n",
        "The printed values for the class and the object will be different. When we print Thing, it displays the class definition, showing that it belongs to the __main__ module and its name is \"Thing.\" On the other hand, when we print example, it shows the object representation, indicating that it is an instance of the Thing class and its memory address (0x7f9ab97c3e50 in this case).\n",
        "\n",
        "So, to summarize, the printed values are different for the class and the object."
      ],
      "metadata": {
        "id": "S7W7A6OTfCUa"
      }
    },
    {
      "cell_type": "markdown",
      "source": [
        "2. Create a new class called Thing2 and add the value &#39;abc&#39; to the letters class attribute. Letters\n",
        "should be printed.\n",
        "\n",
        "ANS:\n",
        "\n",
        "Sure! Here's an example of a class called \"Thing2\" with a class attribute called \"letters\" set to the value 'abc'. We'll also print the value of the \"letters\" attribute:"
      ],
      "metadata": {
        "id": "TTsud7WffC3a"
      }
    },
    {
      "cell_type": "code",
      "source": [
        "class Thing2:\n",
        "    letters = 'abc'\n",
        "\n",
        "# Print the value of the \"letters\" attribute\n",
        "print(Thing2.letters)\n"
      ],
      "metadata": {
        "id": "w9A7MXOjfQLb"
      },
      "execution_count": null,
      "outputs": []
    },
    {
      "cell_type": "markdown",
      "source": [
        "The output of this code will be:\n",
        "\n",
        "Copy code\n",
        "abc\n",
        "In this example, we create a class called \"Thing2\" and define a class attribute called \"letters\" with the value 'abc'. By accessing the attribute using the class name (Thing2.letters), we can print its value, which is 'abc'."
      ],
      "metadata": {
        "id": "twtv8nqTfTFC"
      }
    },
    {
      "cell_type": "markdown",
      "source": [
        "3. Make yet another class called, of course, Thing3. This time, assign the value &#39;xyz&#39; to an instance\n",
        "(object) attribute called letters. Print letters. Do you need to make an object from the class to do\n",
        "this?\n",
        "\n",
        "ans:\n",
        "\n",
        "In Python, instance attributes are typically assigned within the __init__ method of a class, which is executed when an object is created. Therefore, you will need to create an object from the class to assign and access instance attributes. Here's an example of a class called \"Thing3\" where we assign the value 'xyz' to an instance attribute called \"letters\" and then print it:"
      ],
      "metadata": {
        "id": "DqSbU--XfWPh"
      }
    },
    {
      "cell_type": "code",
      "source": [
        "class Thing3:\n",
        "    def __init__(self):\n",
        "        self.letters = 'xyz'\n",
        "\n",
        "# Create an object called \"obj\" from the Thing3 class\n",
        "obj = Thing3()\n",
        "\n",
        "# Print the value of the \"letters\" instance attribute\n",
        "print(obj.letters)\n"
      ],
      "metadata": {
        "id": "xkWwt-XcffT7"
      },
      "execution_count": null,
      "outputs": []
    },
    {
      "cell_type": "markdown",
      "source": [
        "The output of this code will be:\n",
        "\n",
        "Copy code\n",
        "xyz\n",
        "In this example, we define a class called \"Thing3\" with an __init__ method that assigns the value 'xyz' to the instance attribute \"letters\" using the self keyword. We then create an object called \"obj\" from the Thing3 class, and by accessing the \"letters\" attribute using obj.letters, we can print its value, which is 'xyz'."
      ],
      "metadata": {
        "id": "ymodUemvfhjy"
      }
    },
    {
      "cell_type": "markdown",
      "source": [
        "4. Create an Element class with the instance attributes name, symbol, and number. Create a class\n",
        "object with the values &#39;Hydrogen,&#39; &#39;H,&#39; and 1.\n",
        "\n",
        "\n",
        "ans:\n",
        "\n",
        "Certainly! Here's an example of an \"Element\" class with instance attributes for name, symbol, and number. We'll also create a class object with the values 'Hydrogen', 'H', and 1:"
      ],
      "metadata": {
        "id": "ptkG8sgffiK6"
      }
    },
    {
      "cell_type": "code",
      "source": [
        "class Element:\n",
        "    def __init__(self, name, symbol, number):\n",
        "        self.name = name\n",
        "        self.symbol = symbol\n",
        "        self.number = number\n",
        "\n",
        "# Create a class object with the values 'Hydrogen', 'H', and 1\n",
        "hydrogen = Element('Hydrogen', 'H', 1)\n"
      ],
      "metadata": {
        "id": "CVtUkl8ifqJK"
      },
      "execution_count": null,
      "outputs": []
    },
    {
      "cell_type": "markdown",
      "source": [
        "In this example, we define an \"Element\" class with an __init__ method that takes three arguments: name, symbol, and number. Inside the __init__ method, we assign these arguments to the respective instance attributes using self.\n",
        "\n",
        "Then, we create an object named \"hydrogen\" from the \"Element\" class by calling Element('Hydrogen', 'H', 1). This creates an instance of the class and assigns the provided values 'Hydrogen', 'H', and 1 to the name, symbol, and number attributes of the object, respectively."
      ],
      "metadata": {
        "id": "xwD3Xo5ofscR"
      }
    },
    {
      "cell_type": "markdown",
      "source": [
        "5. Make a dictionary with these keys and values: &#39;name&#39;: &#39;Hydrogen&#39;, &#39;symbol&#39;: &#39;H&#39;, &#39;number&#39;: 1. Then,\n",
        "create an object called hydrogen from class Element using this dictionary.\n",
        "\n",
        "\n",
        "ans: \n",
        "\n",
        "To create an object called \"hydrogen\" from the \"Element\" class using a dictionary with the keys and values provided, you can use dictionary unpacking. Here's an example:"
      ],
      "metadata": {
        "id": "H0FpmTGLftkx"
      }
    },
    {
      "cell_type": "code",
      "source": [
        "class Element:\n",
        "    def __init__(self, name, symbol, number):\n",
        "        self.name = name\n",
        "        self.symbol = symbol\n",
        "        self.number = number\n",
        "\n",
        "# Create a dictionary with the keys and values\n",
        "element_dict = {'name': 'Hydrogen', 'symbol': 'H', 'number': 1}\n",
        "\n",
        "# Create an object called \"hydrogen\" from the \"Element\" class using the dictionary\n",
        "hydrogen = Element(**element_dict)\n"
      ],
      "metadata": {
        "id": "fwN3Ssukf2E5"
      },
      "execution_count": null,
      "outputs": []
    },
    {
      "cell_type": "markdown",
      "source": [
        "In this example, we first define the \"Element\" class with the __init__ method that takes three arguments: name, symbol, and number. Inside the method, we assign these arguments to the respective instance attributes using self.\n",
        "\n",
        "Then, we create a dictionary called \"element_dict\" with the keys and values for the attributes of the object. Using the ** operator, we can unpack the dictionary and pass its contents as arguments to the Element class, creating an object named \"hydrogen\" with the provided attributes and values."
      ],
      "metadata": {
        "id": "FjxVC-Vyf33J"
      }
    },
    {
      "cell_type": "markdown",
      "source": [
        "6. For the Element class, define a method called dump() that prints the values of the object’s\n",
        "attributes (name, symbol, and number). Create the hydrogen object from this new definition and\n",
        "use dump() to print its attributes.\n",
        "\n",
        "ans:\n",
        "\n",
        "\n",
        "To define a method called dump() in the \"Element\" class that prints the values of the object's attributes (name, symbol, and number), you can add the following code:\n",
        "\n",
        "\n"
      ],
      "metadata": {
        "id": "SnF-YvY_f4ch"
      }
    },
    {
      "cell_type": "code",
      "source": [
        "class Element:\n",
        "    def __init__(self, name, symbol, number):\n",
        "        self.name = name\n",
        "        self.symbol = symbol\n",
        "        self.number = number\n",
        "\n",
        "    def dump(self):\n",
        "        print(f\"Name: {self.name}\")\n",
        "        print(f\"Symbol: {self.symbol}\")\n",
        "        print(f\"Number: {self.number}\")\n",
        "\n",
        "# Create the hydrogen object from the updated definition of the Element class\n",
        "hydrogen = Element('Hydrogen', 'H', 1)\n",
        "\n",
        "# Use the dump() method to print the attributes of the hydrogen object\n",
        "hydrogen.dump()\n"
      ],
      "metadata": {
        "id": "Lm5myIslgA0R"
      },
      "execution_count": null,
      "outputs": []
    },
    {
      "cell_type": "markdown",
      "source": [
        "In this example, we define the \"Element\" class with the __init__ method as before. Additionally, we define a new method called dump() within the class. This method uses self to access the attributes of the object and prints their values.\n",
        "\n",
        "Next, we create the \"hydrogen\" object using the updated definition of the \"Element\" class. Finally, we call the dump() method on the \"hydrogen\" object to print the values of its attributes (name, symbol, and number).\n",
        "\n",
        "When you run this code, it will output:\n",
        "\n",
        "makefile\n",
        "Copy code\n",
        "Name: Hydrogen\n",
        "Symbol: H\n",
        "Number: 1\n",
        "The dump() method allows you to print the attributes of the object in a formatted manner."
      ],
      "metadata": {
        "id": "0r06O62JgEv5"
      }
    },
    {
      "cell_type": "markdown",
      "source": [
        "7. Call print(hydrogen). In the definition of Element, change the name of method dump to __str__,\n",
        "create a new hydrogen object, and call print(hydrogen) again.\n",
        "\n",
        "ans:\n",
        "\n",
        "\n",
        "When you call print(hydrogen) directly, it will use the default string representation of the object, which includes information about its class and memory address. To customize the string representation, you can define the __str__ method in the \"Element\" class. Here's an updated code example:"
      ],
      "metadata": {
        "id": "a5GRaEYggFcQ"
      }
    },
    {
      "cell_type": "code",
      "source": [
        "class Element:\n",
        "    def __init__(self, name, symbol, number):\n",
        "        self.name = name\n",
        "        self.symbol = symbol\n",
        "        self.number = number\n",
        "\n",
        "    def __str__(self):\n",
        "        return f\"Name: {self.name}, Symbol: {self.symbol}, Number: {self.number}\"\n",
        "\n",
        "# Create the hydrogen object using the updated definition of the Element class\n",
        "hydrogen = Element('Hydrogen', 'H', 1)\n",
        "\n",
        "# Call print(hydrogen) to see the default string representation\n",
        "print(hydrogen)\n",
        "\n",
        "# Output using the __str__ method:\n",
        "# Name: Hydrogen, Symbol: H, Number: 1\n"
      ],
      "metadata": {
        "id": "c8cwAWetgRvF"
      },
      "execution_count": null,
      "outputs": []
    },
    {
      "cell_type": "markdown",
      "source": [
        "In this example, we redefine the dump() method as __str__() within the \"Element\" class. The __str__() method returns a formatted string representation of the object, including the values of its attributes (name, symbol, and number).\n",
        "\n",
        "We create the \"hydrogen\" object using the updated definition of the \"Element\" class. When we call print(hydrogen), it now uses the __str__() method to provide a more meaningful and customized string representation of the object.\n",
        "\n",
        "The output will be:\n",
        "\n",
        "yaml\n",
        "Copy code\n",
        "Name: Hydrogen, Symbol: H, Number: 1\n",
        "Now, the print(hydrogen) statement outputs the formatted string representation defined in the __str__() method of the \"Element\" class."
      ],
      "metadata": {
        "id": "s2FqxOzKgUSM"
      }
    },
    {
      "cell_type": "markdown",
      "source": [
        "8. Modify Element to make the attributes name, symbol, and number private. Define a getter\n",
        "property for each to return its value.\n",
        "\n",
        "\n",
        "ans:\n",
        "\n",
        "\n",
        "To modify the \"Element\" class to make the attributes name, symbol, and number private and define getter properties for each, you can use the property decorator. Here's an updated code example:"
      ],
      "metadata": {
        "id": "ywyhWstmhhuF"
      }
    },
    {
      "cell_type": "code",
      "source": [
        "class Element:\n",
        "    def __init__(self, name, symbol, number):\n",
        "        self._name = name\n",
        "        self._symbol = symbol\n",
        "        self._number = number\n",
        "\n",
        "    @property\n",
        "    def name(self):\n",
        "        return self._name\n",
        "\n",
        "    @property\n",
        "    def symbol(self):\n",
        "        return self._symbol\n",
        "\n",
        "    @property\n",
        "    def number(self):\n",
        "        return self._number\n",
        "\n",
        "# Create the hydrogen object using the updated definition of the Element class\n",
        "hydrogen = Element('Hydrogen', 'H', 1)\n",
        "\n",
        "# Access the attributes using the getter properties\n",
        "print(hydrogen.name)\n",
        "print(hydrogen.symbol)\n",
        "print(hydrogen.number)\n"
      ],
      "metadata": {
        "id": "IkGF2Q-jhmoD"
      },
      "execution_count": null,
      "outputs": []
    },
    {
      "cell_type": "markdown",
      "source": [
        "In this example, we modify the attributes name, symbol, and number by prefixing them with an underscore, which is a convention in Python to indicate that they are intended to be private. It is not enforced by the language itself, but it serves as a visual cue to other developers that these attributes should not be accessed directly.\n",
        "\n",
        "Next, we define getter properties for each attribute using the @property decorator. These getter methods allow us to retrieve the values of the private attributes in a controlled manner.\n",
        "\n",
        "Finally, we create the \"hydrogen\" object using the updated definition of the \"Element\" class. We can then access the attributes (name, symbol, and number) using the getter properties (hydrogen.name, hydrogen.symbol, and hydrogen.number).\n",
        "\n",
        "When you run this code, it will output:\n",
        "\n",
        "Copy code\n",
        "Hydrogen\n",
        "H\n",
        "1\n",
        "By using the getter properties, we can access the private attributes of the object in a controlled manner and retrieve their values.\n",
        "\n",
        "\n",
        "\n",
        "\n"
      ],
      "metadata": {
        "id": "dCIQ7tOZhqdU"
      }
    },
    {
      "cell_type": "markdown",
      "source": [
        "9. Define three classes: Bear, Rabbit, and Octothorpe. For each, define only one method: eats(). This\n",
        "should return &#39;berries&#39; (Bear), &#39;clover&#39; (Rabbit), or &#39;campers&#39; (Octothorpe). Create one object from\n",
        "each and print what it eats."
      ],
      "metadata": {
        "id": "fAxmOFzxht_j"
      }
    },
    {
      "cell_type": "markdown",
      "source": [
        "Sure! Here's an example defining the three classes: Bear, Rabbit, and Octothorpe. Each class has a method called eats() that returns a specific food item. We then create an object from each class and print what they eat:"
      ],
      "metadata": {
        "id": "3ORigVf5hwmz"
      }
    },
    {
      "cell_type": "code",
      "source": [
        "class Bear:\n",
        "    def eats(self):\n",
        "        return 'berries'\n",
        "\n",
        "class Rabbit:\n",
        "    def eats(self):\n",
        "        return 'clover'\n",
        "\n",
        "class Octothorpe:\n",
        "    def eats(self):\n",
        "        return 'campers'\n",
        "\n",
        "# Create one object from each class\n",
        "bear = Bear()\n",
        "rabbit = Rabbit()\n",
        "octothorpe = Octothorpe()\n",
        "\n",
        "# Print what each object eats\n",
        "print(bear.eats())        # Output: berries\n",
        "print(rabbit.eats())      # Output: clover\n",
        "print(octothorpe.eats())  # Output: campers\n"
      ],
      "metadata": {
        "id": "m7xa1Y7Lhyet"
      },
      "execution_count": null,
      "outputs": []
    },
    {
      "cell_type": "markdown",
      "source": [
        "In this example, we define three classes: Bear, Rabbit, and Octothorpe. Each class has a single method called eats() that returns the respective food item.\n",
        "\n",
        "We create one object from each class (bear, rabbit, and octothorpe), and then we call the eats() method on each object to print what they eat.\n",
        "\n",
        "The output will be:\n",
        "\n",
        "Copy code\n",
        "berries\n",
        "clover\n",
        "campers\n",
        "As expected, the Bear eats berries, the Rabbit eats clover, and the Octothorpe eats campers."
      ],
      "metadata": {
        "id": "SJgvNw_Qh0wE"
      }
    },
    {
      "cell_type": "markdown",
      "source": [
        "10. Define these classes: Laser, Claw, and SmartPhone. Each has only one method: does(). This\n",
        "returns &#39;disintegrate&#39; (Laser), &#39;crush&#39; (Claw), or &#39;ring&#39; (SmartPhone). Then, define the class Robot that\n",
        "has one instance (object) of each of these. Define a does() method for the Robot that prints what its\n",
        "component objects do."
      ],
      "metadata": {
        "id": "ha_f5Tdmh3-t"
      }
    },
    {
      "cell_type": "markdown",
      "source": [
        "Certainly! Here's an example that defines the classes Laser, Claw, SmartPhone, and Robot. Each class has a single method called does(), which returns a specific action. The Robot class contains one instance of each of the component classes, and it has its own does() method that prints what its component objects do:"
      ],
      "metadata": {
        "id": "z9naU3t5h6QM"
      }
    },
    {
      "cell_type": "code",
      "source": [
        "class Laser:\n",
        "    def does(self):\n",
        "        return 'disintegrate'\n",
        "\n",
        "class Claw:\n",
        "    def does(self):\n",
        "        return 'crush'\n",
        "\n",
        "class SmartPhone:\n",
        "    def does(self):\n",
        "        return 'ring'\n",
        "\n",
        "class Robot:\n",
        "    def __init__(self):\n",
        "        self.laser = Laser()\n",
        "        self.claw = Claw()\n",
        "        self.smartphone = SmartPhone()\n",
        "\n",
        "    def does(self):\n",
        "        print(\"Laser:\", self.laser.does())\n",
        "        print(\"Claw:\", self.claw.does())\n",
        "        print(\"SmartPhone:\", self.smartphone.does())\n",
        "\n",
        "# Create an instance of the Robot class\n",
        "robot = Robot()\n",
        "\n",
        "# Call the does() method of the Robot\n",
        "robot.does()\n"
      ],
      "metadata": {
        "id": "sFXi8ApQh698"
      },
      "execution_count": null,
      "outputs": []
    },
    {
      "cell_type": "markdown",
      "source": [
        "In this example, we define three classes: Laser, Claw, and SmartPhone. Each class has a single method called does() that returns a specific action.\n",
        "\n",
        "The Robot class contains one instance of each of the component classes (Laser, Claw, and SmartPhone) as its attributes (laser, claw, and smartphone). It also has its own does() method, which prints what its component objects do by calling their respective does() methods.\n",
        "\n",
        "We create an instance of the Robot class (robot) and then call its does() method to print what its component objects do.\n",
        "\n",
        "The output will be:\n",
        "\n",
        "makefile\n",
        "Copy code\n",
        "Laser: disintegrate\n",
        "Claw: crush\n",
        "SmartPhone: ring\n",
        "As expected, the Robot's component objects perform their respective actions: Laser disintegrates, Claw crushes, and SmartPhone rings."
      ],
      "metadata": {
        "id": "7tv7Lq5Th-qk"
      }
    }
  ]
}