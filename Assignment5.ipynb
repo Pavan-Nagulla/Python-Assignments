{
  "nbformat": 4,
  "nbformat_minor": 0,
  "metadata": {
    "colab": {
      "provenance": [],
      "authorship_tag": "ABX9TyN3G5u7vZKrz/xD/vwHivdf",
      "include_colab_link": true
    },
    "kernelspec": {
      "name": "python3",
      "display_name": "Python 3"
    },
    "language_info": {
      "name": "python"
    }
  },
  "cells": [
    {
      "cell_type": "markdown",
      "metadata": {
        "id": "view-in-github",
        "colab_type": "text"
      },
      "source": [
        "<a href=\"https://colab.research.google.com/github/Pavan-Nagulla/Python-Assignments/blob/main/Assignment5.ipynb\" target=\"_parent\"><img src=\"https://colab.research.google.com/assets/colab-badge.svg\" alt=\"Open In Colab\"/></a>"
      ]
    },
    {
      "cell_type": "markdown",
      "source": [
        "1. What does an empty dictionary&#39;s code look like?"
      ],
      "metadata": {
        "id": "YFezexes2t2Q"
      }
    },
    {
      "cell_type": "markdown",
      "source": [
        "in Python, an empty dictionary is represented by a pair of curly braces {}.You can create an empty dictionary and assign it to a variable."
      ],
      "metadata": {
        "id": "c7d0KCi924Dd"
      }
    },
    {
      "cell_type": "markdown",
      "source": [
        "2. What is the value of a dictionary value with the key &#39;foo&#39; and the value 42?"
      ],
      "metadata": {
        "id": "KwCy_0DD2_dI"
      }
    },
    {
      "cell_type": "code",
      "execution_count": 1,
      "metadata": {
        "colab": {
          "base_uri": "https://localhost:8080/"
        },
        "id": "Z53Ntoq72h4F",
        "outputId": "ab495047-3b61-48ff-aa39-52e73b495f58"
      },
      "outputs": [
        {
          "output_type": "stream",
          "name": "stdout",
          "text": [
            "42\n"
          ]
        }
      ],
      "source": [
        "my_dict = {'foo': 42}\n",
        "value = my_dict['foo']\n",
        "print(value)  # Output: 42\n"
      ]
    },
    {
      "cell_type": "markdown",
      "source": [
        "3. What is the most significant distinction between a dictionary and a list?\n",
        "\n",
        "Structure:\n",
        "\n",
        "Dictionary: A dictionary is an unordered collection of key-value pairs. Each key is unique within the dictionary, and it acts as an identifier for the corresponding value.\n",
        "List: A list is an ordered collection of items. The items in a list are stored in a specific sequence, and each item is identified by its position, known as the index.\n",
        "Accessing Data:\n",
        "\n",
        "Dictionary: In a dictionary, data is accessed by using the keys as the lookup mechanism. You can retrieve the value associated with a specific key by referencing the key itself.\n",
        "List: In a list, data is accessed by using the index of the item. You can retrieve an item by specifying its position or index within the list.\n",
        "Mutable vs Immutable:\n",
        "\n",
        "Dictionary: Dictionaries in Python are mutable, which means you can modify their contents by adding, updating, or deleting key-value pairs.\n",
        "List: Lists are also mutable, allowing you to change the values of existing items, add new items, or remove items from the list.\n",
        "Order:\n",
        "\n",
        "Dictionary: Dictionaries are inherently unordered, meaning that the order in which the key-value pairs are stored may not be preserved.\n",
        "List: Lists maintain the order of the items, and their positions are fixed unless explicitly modified.\n",
        "In summary, dictionaries are key-value pairs with unordered data access, while lists are ordered collections with index-based data access. Dictionaries are suitable when you need to quickly look up values based on unique keys, whereas lists are useful for maintaining an ordered collection of items."
      ],
      "metadata": {
        "id": "aYb_MZZK3Sjt"
      }
    },
    {
      "cell_type": "markdown",
      "source": [
        "4. What happens if you try to access spam[&#39;foo&#39;] if spam is {&#39;bar&#39;: 100}?\n",
        "\n",
        "\n",
        "If you try to access spam['foo'] where spam is { 'bar': 100 }, you will encounter a KeyError.\n",
        "\n",
        "In Python, when you attempt to access a key in a dictionary that does not exist, a KeyError is raised. In this case, the key 'foo' does not exist in the spam dictionary, which only has the key 'bar'. Therefore, trying to access spam['foo'] will result in a KeyError"
      ],
      "metadata": {
        "id": "3jtkqKR93t1q"
      }
    },
    {
      "cell_type": "markdown",
      "source": [
        "5. If a dictionary is stored in spam, what is the difference between the expressions &#39;cat&#39; in spam and\n",
        "&#39;cat&#39; in spam.keys()?\n",
        "\n",
        "The expressions 'cat' in spam and 'cat' in spam.keys() check for the presence of the key 'cat' in the dictionary spam, but they have a slight difference in their behavior.\n",
        "\n",
        "'cat' in spam:\n",
        "This expression checks if the key 'cat' exists directly in the dictionary spam. It returns a boolean value True if the key is present as a direct key in the dictionary, and False otherwise."
      ],
      "metadata": {
        "id": "Na8FUWDS4Dif"
      }
    },
    {
      "cell_type": "code",
      "source": [
        "spam = {'cat': 'meow', 'dog': 'woof'}\n",
        "print('cat' in spam)  # Output: True\n"
      ],
      "metadata": {
        "colab": {
          "base_uri": "https://localhost:8080/"
        },
        "id": "UpmSPaIc4UBn",
        "outputId": "8e3123bf-e8d8-4438-bad0-9b3fd46a6537"
      },
      "execution_count": 2,
      "outputs": [
        {
          "output_type": "stream",
          "name": "stdout",
          "text": [
            "True\n"
          ]
        }
      ]
    },
    {
      "cell_type": "markdown",
      "source": [
        "n this case, 'cat' in spam will return True because 'cat' is a direct key in the spam dictionary.\n",
        "\n",
        "'cat' in spam.keys():\n",
        "This expression checks if the key 'cat' exists in the keys of the dictionary spam. It returns a boolean value True if the key is present among the keys of the dictionary, and False otherwise."
      ],
      "metadata": {
        "id": "qERZ6H-l4VsY"
      }
    },
    {
      "cell_type": "code",
      "source": [
        "spam = {'cat': 'meow', 'dog': 'woof'}\n",
        "print('cat' in spam.keys())  # Output: True\n"
      ],
      "metadata": {
        "colab": {
          "base_uri": "https://localhost:8080/"
        },
        "id": "AYdWmEoh4bVD",
        "outputId": "42666c2c-436f-4912-fc32-f5c92f15a521"
      },
      "execution_count": 3,
      "outputs": [
        {
          "output_type": "stream",
          "name": "stdout",
          "text": [
            "True\n"
          ]
        }
      ]
    },
    {
      "cell_type": "markdown",
      "source": [
        "6. If a dictionary is stored in spam, what is the difference between the expressions &#39;cat&#39; in spam and\n",
        "&#39;cat&#39; in spam.values()?\n",
        "\n",
        "\n",
        "The expressions 'cat' in spam and 'cat' in spam.values() have different purposes and return different results:\n",
        "\n",
        "'cat' in spam:\n",
        "This expression checks if the key 'cat' exists in the keys of the dictionary spam. It returns a boolean value True if the key is present among the keys of the dictionary, and False otherwise."
      ],
      "metadata": {
        "id": "6_xSyX4e4drO"
      }
    },
    {
      "cell_type": "code",
      "source": [
        "spam = {'cat': 'meow', 'dog': 'woof'}\n",
        "print('cat' in spam)  # Output: True\n"
      ],
      "metadata": {
        "colab": {
          "base_uri": "https://localhost:8080/"
        },
        "id": "ZDe7sBH74u2S",
        "outputId": "46b63cac-ff7d-477a-9673-91f56455c8c3"
      },
      "execution_count": 4,
      "outputs": [
        {
          "output_type": "stream",
          "name": "stdout",
          "text": [
            "True\n"
          ]
        }
      ]
    },
    {
      "cell_type": "markdown",
      "source": [
        "n this case, 'cat' in spam will return True because 'cat' is a key in the spam dictionary.\n",
        "\n",
        "'cat' in spam.values():\n",
        "This expression checks if the value 'cat' exists in the values of the dictionary spam. It returns a boolean value True if the value is found among the values of the dictionary, and False otherwise."
      ],
      "metadata": {
        "id": "nlJ_DkCP4xDs"
      }
    },
    {
      "cell_type": "code",
      "source": [
        "spam = {'cat': 'meow', 'dog': 'woof'}\n",
        "print('cat' in spam.values())  # Output: True\n"
      ],
      "metadata": {
        "colab": {
          "base_uri": "https://localhost:8080/"
        },
        "id": "Xz2mxgnQ41br",
        "outputId": "bd9cc75a-2746-4a44-b5d7-42b87d2e6446"
      },
      "execution_count": 5,
      "outputs": [
        {
          "output_type": "stream",
          "name": "stdout",
          "text": [
            "False\n"
          ]
        }
      ]
    },
    {
      "cell_type": "markdown",
      "source": [
        "7. What is a shortcut for the following code?\n",
        "if &#39;color&#39; not in spam:\n",
        "spam[&#39;color&#39;] = &#39;black&#39;\n",
        "\n",
        "A shortcut for the given code is to use the dict.setdefault() method. The setdefault() method allows you to specify a default value for a key if the key is not already present in the dictionary. Here's the equivalent shortcut code:"
      ],
      "metadata": {
        "id": "GsuKLhCt43Rn"
      }
    },
    {
      "cell_type": "code",
      "source": [
        "spam.setdefault('color', 'black')\n"
      ],
      "metadata": {
        "colab": {
          "base_uri": "https://localhost:8080/",
          "height": 35
        },
        "id": "jpgHk46a5EOh",
        "outputId": "d80539db-ee65-43bf-9e26-d0e1e69a302c"
      },
      "execution_count": 6,
      "outputs": [
        {
          "output_type": "execute_result",
          "data": {
            "text/plain": [
              "'black'"
            ],
            "application/vnd.google.colaboratory.intrinsic+json": {
              "type": "string"
            }
          },
          "metadata": {},
          "execution_count": 6
        }
      ]
    },
    {
      "cell_type": "markdown",
      "source": [
        "The setdefault('color', 'black') method call checks if the key 'color' exists in the spam dictionary. If it does not exist, it sets the key 'color' with the default value 'black'. If the key 'color' already exists, it does not modify the existing value.\n",
        "\n",
        "This is a convenient way to add a key-value pair to the dictionary if the key doesn't already exist without explicitly using an if statement."
      ],
      "metadata": {
        "id": "cNz07Quy5Ih_"
      }
    },
    {
      "cell_type": "markdown",
      "source": [
        "8. How do you &quot;pretty print&quot; dictionary values using which module and function?\n",
        "\n",
        "\n",
        "To \"pretty print\" dictionary values in Python, you can use the pprint module, specifically the pprint() function.\n",
        "\n",
        "The pprint module provides a way to format and display data structures, including dictionaries, in a more readable and visually appealing format. It is particularly useful when dealing with complex or nested dictionaries.\n",
        "\n",
        "Here's an example of how to use the pprint() function to pretty print a dictionary:"
      ],
      "metadata": {
        "id": "L3HOPFfc5OZy"
      }
    },
    {
      "cell_type": "code",
      "source": [
        "import pprint\n",
        "\n",
        "my_dict = {'key1': 'value1', 'key2': 'value2', 'key3': 'value3'}\n",
        "\n",
        "pprint.pprint(my_dict)\n"
      ],
      "metadata": {
        "colab": {
          "base_uri": "https://localhost:8080/"
        },
        "id": "IC12QS4S5VLH",
        "outputId": "912389c5-6a2f-44bb-d77d-6796360d9f6b"
      },
      "execution_count": 7,
      "outputs": [
        {
          "output_type": "stream",
          "name": "stdout",
          "text": [
            "{'key1': 'value1', 'key2': 'value2', 'key3': 'value3'}\n"
          ]
        }
      ]
    },
    {
      "cell_type": "markdown",
      "source": [
        "The pprint.pprint() function will format and print the dictionary my_dict in a well-organized and human-readable manner, with indentation and line breaks. This makes it easier to visualize the dictionary's structure and contents.\n",
        "\n",
        "Make sure to import the pprint module before using the pprint() function."
      ],
      "metadata": {
        "id": "Y50Ny0y25aES"
      }
    }
  ]
}