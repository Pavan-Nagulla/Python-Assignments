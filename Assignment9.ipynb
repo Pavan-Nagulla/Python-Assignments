{
  "nbformat": 4,
  "nbformat_minor": 0,
  "metadata": {
    "colab": {
      "provenance": [],
      "authorship_tag": "ABX9TyNX7o5g9nX79Z2zgPbAZETf",
      "include_colab_link": true
    },
    "kernelspec": {
      "name": "python3",
      "display_name": "Python 3"
    },
    "language_info": {
      "name": "python"
    }
  },
  "cells": [
    {
      "cell_type": "markdown",
      "metadata": {
        "id": "view-in-github",
        "colab_type": "text"
      },
      "source": [
        "<a href=\"https://colab.research.google.com/github/Pavan-Nagulla/Python-Assignments/blob/main/Assignment9.ipynb\" target=\"_parent\"><img src=\"https://colab.research.google.com/assets/colab-badge.svg\" alt=\"Open In Colab\"/></a>"
      ]
    },
    {
      "cell_type": "code",
      "execution_count": null,
      "metadata": {
        "id": "xbLtFRuyZz8h"
      },
      "outputs": [],
      "source": []
    },
    {
      "cell_type": "markdown",
      "source": [
        "1. To what does a relative path refer?\n",
        "\n",
        "A relative path refers to the path of a file or directory relative to the current working directory or another reference point. It specifies the location of a file or directory based on its relationship to the current working directory or another specified starting point.\n",
        "\n",
        "Unlike an absolute path, which provides the complete path from the root directory, a relative path gives a path that is relative to the current working directory. It is often used when referencing files or directories within the same project or directory structure.\n",
        "\n",
        "For example, if the current working directory is /home/user/, a relative path like documents/file.txt refers to the file located at /home/user/documents/file.txt. The path is specified relative to the current working directory.\n",
        "\n",
        "Relative paths are useful when you want to navigate within the same project or directory structure without specifying the entire path from the root directory."
      ],
      "metadata": {
        "id": "eBPMVXK2aCWw"
      }
    },
    {
      "cell_type": "markdown",
      "source": [
        "2. What does an absolute path start with your operating system?\n",
        "\n",
        "\n",
        "\n",
        "In most operating systems, an absolute path starts with the root directory. The root directory is the highest-level directory in the file system hierarchy and serves as the starting point for navigating the file system.\n",
        "\n",
        "The root directory is represented by a forward slash (/) in Unix-like systems (e.g., Linux, macOS) and by a drive letter followed by a colon (e.g., C:) in Windows systems.\n",
        "\n",
        "Here are examples of absolute paths in different operating systems:\n",
        "\n",
        "Unix-like systems (e.g., Linux, macOS):\n",
        "\n",
        "/home/user/documents/file.txt\n",
        "/var/log/syslog\n",
        "Windows systems:\n",
        "\n",
        "C:\\Users\\User\\Documents\\file.txt\n",
        "D:\\Program Files\\Application\\app.exe\n",
        "In these examples, the paths start with the root directory (/ in Unix-like systems or drive letter + colon in Windows systems) and provide the complete path from the root to the specific file or directory.\n",
        "\n",
        "Absolute paths are independent of the current working directory and provide an unambiguous way to locate files or directories in the file system."
      ],
      "metadata": {
        "id": "FYdnVNSgaNUc"
      }
    },
    {
      "cell_type": "markdown",
      "source": [
        "3. What do the functions os.getcwd() and os.chdir() do?\n",
        "\n",
        "\n",
        "\n",
        "\n",
        "The functions os.getcwd() and os.chdir() are part of the os module in Python, which provides various functions related to operating system interactions.\n",
        "\n",
        "os.getcwd(): This function returns a string representing the current working directory. The current working directory is the directory in the file system that the Python script is currently executing in. It is the default location where files and directories are created or accessed unless specified otherwise. The os.getcwd() function allows you to retrieve the path of the current working directory.\n",
        "\n",
        "\n",
        "\n",
        "os.chdir(path): This function changes the current working directory to the specified path. It takes a string argument path that represents the directory path you want to switch to. Once os.chdir() is called, any subsequent file or directory operations will be relative to the newly set directory."
      ],
      "metadata": {
        "id": "imf-Hw20abOi"
      }
    },
    {
      "cell_type": "markdown",
      "source": [
        "4. What are the . and .. folders?\n",
        "\n",
        "\n",
        "\n",
        "In most file systems, including those used by modern operating systems, the . (dot) and .. (dot-dot) folders are special directory references.\n",
        "\n",
        ". (dot) folder: The dot folder represents the current directory. It is used to refer to the current working directory or the location where a file or script is currently executing. For example, if you are in the directory /home/user/, the . refers to /home/user/.\n",
        "\n",
        ".. (dot-dot) folder: The dot-dot folder represents the parent directory. It is used to refer to the directory that contains the current directory. For example, if you are in the directory /home/user/documents/, the .. refers to /home/user/.\n",
        "\n",
        "These special folder references are often used in file system operations to navigate and reference directories in a relative manner. They allow you to specify paths relative to the current directory or move up in the directory hierarchy.\n",
        "\n",
        "Here are a few examples of how the . and .. folders can be used:\n",
        "\n",
        "./file.txt: Refers to a file named file.txt in the current directory.\n",
        "../folder/: Refers to a directory named folder in the parent directory.\n",
        "../../file.txt: Refers to a file named file.txt in the grandparent directory.\n",
        "The . and .. folders are commonly used in command-line interfaces and file system operations to simplify path referencing and navigation."
      ],
      "metadata": {
        "id": "apVekPpXaqUP"
      }
    },
    {
      "cell_type": "markdown",
      "source": [
        "5. In C:\\bacon\\eggs\\spam.txt, which part is the dir name, and which part is the base name?\n",
        "\n",
        "\n",
        "\n",
        "In the path C:\\bacon\\eggs\\spam.txt:\n",
        "\n",
        "The directory name (dir name) is C:\\bacon\\eggs. It represents the path to the directory containing the file spam.txt.\n",
        "The base name is spam.txt. It refers to the name of the file itself, without the directory path.\n",
        "In general, the directory name represents the path to the directory containing a file or directory, while the base name refers to the name of the specific file or directory."
      ],
      "metadata": {
        "id": "ReisonkMbKJp"
      }
    },
    {
      "cell_type": "markdown",
      "source": [
        "6. What are the three “mode” arguments that can be passed to the open() function?\n",
        "\n",
        "\n",
        "The open() function in Python accepts three main \"mode\" arguments that specify how the file should be opened and accessed. These modes are represented by strings and control the operations that can be performed on the file. The three mode arguments are:\n",
        "\n",
        "\"r\" (Read Mode): This is the default mode. It allows reading the contents of an existing file. If the file does not exist, it raises a FileNotFoundError. In read mode, the file's contents can be read using methods like read(), readline(), or readlines().\n",
        "\n",
        "\"w\" (Write Mode): This mode is used to create a new file or overwrite the contents of an existing file. If the file does not exist, it will be created. If it does exist, the previous contents will be discarded. Writing to a file in this mode starts from the beginning, and any existing contents are replaced. If the file does not exist, it will be created. If it exists, its contents will be truncated. You can write to the file using methods like write() or writelines().\n",
        "\n",
        "\"a\" (Append Mode): This mode is used to open a file for appending data. It allows you to add new content to the end of an existing file. If the file does not exist, it will be created. The file pointer is positioned at the end of the file, so any data written will be appended. You can write to the file using methods like write() or writelines().\n",
        "\n",
        "These modes can be combined with additional characters to specify additional behaviors, such as adding \"b\" for binary mode (\"rb\", \"wb\", \"ab\") or adding \"+\" to allow both reading and writing (\"r+\", \"w+\", \"a+\")."
      ],
      "metadata": {
        "id": "h3JI850wbT6f"
      }
    },
    {
      "cell_type": "markdown",
      "source": [
        "7. What happens if an existing file is opened in write mode?\n",
        "\n",
        "\n",
        "\n",
        "If an existing file is opened in write mode (\"w\"), the file is truncated, and its previous contents are completely discarded. The file is essentially cleared and ready to be written with new content.\n",
        "\n",
        "Here's what happens when an existing file is opened in write mode:\n",
        "\n",
        "If the file exists: The existing file is opened, and its contents are immediately truncated. This means that the file is emptied, and any data previously stored in the file is deleted.\n",
        "\n",
        "If the file does not exist: If the file specified does not exist, a new file with the given name is created.\n",
        "\n",
        "Once the file is opened in write mode, you can write new data to the file using methods like write() or writelines(). The written content will replace any previous contents that were present in the file before opening it in write mode.\n",
        "\n",
        "It's important to exercise caution when opening a file in write mode, as any existing data will be permanently lost. Make sure to double-check and take necessary precautions to prevent accidental data loss."
      ],
      "metadata": {
        "id": "R4ifB0_obc2P"
      }
    },
    {
      "cell_type": "markdown",
      "source": [
        "8. How do you tell the difference between read() and readlines()?\n",
        "\n",
        "\n",
        "\n",
        "The read() and readlines() methods are used to read the contents of a file in Python, but they differ in how they return the data:\n",
        "\n",
        "read(): This method reads the entire contents of a file as a single string. It returns a string that includes all the characters in the file, including newline characters ('\\n'). The read() method allows you to specify the maximum number of characters to read as an optional parameter. If no parameter is specified, it reads the entire file.\n",
        "\n",
        "\n",
        "readlines(): This method reads the contents of a file and returns a list where each element corresponds to a line in the file. Each line in the list includes the newline character at the end ('\\n'). If you want to remove the newline characters, you can use the strip() method on each line.\n"
      ],
      "metadata": {
        "id": "VO-Mrj-ablRr"
      }
    },
    {
      "cell_type": "markdown",
      "source": [
        "9. What data structure does a shelf value resemble?\n",
        "\n",
        "\n",
        "\n",
        "In Python, the shelf module provides a dictionary-like object that persists its data to disk. The data structure that a shelf value resembles is a dictionary.\n",
        "\n",
        "The shelf module allows you to store and retrieve key-value pairs, similar to a dictionary. The difference is that the data is persisted to disk, allowing it to be accessed across multiple program executions.\n",
        "\n",
        "Here's an example of how to use a shelf:"
      ],
      "metadata": {
        "id": "nFZ71hbibv0y"
      }
    },
    {
      "cell_type": "code",
      "source": [
        "import shelve\n",
        "\n",
        "# Open a shelf file\n",
        "with shelve.open('mydata') as shelf:\n",
        "    # Assign values\n",
        "    shelf['key1'] = 'value1'\n",
        "    shelf['key2'] = 'value2'\n",
        "    shelf['key3'] = 'value3'\n",
        "\n",
        "    # Access values\n",
        "    print(shelf['key1'])\n",
        "    print(shelf['key2'])\n",
        "    print(shelf['key3'])\n",
        "\n",
        "    # Iterate over keys\n",
        "    for key in shelf.keys():\n",
        "        print(key)\n",
        "\n",
        "    # Close the shelf\n",
        "    shelf.close()\n"
      ],
      "metadata": {
        "id": "oBfajzS3b3Wp"
      },
      "execution_count": null,
      "outputs": []
    },
    {
      "cell_type": "markdown",
      "source": [
        "In this example, the shelf behaves like a dictionary, allowing you to assign values to keys and retrieve them. The data is stored persistently in a file called 'mydata'. You can access the values using the key as you would in a dictionary.\n",
        "\n",
        "So, a shelf value in Python resembles a dictionary data structure with the additional capability of persistently storing the data to disk."
      ],
      "metadata": {
        "id": "Ylz-4Fbeb5Lx"
      }
    }
  ]
}