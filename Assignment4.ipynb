{
  "nbformat": 4,
  "nbformat_minor": 0,
  "metadata": {
    "colab": {
      "provenance": [],
      "authorship_tag": "ABX9TyNqXHsxsL4WFJxJapMtoUo5",
      "include_colab_link": true
    },
    "kernelspec": {
      "name": "python3",
      "display_name": "Python 3"
    },
    "language_info": {
      "name": "python"
    }
  },
  "cells": [
    {
      "cell_type": "markdown",
      "metadata": {
        "id": "view-in-github",
        "colab_type": "text"
      },
      "source": [
        "<a href=\"https://colab.research.google.com/github/Pavan-Nagulla/Python-Assignments/blob/main/Assignment4.ipynb\" target=\"_parent\"><img src=\"https://colab.research.google.com/assets/colab-badge.svg\" alt=\"Open In Colab\"/></a>"
      ]
    },
    {
      "cell_type": "markdown",
      "source": [
        "1. What exactly is []?"
      ],
      "metadata": {
        "id": "41O8tavbboSr"
      }
    },
    {
      "cell_type": "markdown",
      "source": [
        "The brackets [] typically denote an empty list in many programming languages, including Python. A list is a data structure that can hold an ordered collection of items. When the brackets [] are empty, it means that the list does not contain any elements.\n",
        "\n",
        "\n",
        "\n",
        "\n"
      ],
      "metadata": {
        "id": "Wx7hBVnbb_jI"
      }
    },
    {
      "cell_type": "markdown",
      "source": [
        "2. In a list of values stored in a variable called spam, how would you assign the value &#39;hello&#39; as the\n",
        "third value? (Assume [2, 4, 6, 8, 10] are in spam.)"
      ],
      "metadata": {
        "id": "XWJ61q9lcCkY"
      }
    },
    {
      "cell_type": "code",
      "execution_count": 1,
      "metadata": {
        "colab": {
          "base_uri": "https://localhost:8080/"
        },
        "id": "4gjNvSOgawQM",
        "outputId": "02caddc9-3424-4b61-b003-aaa5e437d544"
      },
      "outputs": [
        {
          "output_type": "stream",
          "name": "stdout",
          "text": [
            "[2, 4, 'hello', 8, 10]\n"
          ]
        }
      ],
      "source": [
        "spam = [2, 4, 6, 8, 10]\n",
        "spam[2] = 'hello'\n",
        "print(spam)\n"
      ]
    },
    {
      "cell_type": "markdown",
      "source": [
        "Let&#39;s pretend the spam includes the list [&#39;a&#39;, &#39;b&#39;, &#39;c&#39;, &#39;d&#39;] for the next three queries.\n",
        "3. What is the value of spam[int(int(&#39;3&#39; * 2) / 11)]?"
      ],
      "metadata": {
        "id": "oLfdEv6acMRC"
      }
    },
    {
      "cell_type": "code",
      "source": [
        "spam = [\"a\",\"b\",\"c\",\"d\"]\n",
        "spam = spam[int(int('3'*2)/11)]\n",
        "print(spam)"
      ],
      "metadata": {
        "colab": {
          "base_uri": "https://localhost:8080/"
        },
        "id": "KlaPL-9bcz0S",
        "outputId": "99056021-0b13-449d-a985-69a03accff9d"
      },
      "execution_count": 2,
      "outputs": [
        {
          "output_type": "stream",
          "name": "stdout",
          "text": [
            "d\n"
          ]
        }
      ]
    },
    {
      "cell_type": "markdown",
      "source": [
        "4. What is the value of spam[-1]?"
      ],
      "metadata": {
        "id": "xnDsmqgAcy5j"
      }
    },
    {
      "cell_type": "code",
      "source": [
        "print(spam[-1])"
      ],
      "metadata": {
        "colab": {
          "base_uri": "https://localhost:8080/"
        },
        "id": "ei6Ji4i4dMF3",
        "outputId": "71c1f651-9e1d-4d91-841f-c8475871e63f"
      },
      "execution_count": 3,
      "outputs": [
        {
          "output_type": "stream",
          "name": "stdout",
          "text": [
            "d\n"
          ]
        }
      ]
    },
    {
      "cell_type": "markdown",
      "source": [
        "5. What is the value of spam[:2]?"
      ],
      "metadata": {
        "id": "uF8PfB0ZdQyp"
      }
    },
    {
      "cell_type": "code",
      "source": [
        "spam = ['a','b','c','d']\n",
        "print(spam[:2])"
      ],
      "metadata": {
        "colab": {
          "base_uri": "https://localhost:8080/"
        },
        "id": "4SbmfFkjdTos",
        "outputId": "af26d0a1-a725-4eb8-c43d-50ff69fc794d"
      },
      "execution_count": 5,
      "outputs": [
        {
          "output_type": "stream",
          "name": "stdout",
          "text": [
            "['a', 'b']\n"
          ]
        }
      ]
    },
    {
      "cell_type": "markdown",
      "source": [
        "Let&#39;s pretend bacon has the list [3.14, &#39;cat,&#39; 11, &#39;cat,&#39; True] for the next three questions.\n",
        "6. What is the value of bacon.index(&#39;cat&#39;)?"
      ],
      "metadata": {
        "id": "RMyXek50derO"
      }
    },
    {
      "cell_type": "code",
      "source": [
        "bacon = [3.14, 'cat', 11, 'cat', True]\n",
        "index = bacon.index('cat')\n",
        "print(index)\n"
      ],
      "metadata": {
        "colab": {
          "base_uri": "https://localhost:8080/"
        },
        "id": "d0zQtDOddjmw",
        "outputId": "36f1c63f-bebc-434e-e17a-eeeaa8c2d261"
      },
      "execution_count": 6,
      "outputs": [
        {
          "output_type": "stream",
          "name": "stdout",
          "text": [
            "1\n"
          ]
        }
      ]
    },
    {
      "cell_type": "markdown",
      "source": [
        "7. How does bacon.append(99) change the look of the list value in bacon?"
      ],
      "metadata": {
        "id": "ATMHbKlAdvFA"
      }
    },
    {
      "cell_type": "code",
      "source": [
        "bacon = [3.14, 'cat', 11, 'cat', True]\n",
        "bacon.append(99)\n",
        "print(bacon)\n"
      ],
      "metadata": {
        "colab": {
          "base_uri": "https://localhost:8080/"
        },
        "id": "_m02q0ZUdzOX",
        "outputId": "fc18ca78-faee-49f1-cff6-1cae35b40f75"
      },
      "execution_count": 10,
      "outputs": [
        {
          "output_type": "stream",
          "name": "stdout",
          "text": [
            "[3.14, 'cat', 11, 'cat', True, 99]\n"
          ]
        }
      ]
    },
    {
      "cell_type": "markdown",
      "source": [
        "8. How does bacon.remove(&#39;cat&#39;) change the look of the list in bacon?"
      ],
      "metadata": {
        "id": "LcP43eBtffIn"
      }
    },
    {
      "cell_type": "code",
      "source": [
        "bacon = [3.14, 'cat', 11, 'cat', True]\n",
        "bacon.remove('cat')\n",
        "print(bacon)\n"
      ],
      "metadata": {
        "colab": {
          "base_uri": "https://localhost:8080/"
        },
        "id": "Q_rOq4tFesvW",
        "outputId": "84191a20-d7a2-4b95-cd60-99c869307adf"
      },
      "execution_count": 11,
      "outputs": [
        {
          "output_type": "stream",
          "name": "stdout",
          "text": [
            "[3.14, 11, 'cat', True]\n"
          ]
        }
      ]
    },
    {
      "cell_type": "markdown",
      "source": [
        "9. What are the list concatenation and list replication operators?"
      ],
      "metadata": {
        "id": "fPY-kizUf5Wu"
      }
    },
    {
      "cell_type": "markdown",
      "source": [
        "The list concatenation operator in Python is the plus sign (+). It is used to combine two or more lists into a single list. When the plus sign is used between two lists, it creates a new list that contains all the elements from both lists in the order they appear. Here's an example:"
      ],
      "metadata": {
        "id": "P2x-8CYwg-4s"
      }
    },
    {
      "cell_type": "code",
      "source": [
        "list1 = [1, 2, 3]\n",
        "list2 = [4, 5, 6]\n",
        "concatenated_list = list1 + list2\n",
        "print(concatenated_list)\n"
      ],
      "metadata": {
        "colab": {
          "base_uri": "https://localhost:8080/"
        },
        "id": "BsmGW88kgux9",
        "outputId": "f06c51c8-051f-4c57-d95e-31b2139740f0"
      },
      "execution_count": 12,
      "outputs": [
        {
          "output_type": "stream",
          "name": "stdout",
          "text": [
            "[1, 2, 3, 4, 5, 6]\n"
          ]
        }
      ]
    },
    {
      "cell_type": "markdown",
      "source": [
        "The list replication operator in Python is the asterisk (*) symbol. It is used to create a new list by replicating the elements of an existing list a specified number of times. Here's an example:"
      ],
      "metadata": {
        "id": "rJJIkv5nhJ1p"
      }
    },
    {
      "cell_type": "code",
      "source": [
        "list1 = [1, 2, 3]\n",
        "replicated_list = list1 * 3\n",
        "print(replicated_list)\n"
      ],
      "metadata": {
        "colab": {
          "base_uri": "https://localhost:8080/"
        },
        "id": "xv2wdhmThTlY",
        "outputId": "fe61f58c-cec1-4610-ec32-d3dc493f5756"
      },
      "execution_count": 13,
      "outputs": [
        {
          "output_type": "stream",
          "name": "stdout",
          "text": [
            "[1, 2, 3, 1, 2, 3, 1, 2, 3]\n"
          ]
        }
      ]
    },
    {
      "cell_type": "markdown",
      "source": [
        "10. What is difference between the list methods append() and insert()?"
      ],
      "metadata": {
        "id": "7pyyInqzhV-Q"
      }
    },
    {
      "cell_type": "markdown",
      "source": [
        "The append() method is used to add an element to the end of a list. It takes a single argument, which is the element to be added. The append() method modifies the original list by adding the element as the last item.The insert() method is used to add an element at a specific position within the list. It takes two arguments: the index where the element should be inserted and the element to be inserted. The insert() method modifies the original list by inserting the element at the specified index, shifting the existing elements to the right."
      ],
      "metadata": {
        "id": "oMccVOZLhbUL"
      }
    },
    {
      "cell_type": "markdown",
      "source": [
        "11. What are the two methods for removing items from a list?\n",
        "\n"
      ],
      "metadata": {
        "id": "XaID1iXzih-8"
      }
    },
    {
      "cell_type": "markdown",
      "source": [
        "The remove() method is used to remove the first occurrence of a specified value from the list. It takes a single argument, which is the value to be removed. The remove() method modifies the original list by removing the first occurrence of the specified value.The pop() method is used to remove an element from a list at a specified index. It takes an optional index argument and returns the removed element. If no index is specified, pop() removes and returns the last element in the list. The pop() method modifies the original list by removing the specified element."
      ],
      "metadata": {
        "id": "ll7EDznsij_j"
      }
    },
    {
      "cell_type": "markdown",
      "source": [
        "12. Describe how list values and string values are identical.\n",
        "\n"
      ],
      "metadata": {
        "id": "UmsdasRXs3e3"
      }
    },
    {
      "cell_type": "markdown",
      "source": [
        "Sequential and Ordered: Both lists and strings are sequential and ordered. They maintain the order of their elements or characters, meaning the elements or characters are stored and accessed in a specific sequence.\n",
        "\n",
        "Indexing and Slicing: Lists and strings can be accessed using indexing and slicing operations. Indexing allows you to access individual elements or characters by their position, and slicing allows you to extract sublists or substrings by specifying a range of indices.\n",
        "\n",
        "Iterable: Both lists and strings are iterable. They can be used in loops, such as for loops, to iterate over their elements or characters one by one.\n",
        "\n",
        "Length: Both lists and strings have a length that represents the number of elements or characters they contain. You can use the len() function to determine the length of a list or a string.\n",
        "\n",
        "Concatenation: Lists and strings can be concatenated using the + operator. This operation combines two lists or strings to create a new list or string containing all the elements or characters from both operands."
      ],
      "metadata": {
        "id": "-uIGNSuxs4xh"
      }
    },
    {
      "cell_type": "markdown",
      "source": [
        "13. What&#39;s the difference between tuples and lists?"
      ],
      "metadata": {
        "id": "Lr7LdDFVs9Fd"
      }
    },
    {
      "cell_type": "markdown",
      "source": [
        "Mutability: The main difference between tuples and lists is mutability. Lists are mutable, meaning their elements can be modified, added, or removed after the list is created. Tuples, on the other hand, are immutable, meaning their elements cannot be changed once the tuple is created. You can't add, remove, or modify elements in a tuple.\n",
        "\n",
        "Syntax: Lists are defined using square brackets ([]), while tuples are defined using parentheses (()).\n",
        "\n",
        "Usage: Lists are commonly used when you have a collection of items that may change or need to be modified dynamically. You can add or remove elements from a list, reorder the elements, or modify specific elements. Tuples, on the other hand, are often used when you want to group related values together, particularly when you want to ensure the values remain unchanged. Tuples are typically used for fixed data, such as coordinates, dates, or configuration settings.\n",
        "\n",
        "Performance: Tuples are generally more efficient in terms of memory and performance compared to lists. Since tuples are immutable, Python can optimize their storage and operations. Lists, being mutable, require more memory and may be slower for certain operations like appending or modifying elements.\n",
        "\n",
        "Methods: Lists have a wider range of built-in methods available for manipulation, such as append(), remove(), and sort(). Tuples, being immutable, have fewer methods available. However, both tuples and lists share common methods like indexing, slicing, and len()."
      ],
      "metadata": {
        "id": "wnBhoM5RtZOu"
      }
    },
    {
      "cell_type": "markdown",
      "source": [
        "14. How do you type a tuple value that only contains the integer 42?"
      ],
      "metadata": {
        "id": "NXMF9vgXtdl2"
      }
    },
    {
      "cell_type": "markdown",
      "source": [
        "\n",
        "To create a tuple value that only contains the integer 42, you can use the following syntax:\n",
        "\n",
        "python\n",
        "Copy code\n",
        "my_tuple = (42,)\n",
        "Note the presence of a trailing comma after the integer 42. In Python, a tuple with a single element requires a comma to differentiate it from an expression surrounded by parentheses.\n",
        "\n",
        "Without the trailing comma, Python interprets the expression (42) as an integer surrounded by parentheses rather than a tuple. Adding the comma makes it clear that you intend to create a tuple with a single element."
      ],
      "metadata": {
        "id": "QCqd0Clhtn_o"
      }
    },
    {
      "cell_type": "markdown",
      "source": [
        "15. How do you get a list value&#39;s tuple form? How do you get a tuple value&#39;s list form?"
      ],
      "metadata": {
        "id": "3mkq1ELJt53X"
      }
    },
    {
      "cell_type": "code",
      "source": [
        "my_list = [1, 2, 3, 4]\n",
        "my_tuple = tuple(my_list)\n",
        "print(my_tuple)\n"
      ],
      "metadata": {
        "colab": {
          "base_uri": "https://localhost:8080/"
        },
        "id": "LBIkPljDt8IV",
        "outputId": "7d0bafb9-5047-4efb-fa14-2f446df567df"
      },
      "execution_count": 14,
      "outputs": [
        {
          "output_type": "stream",
          "name": "stdout",
          "text": [
            "(1, 2, 3, 4)\n"
          ]
        }
      ]
    },
    {
      "cell_type": "code",
      "source": [
        "my_tuple = (1, 2, 3, 4)\n",
        "my_list = list(my_tuple)\n",
        "print(my_list)\n"
      ],
      "metadata": {
        "colab": {
          "base_uri": "https://localhost:8080/"
        },
        "id": "TWM27NA-uBTa",
        "outputId": "476fa4c9-ddac-4c82-b6c6-4dbcd173a73e"
      },
      "execution_count": 15,
      "outputs": [
        {
          "output_type": "stream",
          "name": "stdout",
          "text": [
            "[1, 2, 3, 4]\n"
          ]
        }
      ]
    },
    {
      "cell_type": "markdown",
      "source": [
        "16. Variables that &quot;contain&quot; list values are not necessarily lists themselves. Instead, what do they\n",
        "contain?"
      ],
      "metadata": {
        "id": "FsypGLHeuKjQ"
      }
    },
    {
      "cell_type": "markdown",
      "source": [
        "\n",
        "Variables that \"contain\" list values in Python do not actually contain the list itself. Instead, they contain a reference to the list. In Python, variables are essentially labels or names assigned to objects in memory.\n",
        "\n",
        "When you assign a list to a variable, the variable holds a reference to the memory location where the list is stored. This means that the variable points to the list rather than directly containing the list's elements.\n",
        "\n"
      ],
      "metadata": {
        "id": "C3uldBucuR8t"
      }
    },
    {
      "cell_type": "code",
      "source": [
        "my_list = [1, 2, 3]\n",
        "other_list = my_list\n",
        "\n",
        "my_list.append(4)\n",
        "print(other_list)\n"
      ],
      "metadata": {
        "colab": {
          "base_uri": "https://localhost:8080/"
        },
        "id": "oPKDfiQxuXOe",
        "outputId": "8f56b9d8-fbaf-4f7f-dae2-0550337adcc3"
      },
      "execution_count": 16,
      "outputs": [
        {
          "output_type": "stream",
          "name": "stdout",
          "text": [
            "[1, 2, 3, 4]\n"
          ]
        }
      ]
    },
    {
      "cell_type": "markdown",
      "source": [
        "17. How do you distinguish between copy.copy() and copy.deepcopy()?"
      ],
      "metadata": {
        "id": "msP-WBzJubS7"
      }
    },
    {
      "cell_type": "markdown",
      "source": [
        "The copy.copy() function performs a shallow copy of an object. It creates a new object and copies the references of the original object's elements. If the object being copied contains nested objects (e.g., lists within lists, dictionaries within dictionaries), the new object will have references to the same nested objects as the original. Modifying the nested objects in the new object will affect the original object as well.\n",
        "\n",
        "Example:"
      ],
      "metadata": {
        "id": "7gCdssueuiH4"
      }
    },
    {
      "cell_type": "code",
      "source": [
        "import copy\n",
        "\n",
        "original_list = [1, [2, 3]]\n",
        "copied_list = copy.copy(original_list)\n",
        "\n",
        "copied_list[1].append(4)\n",
        "print(original_list)  # Output: [1, [2, 3, 4]]\n"
      ],
      "metadata": {
        "colab": {
          "base_uri": "https://localhost:8080/"
        },
        "id": "haYkRM6susi8",
        "outputId": "7c583287-1315-47fb-a45c-eecb431ad09b"
      },
      "execution_count": 17,
      "outputs": [
        {
          "output_type": "stream",
          "name": "stdout",
          "text": [
            "[1, [2, 3, 4]]\n"
          ]
        }
      ]
    },
    {
      "cell_type": "markdown",
      "source": [
        "The copy.deepcopy() function performs a deep copy of an object. It creates a new object and recursively copies all nested objects within the original object. The new object will have completely separate copies of all nested objects, ensuring that modifications made to the copies will not affect the original object"
      ],
      "metadata": {
        "id": "rbQw6i_nuu-m"
      }
    },
    {
      "cell_type": "code",
      "source": [
        "import copy\n",
        "\n",
        "original_list = [1, [2, 3]]\n",
        "deep_copied_list = copy.deepcopy(original_list)\n",
        "\n",
        "deep_copied_list[1].append(4)\n",
        "print(original_list)  # Output: [1, [2, 3]]\n"
      ],
      "metadata": {
        "colab": {
          "base_uri": "https://localhost:8080/"
        },
        "id": "1AB635xhu0dt",
        "outputId": "c9aad82b-37ef-441e-ea3b-4a71f12da352"
      },
      "execution_count": 18,
      "outputs": [
        {
          "output_type": "stream",
          "name": "stdout",
          "text": [
            "[1, [2, 3]]\n"
          ]
        }
      ]
    }
  ]
}