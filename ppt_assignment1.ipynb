{
  "nbformat": 4,
  "nbformat_minor": 0,
  "metadata": {
    "colab": {
      "provenance": [],
      "authorship_tag": "ABX9TyNSnFYymzG4N30fB/upmr+4",
      "include_colab_link": true
    },
    "kernelspec": {
      "name": "python3",
      "display_name": "Python 3"
    },
    "language_info": {
      "name": "python"
    }
  },
  "cells": [
    {
      "cell_type": "markdown",
      "metadata": {
        "id": "view-in-github",
        "colab_type": "text"
      },
      "source": [
        "<a href=\"https://colab.research.google.com/github/Pavan-Nagulla/Python-Assignments/blob/main/ppt_assignment1.ipynb\" target=\"_parent\"><img src=\"https://colab.research.google.com/assets/colab-badge.svg\" alt=\"Open In Colab\"/></a>"
      ]
    },
    {
      "cell_type": "code",
      "execution_count": 2,
      "metadata": {
        "colab": {
          "base_uri": "https://localhost:8080/"
        },
        "id": "kn34ykQ2shzv",
        "outputId": "a7391297-5299-4934-fc71-f2331b93b1c2"
      },
      "outputs": [
        {
          "output_type": "stream",
          "name": "stdout",
          "text": [
            "2\n"
          ]
        }
      ],
      "source": [
        "# Definition for singly-linked list.\n",
        "class ListNode:\n",
        "    def __init__(self, val=0, next=None):\n",
        "        self.val = val\n",
        "        self.next = next\n",
        "\n",
        "def addTwoNumbers(l1, l2):\n",
        "    dummy = ListNode(0)  # Create a dummy node to track the head of the result list\n",
        "    curr = dummy  # Initialize a current node to build the result list\n",
        "    carry = 0  # Initialize the carry to 0\n",
        "\n",
        "    while l1 or l2 or carry:\n",
        "        # Get the values of the current digits (or 0 if the end of the list is reached)\n",
        "        val1 = l1.val if l1 else 0\n",
        "        val2 = l2.val if l2 else 0\n",
        "\n",
        "        # Calculate the sum and carry\n",
        "        sum_val = val1 + val2 + carry\n",
        "        carry = sum_val // 10\n",
        "        digit = sum_val % 10\n",
        "\n",
        "        # Create a new node with the calculated digit and connect it to the result list\n",
        "        curr.next = ListNode(digit)\n",
        "        curr = curr.next\n",
        "\n",
        "        # Move to the next digits in the input lists if available\n",
        "        if l1:\n",
        "            l1 = l1.next\n",
        "        if l2:\n",
        "            l2 = l2.next\n",
        "\n",
        "    return dummy.next  # Return the head of the result list (skipping the dummy node)\n",
        "\n"
      ]
    }
  ]
}