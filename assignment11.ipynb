{
  "nbformat": 4,
  "nbformat_minor": 0,
  "metadata": {
    "colab": {
      "provenance": [],
      "authorship_tag": "ABX9TyPszsHHaiZQ2yLEVb9pO+i2",
      "include_colab_link": true
    },
    "kernelspec": {
      "name": "python3",
      "display_name": "Python 3"
    },
    "language_info": {
      "name": "python"
    }
  },
  "cells": [
    {
      "cell_type": "markdown",
      "metadata": {
        "id": "view-in-github",
        "colab_type": "text"
      },
      "source": [
        "<a href=\"https://colab.research.google.com/github/Pavan-Nagulla/Python-Assignments/blob/main/assignment11.ipynb\" target=\"_parent\"><img src=\"https://colab.research.google.com/assets/colab-badge.svg\" alt=\"Open In Colab\"/></a>"
      ]
    },
    {
      "cell_type": "markdown",
      "source": [
        "1. Create an assert statement that throws an AssertionError if the variable spam is a negative\n",
        "integer."
      ],
      "metadata": {
        "id": "EstGhe-hVEF0"
      }
    },
    {
      "cell_type": "code",
      "execution_count": null,
      "metadata": {
        "colab": {
          "base_uri": "https://localhost:8080/",
          "height": 171
        },
        "id": "nBXiIk13VBDX",
        "outputId": "d23c4c74-77f1-498c-a203-30451b725ead"
      },
      "outputs": [
        {
          "output_type": "error",
          "ename": "NameError",
          "evalue": "ignored",
          "traceback": [
            "\u001b[0;31m---------------------------------------------------------------------------\u001b[0m",
            "\u001b[0;31mNameError\u001b[0m                                 Traceback (most recent call last)",
            "\u001b[0;32m<ipython-input-1-04907d43252b>\u001b[0m in \u001b[0;36m<cell line: 1>\u001b[0;34m()\u001b[0m\n\u001b[0;32m----> 1\u001b[0;31m \u001b[0;32massert\u001b[0m \u001b[0mspam\u001b[0m \u001b[0;34m>=\u001b[0m \u001b[0;36m0\u001b[0m\u001b[0;34m,\u001b[0m \u001b[0;34m\"spam should be a non-negative integer\"\u001b[0m\u001b[0;34m\u001b[0m\u001b[0;34m\u001b[0m\u001b[0m\n\u001b[0m",
            "\u001b[0;31mNameError\u001b[0m: name 'spam' is not defined"
          ]
        }
      ],
      "source": [
        "assert spam >= 0, \"spam should be a non-negative integer\"\n"
      ]
    },
    {
      "cell_type": "markdown",
      "source": [
        "In this example, the assert statement checks if the variable spam is greater than or equal to 0. If spam is negative, it will raise an AssertionError with the given error message \"spam should be a non-negative integer\"."
      ],
      "metadata": {
        "id": "BEkB54-XVMQb"
      }
    },
    {
      "cell_type": "markdown",
      "source": [
        "2. Write an assert statement that triggers an AssertionError if the variables eggs and bacon contain\n",
        "strings that are the same as each other, even if their cases are different (that is, &#39;hello&#39; and &#39;hello&#39; are\n",
        "considered the same, and &#39;goodbye&#39; and &#39;GOODbye&#39; are also considered the same).\n",
        "\n",
        "\n",
        "ans: \n",
        "\n",
        "To compare two strings while ignoring the case, you can convert both strings to lowercase or uppercase and then compare them. Here's an example of an assert statement that triggers an AssertionError if the variables eggs and bacon contain strings that are the same as each other, regardless of their case:"
      ],
      "metadata": {
        "id": "Anx6LHHgVVPL"
      }
    },
    {
      "cell_type": "code",
      "source": [
        "assert eggs.lower() != bacon.lower(), \"eggs and bacon should be different strings (ignoring case)\"\n"
      ],
      "metadata": {
        "id": "4XeiJdCIVixm"
      },
      "execution_count": null,
      "outputs": []
    },
    {
      "cell_type": "markdown",
      "source": [
        "In this example, the assert statement compares the lowercase versions of eggs and bacon using the lower() method. If the lowercase versions are the same, indicating that the strings are the same regardless of case, it will raise an AssertionError with the given error message \"eggs and bacon should be different strings (ignoring case)\"."
      ],
      "metadata": {
        "id": "0NntITMeVmxD"
      }
    },
    {
      "cell_type": "markdown",
      "source": [
        "3. Create an assert statement that throws an AssertionError every time.\n",
        "\n",
        "\n",
        "ans: \n",
        "\n",
        "\n",
        "To create an assert statement that throws an AssertionError every time, you can simply use the assert keyword without specifying any condition. Here's an example:"
      ],
      "metadata": {
        "id": "GIpk5aQ7VngD"
      }
    },
    {
      "cell_type": "code",
      "source": [
        "assert False, \"This assert statement always triggers an AssertionError\"\n"
      ],
      "metadata": {
        "id": "zyrDYvqTVwKj"
      },
      "execution_count": null,
      "outputs": []
    },
    {
      "cell_type": "markdown",
      "source": [
        "In this example, the assert statement has a condition of False, which is always false. Therefore, it will raise an AssertionError with the provided error message \"This assert statement always triggers an AssertionError\"."
      ],
      "metadata": {
        "id": "K1gcZqucVzLb"
      }
    },
    {
      "cell_type": "markdown",
      "source": [
        "4. What are the two lines that must be present in your software in order to call logging.debug()?\n",
        "\n",
        "\n",
        "ans: \n",
        "\n",
        "To call logging.debug() in your software, you need to have the following two lines present:"
      ],
      "metadata": {
        "id": "qnSFAHLbVzyL"
      }
    },
    {
      "cell_type": "code",
      "source": [
        "import logging\n",
        "\n",
        "logging.basicConfig(level=logging.DEBUG)\n"
      ],
      "metadata": {
        "id": "kg8sm4fSV7wc"
      },
      "execution_count": null,
      "outputs": []
    },
    {
      "cell_type": "markdown",
      "source": [
        "The first line imports the logging module, which provides the functionality for logging in Python. The second line configures the logging system to output messages at the DEBUG level or higher. You can adjust the logging level as per your requirement (e.g., logging.INFO, logging.WARNING, logging.ERROR, etc.).\n",
        "\n",
        "With these two lines in place, you can use logging.debug() to log debug-level messages in your software."
      ],
      "metadata": {
        "id": "gpDdzbymV9dr"
      }
    },
    {
      "cell_type": "markdown",
      "source": [
        "5. What are the two lines that your program must have in order to have logging.debug() send a\n",
        "logging message to a file named programLog.txt?\n",
        "\n",
        "\n",
        "ans:\n",
        "\n",
        "\n",
        "To have logging.debug() send a logging message to a file named \"programLog.txt\", you need to include the following two lines in your program:"
      ],
      "metadata": {
        "id": "Cc0SkqVHV_u7"
      }
    },
    {
      "cell_type": "code",
      "source": [
        "import logging\n",
        "\n",
        "logging.basicConfig(filename='programLog.txt', level=logging.DEBUG)\n"
      ],
      "metadata": {
        "id": "ojsazTxjWM67"
      },
      "execution_count": null,
      "outputs": []
    },
    {
      "cell_type": "markdown",
      "source": [
        "The first line imports the logging module, and the second line configures the logging system to write messages to the specified file (programLog.txt) at the DEBUG level or higher.\n",
        "\n",
        "With these two lines in place, when you call logging.debug(), the logging message will be written to the \"programLog.txt\" file."
      ],
      "metadata": {
        "id": "oNB4hpN_WP8j"
      }
    },
    {
      "cell_type": "markdown",
      "source": [
        "6. What are the five levels of logging?\n",
        "\n",
        "ans:\n",
        "\n",
        "\n",
        "The five levels of logging in Python, in increasing order of severity, are:\n",
        "\n",
        "DEBUG: Detailed information useful for diagnosing problems. Typically only enabled during development and debugging stages.\n",
        "\n",
        "INFO: General information about the program's execution. Used to confirm that things are working as expected.\n",
        "\n",
        "WARNING: Indication of potential issues or unexpected behavior that does not prevent the program from running but may cause problems later.\n",
        "\n",
        "ERROR: Records errors that caused the program to fail to perform a specific function or task.\n",
        "\n",
        "CRITICAL: The highest level of severity, representing critical errors or failures that may lead to the termination of the program or significant issues in its execution.\n",
        "\n",
        "These levels allow developers to control the amount of detail and severity of logged messages based on the requirements and context of the application."
      ],
      "metadata": {
        "id": "P6cau4dfWSvT"
      }
    },
    {
      "cell_type": "markdown",
      "source": [
        "7. What line of code would you add to your software to disable all logging messages?\n",
        "\n",
        "\n",
        "ans:\n",
        "\n",
        "\n",
        "To disable all logging messages in your software, you can add the following line of code:"
      ],
      "metadata": {
        "id": "XtQyQRpaWatD"
      }
    },
    {
      "cell_type": "code",
      "source": [
        "logging.disable(logging.CRITICAL)\n"
      ],
      "metadata": {
        "id": "1eEhmcH7WioO"
      },
      "execution_count": null,
      "outputs": []
    },
    {
      "cell_type": "markdown",
      "source": [
        "This line of code uses the disable() method from the logging module to disable all log messages with a severity level of CRITICAL or lower. By setting it to logging.CRITICAL, all log messages, including DEBUG, INFO, WARNING, and ERROR, will be disabled.\n",
        "\n",
        "After adding this line, no log messages will be displayed or written to any configured output, effectively disabling logging in your software.\n",
        "\n",
        "\n",
        "\n",
        "\n"
      ],
      "metadata": {
        "id": "wF-HQZWBWmIO"
      }
    },
    {
      "cell_type": "markdown",
      "source": [
        "8.Why is using logging messages better than using print() to display the same message?\n",
        "\n",
        "ans:\n",
        "\n",
        "Using logging messages is generally considered better than using print() statements for displaying messages in software for several reasons:\n",
        "\n",
        "Granular control: Logging provides a range of severity levels (e.g., DEBUG, INFO, WARNING, ERROR, CRITICAL) that allow you to categorize and prioritize messages based on their importance. With print(), you have limited control over the level of detail and severity of the displayed messages.\n",
        "\n",
        "Configurability: Logging allows you to configure different output destinations, such as the console, files, or external log management systems. You can easily redirect or filter messages without modifying the code. With print(), you need to manually remove or modify print statements to change the output destination.\n",
        "\n",
        "Runtime enable/disable: Logging can be dynamically enabled or disabled at runtime, allowing you to control the verbosity of the logs without modifying the code. This can be helpful for troubleshooting or adjusting the level of detail during different stages of the software's lifecycle. In contrast, print statements require manual removal or comment-out to disable them.\n",
        "\n",
        "Performance impact: Logging is generally designed to have a lower performance impact compared to print statements. Logging libraries are optimized for efficient log handling, including features like buffering, asynchronous logging, and configurable log levels. In contrast, excessive print statements can significantly impact the performance of the software, especially in production environments.\n",
        "\n",
        "Structured logging: Logging frameworks often support structured logging, where log messages can include additional context, metadata, or structured data. This makes it easier to analyze logs and perform advanced filtering or analysis. Print statements typically provide only the raw message without any additional context or structure.\n",
        "\n",
        "Integration with existing logging ecosystem: Logging libraries can easily integrate with existing logging infrastructure and tools, such as log aggregators, log analysis tools, and log rotation systems. This allows for centralized logging management and advanced log analysis capabilities. Print statements do not have such built-in integration.\n",
        "\n",
        "Overall, using logging messages provides more flexibility, configurability, and control over displaying messages in software, making it a better choice compared to using print() statements."
      ],
      "metadata": {
        "id": "LzK7RrI4WooG"
      }
    },
    {
      "cell_type": "markdown",
      "source": [
        "9. What are the differences between the Step Over, Step In, and Step Out buttons in the debugger?\n",
        "\n",
        "ans:\n",
        "The Step Over, Step In, and Step Out buttons are commonly found in debuggers and are used for executing code step by step during debugging sessions. Here are the differences between these buttons:\n",
        "\n",
        "Step Over: The Step Over button allows you to execute the current line of code and move to the next line in the current function. If there is a function call on the current line, the debugger will not enter the function but instead execute it as a single step and move to the next line in the current function. This button is useful when you want to skip the details of function calls and focus on the higher-level execution flow.\n",
        "\n",
        "Step In: The Step In button is used to step into a function call. When you click Step In, the debugger will enter the called function and start executing it line by line, allowing you to debug through the function's code. This button is helpful when you want to dive into the details of a specific function to understand its behavior or identify any issues within it.\n",
        "\n",
        "Step Out: The Step Out button is used to execute the remaining lines of the current function and return to the caller function. When you click Step Out, the debugger will continue executing the current function until it reaches the end or encounters a return statement. Once that happens, it will return to the calling function, allowing you to observe the function's execution and any subsequent behavior. This button is useful when you want to quickly jump out of a function and continue debugging at the higher-level context.\n",
        "\n",
        "In summary, the Step Over button executes the current line and moves to the next line in the current function, the Step In button enters a function call and starts debugging it, and the Step Out button executes the remaining lines of the current function and returns to the calling function. These buttons provide control and granularity during debugging sessions, enabling you to analyze code execution and track down issues more effectively."
      ],
      "metadata": {
        "id": "MmNZHhi_WxxX"
      }
    },
    {
      "cell_type": "markdown",
      "source": [
        "10.After you click Continue, when will the debugger stop ?\n",
        "\n",
        "ans:\n",
        "\n",
        "\n",
        "After clicking the Continue button in a debugger, the debugger will continue executing the code without any interruption until it reaches one of the following conditions:\n",
        "\n",
        "Breakpoint: If there is a breakpoint set in the code, the debugger will stop when it reaches that specific line of code. Breakpoints allow you to pause the execution of the program at a particular location and inspect variables or step through the code from that point onwards.\n",
        "\n",
        "Exception: If an unhandled exception occurs during the execution of the code, the debugger will stop at the point where the exception is raised. This allows you to examine the stack trace and debug the exception to understand the cause of the error.\n",
        "\n",
        "Program completion: The debugger will stop when the program execution is complete, meaning it has reached the end of the code or encountered a return statement in the main execution context.\n",
        "\n",
        "Manual interruption: You can manually interrupt the execution by clicking on the \"Stop\" or \"Pause\" button in the debugger interface. This will immediately halt the execution and return control to the debugger, allowing you to inspect the state of the program.\n",
        "\n",
        "It's important to note that the behavior of the debugger may vary depending on the specific debugger and the configuration of breakpoints or exception handling. However, in general, these are the common scenarios where the debugger will stop after clicking Continue."
      ],
      "metadata": {
        "id": "mJbAoQx5W9P3"
      }
    },
    {
      "cell_type": "markdown",
      "source": [
        "11. What is the concept of a breakpoint?\n",
        "\n",
        "ans:\n",
        "\n",
        "\n",
        "\n",
        "In programming and debugging, a breakpoint is a designated point in the source code where program execution will temporarily pause, allowing developers to inspect the program's state, variables, and control flow at that specific point. Breakpoints are a powerful tool for debugging and understanding the behavior of a program.\n",
        "\n",
        "When a breakpoint is encountered during program execution, the debugger stops execution at that line or location, providing developers with an opportunity to examine the program's internal state and step through the code interactively.\n",
        "\n",
        "Key aspects of breakpoints include:\n",
        "\n",
        "Setting breakpoints: Developers can set breakpoints using debugging tools or integrated development environments (IDEs). This is typically done by clicking on the line number or using a specific command. Breakpoints can be set before running the program or dynamically during debugging sessions.\n",
        "\n",
        "Pausing execution: When a breakpoint is hit, the program execution is temporarily paused, allowing developers to analyze the program's state at that point.\n",
        "\n",
        "Inspecting variables: While the program is paused at a breakpoint, developers can inspect the values of variables, check the call stack, and examine other relevant data to gain insights into the program's behavior.\n",
        "\n",
        "Stepping through code: Breakpoints enable step-by-step execution, allowing developers to proceed line-by-line or instruction-by-instruction through the code after the breakpoint is hit. This helps identify logic errors or unexpected behavior.\n",
        "\n",
        "Conditional breakpoints: Some debugging tools allow for the setting of conditional breakpoints. These breakpoints only trigger if a specific condition is met, such as when a variable has a particular value.\n",
        "\n",
        "Enabling/disabling breakpoints: Breakpoints can be enabled or disabled without removing them. This feature allows developers to selectively control which breakpoints are active during debugging sessions.\n",
        "\n",
        "By strategically placing breakpoints in the code, developers can examine the program's state and behavior at specific locations, making it easier to identify and fix bugs or understand complex program flows. Breakpoints greatly enhance the debugging process and help developers gain insights into program execution.\n",
        "\n",
        "\n",
        "\n",
        "\n"
      ],
      "metadata": {
        "id": "8yKxanppXGg3"
      }
    },
    {
      "cell_type": "markdown",
      "source": [],
      "metadata": {
        "id": "cP3SYyRxXSkw"
      }
    }
  ]
}