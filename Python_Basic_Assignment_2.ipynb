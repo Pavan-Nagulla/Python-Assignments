{
  "nbformat": 4,
  "nbformat_minor": 0,
  "metadata": {
    "colab": {
      "provenance": [],
      "authorship_tag": "ABX9TyOxvcmKEd3nd38dVM1vkheV",
      "include_colab_link": true
    },
    "kernelspec": {
      "name": "python3",
      "display_name": "Python 3"
    },
    "language_info": {
      "name": "python"
    }
  },
  "cells": [
    {
      "cell_type": "markdown",
      "metadata": {
        "id": "view-in-github",
        "colab_type": "text"
      },
      "source": [
        "<a href=\"https://colab.research.google.com/github/Pavan-Nagulla/Python-Assignments/blob/main/Python_Basic_Assignment_2.ipynb\" target=\"_parent\"><img src=\"https://colab.research.google.com/assets/colab-badge.svg\" alt=\"Open In Colab\"/></a>"
      ]
    },
    {
      "cell_type": "markdown",
      "source": [
        "# **1.What are the two values of the Boolean data type? How do you write them?**\n"
      ],
      "metadata": {
        "id": "xntUfQ10IX9R"
      }
    },
    {
      "cell_type": "code",
      "source": [
        "a= True\n",
        "b=False\n",
        "print(a)\n",
        "print(b)"
      ],
      "metadata": {
        "colab": {
          "base_uri": "https://localhost:8080/"
        },
        "id": "jRkS8ceAIOhe",
        "outputId": "fb8539d9-e605-47d3-d919-dc04b4aaee22"
      },
      "execution_count": 1,
      "outputs": [
        {
          "output_type": "stream",
          "name": "stdout",
          "text": [
            "True\n",
            "False\n"
          ]
        }
      ]
    },
    {
      "cell_type": "markdown",
      "source": [
        "# 2. What are the three different types of Boolean operators?\n",
        "The three types of boolean operators are ‘AND’ ,’OR’,’NOT’"
      ],
      "metadata": {
        "id": "tfFH5a2NIvrj"
      }
    },
    {
      "cell_type": "markdown",
      "source": [
        "Q3. Make a list of each Boolean operator's truth tables (i.e. every possible combination of Boolean\n",
        "values for the operator and what it evaluate ).\n",
        "\n",
        "Ans:- True and True is True.\n",
        "\n",
        "True and False is False.\n",
        "\n",
        "False and True is False.\n",
        "\n",
        "False and False is False.\n",
        "\n",
        "True or True is True.\n",
        "\n",
        "True or False is True.\n",
        "\n",
        "False or True is True.\n",
        "\n",
        "False or False is False.\n",
        "\n",
        "not True is False.\n",
        "\n",
        "not False is True.\n",
        "\n",
        "True is 1 and False is 0\n",
        "# Truth Table for AND\n",
        "A B output\n",
        "0 0 0\n",
        "0 1 0\n",
        "1 0 0\n",
        "1 1 1\n",
        "Truth Table for OR\n",
        "A B output\n",
        "0 0 0\n",
        "0 1 1\n",
        "1 0 1\n",
        "1 1 1\n",
        "Truth Table for NOT\n",
        "A output\n",
        "0 1\n",
        "1 0 *bold text*"
      ],
      "metadata": {
        "id": "cowURqwvJGsC"
      }
    },
    {
      "cell_type": "markdown",
      "source": [
        "# 4. What are the values of the following expressions?\n"
      ],
      "metadata": {
        "id": "9xu2jFY1JQX8"
      }
    },
    {
      "cell_type": "code",
      "source": [
        "print((5>4) and (3==5))\n",
        "print(not(5>4))\n",
        "print((5>4) or (3==5))\n",
        "print(not(5>4) or (3==5))\n",
        "print((True and True) and (True==False))\n",
        "print((not(False))or(not(True)))"
      ],
      "metadata": {
        "colab": {
          "base_uri": "https://localhost:8080/"
        },
        "id": "O5G9_Df5KZ_5",
        "outputId": "874d95cc-d90b-4a37-a64d-198bf29ecce4"
      },
      "execution_count": 2,
      "outputs": [
        {
          "output_type": "stream",
          "name": "stdout",
          "text": [
            "False\n",
            "False\n",
            "True\n",
            "False\n",
            "False\n",
            "True\n"
          ]
        }
      ]
    },
    {
      "cell_type": "markdown",
      "source": [
        "5. What are the six comparison operators?\n",
        "\n",
        "\n",
        " ==, !=, <, >, <=, and >="
      ],
      "metadata": {
        "id": "wklHmnL0KeIh"
      }
    },
    {
      "cell_type": "markdown",
      "source": [
        "6. How do you tell the difference between the equal to and assignment operators?Describe a\n",
        "condition and when you would use one.\n",
        "\n",
        "== is the equal to operator that compares two values and evaluates to a Boolean, while = is the assignment operator that stores a value in a variable."
      ],
      "metadata": {
        "id": "aqspEih_K4O4"
      }
    },
    {
      "cell_type": "code",
      "source": [
        "# Equal To Operator\n",
        "if(2==3):\n",
        "    print(\"True\")\n",
        "else:\n",
        "    print(\"False\")\n",
        "#Assignment operator\n",
        "c=1 #here we have used assignment operator(=) to assign value of c which is 1\n",
        "print(\"c =\",c)"
      ],
      "metadata": {
        "colab": {
          "base_uri": "https://localhost:8080/"
        },
        "id": "EQeddWQ8LO_7",
        "outputId": "ae17bf82-0e61-4b35-e08f-1c2c3cf65ad6"
      },
      "execution_count": 3,
      "outputs": [
        {
          "output_type": "stream",
          "name": "stdout",
          "text": [
            "False\n",
            "c = 1\n"
          ]
        }
      ]
    },
    {
      "cell_type": "markdown",
      "source": [
        "7. Identify the three blocks in this code:"
      ],
      "metadata": {
        "id": "zaRZn43GLUiL"
      }
    },
    {
      "cell_type": "code",
      "source": [
        "spam = 0\n",
        "if spam == 10:\n",
        "    print('eggs') #Block 1\n",
        "if spam > 5:\n",
        "    print('bacon') #Block 2\n",
        "else:\n",
        "    print('ham') #Block 3\n",
        "    print('spam')\n",
        "    print('spam')"
      ],
      "metadata": {
        "colab": {
          "base_uri": "https://localhost:8080/"
        },
        "id": "IK9Mud9aLlbL",
        "outputId": "c9b27eb3-9242-4b01-a7c6-37b1288e0a7a"
      },
      "execution_count": 4,
      "outputs": [
        {
          "output_type": "stream",
          "name": "stdout",
          "text": [
            "ham\n",
            "spam\n",
            "spam\n"
          ]
        }
      ]
    },
    {
      "cell_type": "markdown",
      "source": [
        "# Q8. Write code that prints Hello if 1 is stored in spam, prints Howdy if 2 is stored in spam, and prints Greetings! if anything else is stored in spam."
      ],
      "metadata": {
        "id": "1OjnDhsaL_E7"
      }
    },
    {
      "cell_type": "code",
      "source": [
        "spam = int(input(\"Input a no.\"))\n",
        "if spam == 1:\n",
        "    print(\"Hello\")\n",
        "elif spam == 2:\n",
        "    print(\"Howdy\")\n",
        "else:\n",
        "    print(\"Greetings!\")\n",
        "        "
      ],
      "metadata": {
        "colab": {
          "base_uri": "https://localhost:8080/"
        },
        "id": "o2mXI_KfMEVV",
        "outputId": "11f6c51e-eb59-4795-9ae4-8314cde8cb8a"
      },
      "execution_count": 5,
      "outputs": [
        {
          "output_type": "stream",
          "name": "stdout",
          "text": [
            "Input a no.4\n",
            "Greetings!\n"
          ]
        }
      ]
    },
    {
      "cell_type": "markdown",
      "source": [
        "Q9.If your programme is stuck in an endless loop, what keys you’ll press?\n",
        "\n",
        "\n",
        "\n",
        "Ans . If program is stuck in endless loop we will press ctrl+c."
      ],
      "metadata": {
        "id": "6MSL6bMzMUoT"
      }
    },
    {
      "cell_type": "markdown",
      "source": [
        "# Q10. How can you tell the difference between break and continue?"
      ],
      "metadata": {
        "id": "CvcLIo48MW1N"
      }
    },
    {
      "cell_type": "code",
      "source": [
        "# use of break\n",
        "for i in range(10):\n",
        "    if(i==7):\n",
        "        break\n",
        "    print(i)\n",
        "    \n",
        "print('Breaked')\n",
        "#use of  continue\n",
        "for i in range(10):\n",
        "    if(i==7):\n",
        "        continue\n",
        "    print(i)\n",
        "    "
      ],
      "metadata": {
        "colab": {
          "base_uri": "https://localhost:8080/"
        },
        "id": "5n7hprYpMqPG",
        "outputId": "28e59a4a-c7ea-4d9d-9139-51998fe7be5b"
      },
      "execution_count": 6,
      "outputs": [
        {
          "output_type": "stream",
          "name": "stdout",
          "text": [
            "0\n",
            "1\n",
            "2\n",
            "3\n",
            "4\n",
            "5\n",
            "6\n",
            "Breaked\n",
            "0\n",
            "1\n",
            "2\n",
            "3\n",
            "4\n",
            "5\n",
            "6\n",
            "8\n",
            "9\n"
          ]
        }
      ]
    },
    {
      "cell_type": "markdown",
      "source": [
        "# Q11. In a for loop, what is the difference between range(10), range(0, 10), and range(0, 10, 1)?"
      ],
      "metadata": {
        "id": "il4QjZ-mMwFb"
      }
    },
    {
      "cell_type": "code",
      "source": [
        "for i in range(10):\n",
        "    print(i)\n",
        "for i in range(0,10):\n",
        "    print(i)  \n",
        "for i in range(0,10,1):\n",
        "    print(i)   "
      ],
      "metadata": {
        "colab": {
          "base_uri": "https://localhost:8080/"
        },
        "id": "YZpx1y91M2_t",
        "outputId": "01962a9f-c647-4e64-c1ee-e7639c292116"
      },
      "execution_count": 9,
      "outputs": [
        {
          "output_type": "stream",
          "name": "stdout",
          "text": [
            "0\n",
            "1\n",
            "2\n",
            "3\n",
            "4\n",
            "5\n",
            "6\n",
            "7\n",
            "8\n",
            "9\n",
            "0\n",
            "1\n",
            "2\n",
            "3\n",
            "4\n",
            "5\n",
            "6\n",
            "7\n",
            "8\n",
            "9\n",
            "0\n",
            "1\n",
            "2\n",
            "3\n",
            "4\n",
            "5\n",
            "6\n",
            "7\n",
            "8\n",
            "9\n"
          ]
        }
      ]
    },
    {
      "cell_type": "markdown",
      "source": [
        "# Q12. Write a short program that prints the numbers 1 to 10 using a for loop. Then write an equivalent program that prints the numbers 1 to 10 using a while loop."
      ],
      "metadata": {
        "id": "3iZiGS5ONQnb"
      }
    },
    {
      "cell_type": "code",
      "source": [
        "#Use of For Loop\n",
        "print(\"For Loop\")\n",
        "for i in range(1,11):\n",
        "    print(i)\n",
        "#Use of While Loop\n",
        "print(\"While Loop\")\n",
        "a =1\n",
        "while a <= 10:\n",
        "    print(a)\n",
        "    a+=1"
      ],
      "metadata": {
        "colab": {
          "base_uri": "https://localhost:8080/"
        },
        "id": "oAXLZqZUNdSP",
        "outputId": "0183786d-e982-4792-bd3a-7d48987b943e"
      },
      "execution_count": 10,
      "outputs": [
        {
          "output_type": "stream",
          "name": "stdout",
          "text": [
            "For Loop\n",
            "1\n",
            "2\n",
            "3\n",
            "4\n",
            "5\n",
            "6\n",
            "7\n",
            "8\n",
            "9\n",
            "10\n",
            "While Loop\n",
            "1\n",
            "2\n",
            "3\n",
            "4\n",
            "5\n",
            "6\n",
            "7\n",
            "8\n",
            "9\n",
            "10\n"
          ]
        }
      ]
    },
    {
      "cell_type": "markdown",
      "source": [
        "Q13. If you had a function named bacon() inside a module named spam, how would you call it after importing spam?\n",
        "\n",
        "# This function can be called with spam.bacon()."
      ],
      "metadata": {
        "id": "itTx2oKVNoyP"
      }
    }
  ]
}