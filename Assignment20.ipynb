{
  "nbformat": 4,
  "nbformat_minor": 0,
  "metadata": {
    "colab": {
      "provenance": [],
      "authorship_tag": "ABX9TyPTl2Cz5AOlCgj3Upakc2nh",
      "include_colab_link": true
    },
    "kernelspec": {
      "name": "python3",
      "display_name": "Python 3"
    },
    "language_info": {
      "name": "python"
    }
  },
  "cells": [
    {
      "cell_type": "markdown",
      "metadata": {
        "id": "view-in-github",
        "colab_type": "text"
      },
      "source": [
        "<a href=\"https://colab.research.google.com/github/Pavan-Nagulla/Python-Assignments/blob/main/Assignment20.ipynb\" target=\"_parent\"><img src=\"https://colab.research.google.com/assets/colab-badge.svg\" alt=\"Open In Colab\"/></a>"
      ]
    },
    {
      "cell_type": "code",
      "execution_count": null,
      "metadata": {
        "id": "bk6Z2QcbiQOH"
      },
      "outputs": [],
      "source": []
    },
    {
      "cell_type": "markdown",
      "source": [
        "1. Set the variable test1 to the string &#39;This is a test of the emergency text system,&#39; and save test1 to a\n",
        "file named test.txt.\n",
        "ans:\n",
        "\n",
        "\n",
        "To set the variable test1 to the string 'This is a test of the emergency text system,' and save test1 to a file named 'test.txt', you can use the following code:"
      ],
      "metadata": {
        "id": "N7Nx7DQmiWeM"
      }
    },
    {
      "cell_type": "code",
      "source": [
        "test1 = 'This is a test of the emergency text system,'\n",
        "\n",
        "# Save test1 to a file named test.txt\n",
        "with open('test.txt', 'w') as file:\n",
        "    file.write(test1)\n"
      ],
      "metadata": {
        "id": "wxg4Te_QimCF"
      },
      "execution_count": null,
      "outputs": []
    },
    {
      "cell_type": "markdown",
      "source": [
        "In this code, we set the variable test1 to the desired string. Then, we use the open() function to open a file named 'test.txt' in write mode ('w'). We use a with statement to ensure that the file is automatically closed after writing.\n",
        "\n",
        "Inside the with block, we call the write() method on the file object, passing test1 as the argument. This writes the content of test1 to the file 'test.txt'.\n",
        "\n",
        "After executing this code, the string 'This is a test of the emergency text system,' will be saved in the 'test.txt' file."
      ],
      "metadata": {
        "id": "CAy7pmcxiqht"
      }
    },
    {
      "cell_type": "markdown",
      "source": [
        "2. Read the contents of the file test.txt into the variable test2. Is there a difference between test 1\n",
        "and test 2?\n",
        "\n",
        "\n",
        "ans:\n",
        "\n",
        "\n",
        "\n",
        "To read the contents of the file 'test.txt' into the variable test2 and check if there is a difference between test1 and test2, you can use the following code:"
      ],
      "metadata": {
        "id": "2Zj943BTishF"
      }
    },
    {
      "cell_type": "code",
      "source": [
        "# Read the contents of the file 'test.txt' into the variable test2\n",
        "with open('test.txt', 'r') as file:\n",
        "    test2 = file.read()\n",
        "\n",
        "# Check if there is a difference between test1 and test2\n",
        "difference = test1 == test2\n",
        "\n",
        "print(f\"There is a difference: {difference}\")\n"
      ],
      "metadata": {
        "id": "Q2hodcglizh9"
      },
      "execution_count": null,
      "outputs": []
    },
    {
      "cell_type": "markdown",
      "source": [
        "In this code, we use the open() function again to open the file 'test.txt', but this time in read mode ('r'). We use a with statement to ensure that the file is automatically closed after reading.\n",
        "\n",
        "Inside the with block, we call the read() method on the file object, which reads the content of the file and assigns it to the variable test2.\n",
        "\n",
        "After reading the contents of the file, we compare test1 and test2 using the == operator to check if they are equal. The result is stored in the difference variable.\n",
        "\n",
        "Finally, we print whether there is a difference between test1 and test2 by displaying the value of the difference variable.\n",
        "\n",
        "If there is no difference between the two variables, the output will be:\n",
        "\n",
        "python\n",
        "Copy code\n",
        "There is a difference: False\n",
        "If there is a difference, the output will be:\n",
        "\n",
        "python\n",
        "Copy code\n",
        "There is a difference: True\n",
        "This indicates whether the contents of test1 and test2 are the same or not."
      ],
      "metadata": {
        "id": "_IhWupOLi2pM"
      }
    },
    {
      "cell_type": "markdown",
      "source": [
        "3. Create a CSV file called books.csv by using these lines:\n",
        "title,author,year\n",
        "The Weirdstone of Brisingamen,Alan Garner,1960\n",
        "Perdido Street Station,China Miéville,2000\n",
        "Thud!,Terry Pratchett,2005\n",
        "The Spellman Files,Lisa Lutz,2007\n",
        "Small Gods,Terry Pratchett,1992\n",
        "\n",
        "\n",
        "ans:\n",
        "\n",
        "To create a CSV file named 'books.csv' with the given lines:\n",
        "title,author,year\n",
        "The Weirdstone of Brisingamen,Alan Garner,1960\n",
        "Perdido Street Station,China Miéville,2000\n",
        "Thud!,Terry Pratchett,2005\n",
        "The Spellman Files,Lisa Lutz,2007\n",
        "Small Gods,Terry Pratchett,1992\n"
      ],
      "metadata": {
        "id": "C70jcaMVi5L0"
      }
    },
    {
      "cell_type": "code",
      "source": [
        "import csv\n",
        "\n",
        "data = [\n",
        "    ['title', 'author', 'year'],\n",
        "    ['The Weirdstone of Brisingamen', 'Alan Garner', '1960'],\n",
        "    ['Perdido Street Station', 'China Miéville', '2000'],\n",
        "    ['Thud!', 'Terry Pratchett', '2005'],\n",
        "    ['The Spellman Files', 'Lisa Lutz', '2007'],\n",
        "    ['Small Gods', 'Terry Pratchett', '1992']\n",
        "]\n",
        "\n",
        "# Create a CSV file named 'books.csv' and write the data to it\n",
        "with open('books.csv', 'w', newline='') as file:\n",
        "    writer = csv.writer(file)\n",
        "    writer.writerows(data)\n"
      ],
      "metadata": {
        "id": "5wN9nBmpjOU8"
      },
      "execution_count": null,
      "outputs": []
    },
    {
      "cell_type": "markdown",
      "source": [
        "In this code, we import the csv module. We define a list called data that contains the lines to be written to the CSV file.\n",
        "\n",
        "Next, we use the open() function to create a CSV file named 'books.csv' in write mode ('w'). We use a with statement to ensure that the file is automatically closed after writing.\n",
        "\n",
        "Inside the with block, we create a csv.writer object and pass the file object to it. We then use the writerows() method to write the data list to the file. Each sublist within the data list represents a row in the CSV file.\n",
        "\n",
        "After executing this code, a CSV file named 'books.csv' will be created with the provided lines."
      ],
      "metadata": {
        "id": "3THD11Q1jTA1"
      }
    },
    {
      "cell_type": "markdown",
      "source": [
        "4. Use the sqlite3 module to create a SQLite database called books.db, and a table called books with\n",
        "these fields: title (text), author (text), and year (integer).\n",
        "\n",
        "ans:\n",
        "\n",
        "\n",
        "\n",
        "To create a SQLite database named 'books.db' using the sqlite3 module and define a table called 'books' with the fields 'title' (text), 'author' (text), and 'year' (integer), you can use the following code:"
      ],
      "metadata": {
        "id": "FiDbXdq4jtcW"
      }
    },
    {
      "cell_type": "code",
      "source": [
        "import sqlite3\n",
        "\n",
        "# Connect to the database (or create it if it doesn't exist)\n",
        "connection = sqlite3.connect('books.db')\n",
        "\n",
        "# Create a cursor object to execute SQL statements\n",
        "cursor = connection.cursor()\n",
        "\n",
        "# Create the 'books' table with the specified fields\n",
        "cursor.execute('''\n",
        "    CREATE TABLE IF NOT EXISTS books (\n",
        "        title TEXT,\n",
        "        author TEXT,\n",
        "        year INTEGER\n",
        "    )\n",
        "''')\n",
        "\n",
        "# Commit the changes and close the connection\n",
        "connection.commit()\n",
        "connection.close()\n"
      ],
      "metadata": {
        "id": "-o-STFVDjyXu"
      },
      "execution_count": null,
      "outputs": []
    },
    {
      "cell_type": "markdown",
      "source": [
        "In this code, we import the sqlite3 module. We use the connect() function to connect to the SQLite database named 'books.db'. If the database doesn't exist, it will be created.\n",
        "\n",
        "Next, we create a cursor object using the cursor() method of the connection. The cursor object allows us to execute SQL statements.\n",
        "\n",
        "We then execute an SQL statement using the execute() method of the cursor to create the 'books' table with the specified fields: 'title' (text), 'author' (text), and 'year' (integer). The IF NOT EXISTS clause ensures that the table is created only if it doesn't already exist.\n",
        "\n",
        "After executing the SQL statement, we use the commit() method of the connection to save the changes to the database. Finally, we close the connection using the close() method.\n",
        "\n",
        "After running this code, the SQLite database 'books.db' will be created, and the 'books' table will be defined with the specified fields."
      ],
      "metadata": {
        "id": "OW4cRpPPj1z-"
      }
    },
    {
      "cell_type": "markdown",
      "source": [
        "5. Read books.csv and insert its data into the book table.\n",
        "\n",
        "ans:\n",
        "\n",
        "\n",
        "To read the data from the 'books.csv' file and insert it into the 'books' table in the 'books.db' SQLite database, you can use the following code:"
      ],
      "metadata": {
        "id": "-lk5akU5j2jG"
      }
    },
    {
      "cell_type": "code",
      "source": [
        "import csv\n",
        "import sqlite3\n",
        "\n",
        "# Connect to the database\n",
        "connection = sqlite3.connect('books.db')\n",
        "cursor = connection.cursor()\n",
        "\n",
        "# Read data from the CSV file\n",
        "with open('books.csv', 'r') as file:\n",
        "    reader = csv.reader(file)\n",
        "    next(reader)  # Skip the header row\n",
        "\n",
        "    # Insert each row of data into the 'books' table\n",
        "    for row in reader:\n",
        "        cursor.execute('INSERT INTO books (title, author, year) VALUES (?, ?, ?)', row)\n",
        "\n",
        "# Commit the changes and close the connection\n",
        "connection.commit()\n",
        "connection.close()\n"
      ],
      "metadata": {
        "id": "xFPMQxahkEP5"
      },
      "execution_count": null,
      "outputs": []
    },
    {
      "cell_type": "markdown",
      "source": [
        "In this code, we first import the necessary modules, csv and sqlite3. We then establish a connection to the 'books.db' SQLite database and create a cursor object.\n",
        "\n",
        "Next, we open the 'books.csv' file in read mode and create a csv.reader object to read the contents of the file. We skip the header row using the next() function to move the reader to the next row.\n",
        "\n",
        "We then iterate over each row of the CSV file and execute an SQL INSERT statement for each row to insert the data into the 'books' table. The ? placeholders are used as placeholders for the values from each row.\n",
        "\n",
        "After inserting all the data, we use the commit() method of the connection to save the changes to the database. Finally, we close the connection.\n",
        "\n",
        "After running this code, the data from the 'books.csv' file will be read and inserted into the 'books' table in the 'books.db' SQLite database."
      ],
      "metadata": {
        "id": "Lol1Rra3kHyK"
      }
    },
    {
      "cell_type": "markdown",
      "source": [
        "6. Select and print the title column from the book table in alphabetical order.\n",
        "\n",
        "ans:\n",
        "\n",
        "\n",
        "To select and print the 'title' column from the 'books' table in alphabetical order, you can use the following code:"
      ],
      "metadata": {
        "id": "Fm-l40-xkIQb"
      }
    },
    {
      "cell_type": "code",
      "source": [
        "import sqlite3\n",
        "\n",
        "# Connect to the database\n",
        "connection = sqlite3.connect('books.db')\n",
        "cursor = connection.cursor()\n",
        "\n",
        "# Select the 'title' column from the 'books' table in alphabetical order\n",
        "cursor.execute(\"SELECT title FROM books ORDER BY title ASC\")\n",
        "\n",
        "# Fetch all the rows returned by the query\n",
        "rows = cursor.fetchall()\n",
        "\n",
        "# Print the 'title' column values\n",
        "for row in rows:\n",
        "    print(row[0])\n",
        "\n",
        "# Close the connection\n",
        "connection.close()\n"
      ],
      "metadata": {
        "id": "rI-5pNEKksC2"
      },
      "execution_count": null,
      "outputs": []
    },
    {
      "cell_type": "markdown",
      "source": [
        "In this code, we first import the sqlite3 module. We then establish a connection to the 'books.db' SQLite database and create a cursor object.\n",
        "\n",
        "Next, we execute an SQL SELECT statement to select the 'title' column from the 'books' table and order the results in ascending order using the ORDER BY clause with ASC keyword.\n",
        "\n",
        "After executing the query, we use the fetchall() method to retrieve all the rows returned by the query. Each row is represented as a tuple.\n",
        "\n",
        "We then iterate over the rows and print the value of the 'title' column (accessed using row[0]).\n",
        "\n",
        "Finally, we close the connection to the database.\n",
        "\n",
        "After running this code, the 'title' column values from the 'books' table will be printed in alphabetical order.\n",
        "\n",
        "\n",
        "\n",
        "\n"
      ],
      "metadata": {
        "id": "uPKWdV1kktqm"
      }
    },
    {
      "cell_type": "markdown",
      "source": [
        "7. From the book table, select and print all columns in the order of publication.\n",
        "\n",
        "\n",
        "ans:\n",
        "\n",
        "To select and print all columns from the 'books' table in the order of publication, you can use the following code:"
      ],
      "metadata": {
        "id": "TkydqhXVkyqm"
      }
    },
    {
      "cell_type": "code",
      "source": [
        "import sqlite3\n",
        "\n",
        "# Connect to the database\n",
        "connection = sqlite3.connect('books.db')\n",
        "cursor = connection.cursor()\n",
        "\n",
        "# Select all columns from the 'books' table in the order of publication\n",
        "cursor.execute(\"SELECT * FROM books ORDER BY year ASC\")\n",
        "\n",
        "# Fetch all the rows returned by the query\n",
        "rows = cursor.fetchall()\n",
        "\n",
        "# Print all columns for each row\n",
        "for row in rows:\n",
        "    print(row)\n",
        "\n",
        "# Close the connection\n",
        "connection.close()\n"
      ],
      "metadata": {
        "id": "aq-mc1TslBgY"
      },
      "execution_count": null,
      "outputs": []
    },
    {
      "cell_type": "markdown",
      "source": [
        "In this code, we first import the sqlite3 module. We then establish a connection to the 'books.db' SQLite database and create a cursor object.\n",
        "\n",
        "Next, we execute an SQL SELECT statement to select all columns (*) from the 'books' table and order the results in ascending order of the 'year' column using the ORDER BY clause with ASC keyword.\n",
        "\n",
        "After executing the query, we use the fetchall() method to retrieve all the rows returned by the query. Each row is represented as a tuple.\n",
        "\n",
        "We then iterate over the rows and print each row, which contains all the columns of the 'books' table.\n",
        "\n",
        "Finally, we close the connection to the database.\n",
        "\n",
        "After running this code, all columns from the 'books' table will be printed for each row, ordered by the publication year."
      ],
      "metadata": {
        "id": "_RsZ4VGylECC"
      }
    },
    {
      "cell_type": "markdown",
      "source": [
        "8. Use the sqlalchemy module to connect to the sqlite3 database books.db that you just made in\n",
        "exercise 6.\n",
        "\n",
        "ans:\n",
        "\n",
        "\n",
        "To connect to the SQLite database 'books.db' using the sqlalchemy module, you can use the following code:"
      ],
      "metadata": {
        "id": "ugEgwt0AlGY6"
      }
    },
    {
      "cell_type": "code",
      "source": [
        "from sqlalchemy import create_engine\n",
        "\n",
        "# Create a connection to the database\n",
        "engine = create_engine('sqlite:///books.db')\n",
        "\n",
        "# Establish the connection\n",
        "connection = engine.connect()\n",
        "\n",
        "# Use the connection...\n",
        "\n",
        "# Close the connection\n",
        "connection.close()\n"
      ],
      "metadata": {
        "id": "5YY_u2O0lTtD"
      },
      "execution_count": null,
      "outputs": []
    },
    {
      "cell_type": "markdown",
      "source": [
        "In this code, we import the create_engine function from the sqlalchemy module. We then create an engine object by calling create_engine and passing the database connection string 'sqlite:///books.db'. This connection string specifies the SQLite database file to connect to.\n",
        "\n",
        "Next, we establish the connection by calling the connect method on the engine object, which returns a connection object.\n",
        "\n",
        "You can then use this connection object to perform various database operations such as executing queries, inserting data, etc. Replace the comment # Use the connection... with your desired database operations.\n",
        "\n",
        "Finally, you should close the connection by calling the close method on the connection object.\n",
        "\n",
        "By running this code, you will establish a connection to the 'books.db' SQLite database using the sqlalchemy module, allowing you to interact with the database using SQLAlchemy's functionality.\n",
        "\n",
        "\n",
        "\n",
        "\n"
      ],
      "metadata": {
        "id": "BGrq5Q4wlYdj"
      }
    },
    {
      "cell_type": "markdown",
      "source": [
        "9. Install the Redis server and the Python redis library (pip install redis) on your computer. Create a\n",
        "Redis hash called test with the fields count (1) and name (&#39;Fester Bestertester&#39;). Print all the fields for\n",
        "test."
      ],
      "metadata": {
        "id": "Jlq1Qn8XlZGs"
      }
    },
    {
      "cell_type": "markdown",
      "source": [
        "As an AI language model, I don't have direct access to install software or libraries on a specific computer. However, I can guide you through the steps to achieve your goal.\n",
        "\n",
        "To install Redis server and the Python Redis library, you can follow these steps:\n",
        "\n",
        "Install Redis Server:\n",
        "\n",
        "Download Redis from the official website: https://redis.io/download\n",
        "Extract the downloaded archive and navigate to the extracted directory.\n",
        "Compile Redis by running the make command.\n",
        "Once the compilation is complete, run make install to install Redis on your system.\n",
        "Install Python Redis library:\n",
        "\n",
        "Open your command-line interface or terminal.\n",
        "Run the following command to install the Redis library using pip:\n",
        "Copy code\n",
        "pip install redis\n",
        "Now that Redis server and the Python Redis library are installed, you can use the library to create a Redis hash called \"test\" with the fields \"count\" (1) and \"name\" ('Fester Bestertester'), and print all the fields for \"test\" using the following code:"
      ],
      "metadata": {
        "id": "AN0l0qykljjl"
      }
    },
    {
      "cell_type": "code",
      "source": [
        "import redis\n",
        "\n",
        "# Create a Redis client\n",
        "r = redis.Redis()\n",
        "\n",
        "# Create a Redis hash called \"test\" with the specified fields\n",
        "r.hset(\"test\", \"count\", 1)\n",
        "r.hset(\"test\", \"name\", \"Fester Bestertester\")\n",
        "\n",
        "# Print all the fields for \"test\"\n",
        "fields = r.hgetall(\"test\")\n",
        "for key, value in fields.items():\n",
        "    print(key.decode(), value.decode())\n"
      ],
      "metadata": {
        "id": "2HyaD4-qllKt"
      },
      "execution_count": null,
      "outputs": []
    },
    {
      "cell_type": "markdown",
      "source": [
        "In this code, we import the redis module and create a Redis client using redis.Redis(). By default, the client will connect to the Redis server running on localhost at the default port.\n",
        "\n",
        "We then use the hset() method to set the fields \"count\" and \"name\" with their respective values in the Redis hash named \"test\".\n",
        "\n",
        "Finally, we retrieve all the fields from the \"test\" hash using the hgetall() method, and iterate over the items in the resulting dictionary to print the field names and their corresponding values.\n",
        "\n",
        "Please make sure that the Redis server is running before executing the code."
      ],
      "metadata": {
        "id": "htVMcJI_lnb9"
      }
    },
    {
      "cell_type": "markdown",
      "source": [
        "10. Increment the count field of test and print it.\n",
        "\n",
        "ans:\n",
        "\n",
        "To increment the count field of the Redis hash named \"test\" and print its updated value, you can use the following code:"
      ],
      "metadata": {
        "id": "SaHg_4GDlqnd"
      }
    },
    {
      "cell_type": "code",
      "source": [
        "import redis\n",
        "\n",
        "# Create a Redis client\n",
        "r = redis.Redis()\n",
        "\n",
        "# Increment the count field of \"test\" by 1\n",
        "r.hincrby(\"test\", \"count\", 1)\n",
        "\n",
        "# Get the updated value of the count field\n",
        "count = r.hget(\"test\", \"count\")\n",
        "\n",
        "# Print the updated count value\n",
        "print(count.decode())\n"
      ],
      "metadata": {
        "id": "wOMvKd64l0sY"
      },
      "execution_count": null,
      "outputs": []
    },
    {
      "cell_type": "markdown",
      "source": [
        "In this code, we import the redis module and create a Redis client using redis.Redis().\n",
        "\n",
        "Next, we use the hincrby() method to increment the value of the count field in the Redis hash named \"test\" by 1.\n",
        "\n",
        "Then, we retrieve the updated value of the count field using the hget() method.\n",
        "\n",
        "Finally, we print the updated count value after decoding it from bytes to a string.\n",
        "\n",
        "After running this code, the count field of the Redis hash \"test\" will be incremented by 1, and its updated value will be printed."
      ],
      "metadata": {
        "id": "AIzmX5sgl2ZQ"
      }
    }
  ]
}