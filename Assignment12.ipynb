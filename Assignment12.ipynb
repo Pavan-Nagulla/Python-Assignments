{
  "nbformat": 4,
  "nbformat_minor": 0,
  "metadata": {
    "colab": {
      "provenance": [],
      "authorship_tag": "ABX9TyMiErNCjjwV3M0tOfvkW5Fj",
      "include_colab_link": true
    },
    "kernelspec": {
      "name": "python3",
      "display_name": "Python 3"
    },
    "language_info": {
      "name": "python"
    }
  },
  "cells": [
    {
      "cell_type": "markdown",
      "metadata": {
        "id": "view-in-github",
        "colab_type": "text"
      },
      "source": [
        "<a href=\"https://colab.research.google.com/github/Pavan-Nagulla/Python-Assignments/blob/main/Assignment12.ipynb\" target=\"_parent\"><img src=\"https://colab.research.google.com/assets/colab-badge.svg\" alt=\"Open In Colab\"/></a>"
      ]
    },
    {
      "cell_type": "code",
      "execution_count": null,
      "metadata": {
        "id": "9nQGX7lZXt2u"
      },
      "outputs": [],
      "source": []
    },
    {
      "cell_type": "markdown",
      "source": [
        "1. In what modes should the PdfFileReader() and PdfFileWriter() File objects will be opened?\n",
        "\n",
        "ans:\n",
        "\n",
        "When working with PdfFileReader() and PdfFileWriter() objects from the PyPDF2 library in Python, the corresponding File objects should be opened in different modes:\n",
        "\n",
        "PdfFileReader() mode:\n",
        "\n",
        "The PdfFileReader() function is used to read and extract information from an existing PDF file. The associated File object should be opened in 'rb' mode, which stands for \"read binary.\" This mode ensures that the PDF file is read in binary mode to maintain the integrity of its content.\n"
      ],
      "metadata": {
        "id": "OnOmpoucXw24"
      }
    },
    {
      "cell_type": "code",
      "source": [
        "file = open('example.pdf', 'rb')\n",
        "pdf_reader = PdfFileReader(file)\n"
      ],
      "metadata": {
        "id": "_eUZXFEZYQAn"
      },
      "execution_count": null,
      "outputs": []
    },
    {
      "cell_type": "markdown",
      "source": [
        "PdfFileWriter() mode:\n",
        "\n",
        "The PdfFileWriter() function is used to create a new PDF file or modify an existing one by adding or manipulating its content. The associated File object should be opened in 'wb' mode, which stands for \"write binary.\" This mode ensures that the PDF file is opened in binary mode to properly handle the writing of binary data."
      ],
      "metadata": {
        "id": "sHaGdPy_YYC2"
      }
    },
    {
      "cell_type": "code",
      "source": [
        "file = open('output.pdf', 'wb')\n",
        "pdf_writer = PdfFileWriter()\n",
        "pdf_writer.addPage(some_page)\n",
        "pdf_writer.write(file)\n",
        "file.close()\n"
      ],
      "metadata": {
        "id": "bXZrET2eYY3_"
      },
      "execution_count": null,
      "outputs": []
    },
    {
      "cell_type": "markdown",
      "source": [
        "2. From a PdfFileReader object, how do you get a Page object for page 5?\n",
        "\n",
        "\n",
        "ans:\n",
        "\n",
        "\n",
        "\n",
        "To retrieve a Page object for page 5 from a PdfFileReader object in the PyPDF2 library, you can use the getPage() method with the page index as the parameter. In this case, since the index is zero-based, you would pass 4 as the index to get the Page object for page 5.\n",
        "\n",
        "Here's an example:"
      ],
      "metadata": {
        "id": "mYOeinGDYijv"
      }
    },
    {
      "cell_type": "code",
      "source": [
        "from PyPDF2 import PdfFileReader\n",
        "\n",
        "pdf_reader = PdfFileReader(open('example.pdf', 'rb'))\n",
        "page_index = 4  # Zero-based index for page 5\n",
        "page_five = pdf_reader.getPage(page_index)\n"
      ],
      "metadata": {
        "id": "razFZGOkYmf3"
      },
      "execution_count": null,
      "outputs": []
    },
    {
      "cell_type": "markdown",
      "source": [
        "In this example, example.pdf is the PDF file you are working with. The getPage() method is called on the PdfFileReader object (pdf_reader) with the page index 4 (corresponding to page 5) to retrieve the Page object, which is then assigned to the page_five variable.\n",
        "\n",
        "Now, you can use the page_five object to perform operations on page 5, such as extracting text, modifying content, or saving it as a separate PDF file."
      ],
      "metadata": {
        "id": "0SH8a7lQYs1f"
      }
    },
    {
      "cell_type": "markdown",
      "source": [
        "3. What PdfFileReader variable stores the number of pages in the PDF document?\n",
        "\n",
        "ans:\n",
        "\n",
        "The PdfFileReader variable that stores the number of pages in the PDF document is numPages.\n",
        "\n",
        "Here's an example:"
      ],
      "metadata": {
        "id": "ycJxUyOMYtt3"
      }
    },
    {
      "cell_type": "code",
      "source": [
        "from PyPDF2 import PdfFileReader\n",
        "\n",
        "pdf_reader = PdfFileReader(open('example.pdf', 'rb'))\n",
        "num_pages = pdf_reader.numPages\n"
      ],
      "metadata": {
        "id": "SoNLwrHPY3n4"
      },
      "execution_count": null,
      "outputs": []
    },
    {
      "cell_type": "markdown",
      "source": [
        "In this example, example.pdf is the PDF file you are working with. After creating a PdfFileReader object (pdf_reader) to read the PDF file, you can access the total number of pages using the numPages attribute of the pdf_reader object. The variable num_pages will store the total number of pages in the PDF document.\n",
        "\n",
        "You can use this value to iterate over the pages, extract specific pages, or perform other operations based on the total number of pages in the PDF document.\n",
        "\n",
        "\n",
        "\n",
        "\n"
      ],
      "metadata": {
        "id": "wktYcg1uY6bY"
      }
    },
    {
      "cell_type": "markdown",
      "source": [
        "4. If a PdfFileReader object’s PDF is encrypted with the password swordfish, what must you do\n",
        "before you can obtain Page objects from it?\n",
        "\n",
        "\n",
        "ans:\n",
        "\n",
        "\n",
        "If a PdfFileReader object's PDF is encrypted with the password \"swordfish,\" you need to provide the password to decrypt the PDF before obtaining Page objects from it. To do so, you can use the decrypt() method of the PdfFileReader object.\n",
        "\n",
        "Here's an example:"
      ],
      "metadata": {
        "id": "6jduEqz3Y7Y4"
      }
    },
    {
      "cell_type": "code",
      "source": [
        "from PyPDF2 import PdfFileReader\n",
        "\n",
        "pdf_reader = PdfFileReader(open('encrypted.pdf', 'rb'))\n",
        "pdf_reader.decrypt('swordfish')\n",
        "\n",
        "num_pages = pdf_reader.numPages\n",
        "page = pdf_reader.getPage(0)\n"
      ],
      "metadata": {
        "id": "2_8eOwvFZHuQ"
      },
      "execution_count": null,
      "outputs": []
    },
    {
      "cell_type": "markdown",
      "source": [
        "In this example, 'encrypted.pdf' is the encrypted PDF file you are working with. First, you create a PdfFileReader object (pdf_reader) by opening the PDF file in binary mode ('rb'). Then, you use the decrypt() method and provide the password 'swordfish' as the argument to decrypt the PDF.\n",
        "\n",
        "Once the PDF is decrypted, you can perform operations on it as usual. In the example above, num_pages retrieves the total number of pages in the decrypted PDF, and page retrieves the Page object for the first page (index 0) of the decrypted PDF.\n",
        "\n",
        "After decrypting the PDF with the correct password, you can obtain Page objects and perform various operations on them, such as extracting text, modifying content, or saving the decrypted PDF to a new file."
      ],
      "metadata": {
        "id": "qDsWd7kcZLiw"
      }
    },
    {
      "cell_type": "markdown",
      "source": [
        "5. What methods do you use to rotate a page?\n",
        "\n",
        "\n",
        "ans:\n",
        "\n",
        "\n",
        "To rotate a page in PyPDF2, you can use the rotateClockwise() or rotateCounterClockwise() methods of the Page object. These methods allow you to rotate the page in the clockwise or counterclockwise direction, respectively.\n",
        "\n",
        "Here's an example that demonstrates both rotation methods:"
      ],
      "metadata": {
        "id": "fBng-NWcZMRQ"
      }
    },
    {
      "cell_type": "code",
      "source": [
        "from PyPDF2 import PdfFileReader, PdfFileWriter\n",
        "\n",
        "pdf_reader = PdfFileReader(open('example.pdf', 'rb'))\n",
        "\n",
        "# Get the first page\n",
        "page = pdf_reader.getPage(0)\n",
        "\n",
        "# Rotate the page clockwise by 90 degrees\n",
        "page.rotateClockwise(90)\n",
        "\n",
        "# Rotate the page counterclockwise by 180 degrees\n",
        "page.rotateCounterClockwise(180)\n",
        "\n",
        "# Create a PdfFileWriter object and add the modified page\n",
        "pdf_writer = PdfFileWriter()\n",
        "pdf_writer.addPage(page)\n",
        "\n",
        "# Save the modified PDF to a new file\n",
        "with open('output.pdf', 'wb') as output_file:\n",
        "    pdf_writer.write(output_file)\n"
      ],
      "metadata": {
        "id": "Bam7EMfrZU3I"
      },
      "execution_count": null,
      "outputs": []
    },
    {
      "cell_type": "markdown",
      "source": [
        "In this example, example.pdf is the PDF file you are working with. First, a PdfFileReader object is created to read the PDF file. Then, the first page (getPage(0)) is obtained from the PdfFileReader object.\n",
        "\n",
        "To rotate the page, you can use the rotateClockwise() method to rotate the page clockwise by a specified angle (in degrees). In the example, the page is rotated clockwise by 90 degrees.\n",
        "\n",
        "Similarly, you can use the rotateCounterClockwise() method to rotate the page counterclockwise by a specified angle. In the example, the page is rotated counterclockwise by 180 degrees.\n",
        "\n",
        "After rotating the page, you can create a PdfFileWriter object, add the modified page to it using the addPage() method, and save the modified PDF to a new file (output.pdf) using the write() method.\n",
        "\n",
        "Note that the rotation methods modify the page in memory, and the changes will be reflected when you save the modified PDF."
      ],
      "metadata": {
        "id": "ie7JVI3HZfZx"
      }
    },
    {
      "cell_type": "markdown",
      "source": [
        "6. What is the difference between a Run object and a Paragraph object?\n",
        "\n",
        "\n",
        "ans:\n",
        "\n",
        "\n",
        "In the context of document processing, a Run object and a Paragraph object are two distinct elements that are often used in document manipulation libraries like python-docx.\n",
        "\n",
        "Run object: A Run object represents a contiguous run of text within a paragraph that shares the same set of character formatting properties. It is essentially a portion of text with consistent formatting applied to it. It can include attributes such as font size, font style, font color, and more. A paragraph can contain multiple runs, each with its own formatting. For example, within a single paragraph, you may have a run of bold text followed by a run of italicized text.\n",
        "\n",
        "Paragraph object: A Paragraph object represents a single paragraph in a document. It is a container for the textual content within a specific line or block. A paragraph can contain one or more runs, each defining a formatted portion of text within the paragraph. Paragraphs are commonly used to structure and organize text in documents, allowing for separate styling and formatting for different sections.\n",
        "\n",
        "In summary, the main difference between a Run object and a Paragraph object is their scope and purpose within a document:\n",
        "\n",
        "A Run object represents a specific portion of text with consistent formatting within a paragraph.\n",
        "A Paragraph object represents a complete paragraph, which can contain multiple runs, each with its own formatting.\n",
        "Together, paragraphs and runs provide flexibility in applying different formatting options to specific sections of text within a document."
      ],
      "metadata": {
        "id": "RTZ0QoNOZgIB"
      }
    },
    {
      "cell_type": "markdown",
      "source": [
        "7. How do you obtain a list of Paragraph objects for a Document object that’s stored in a variable\n",
        "named doc?\n",
        "\n",
        "\n",
        "ans:\n",
        "\n",
        "\n",
        "\n",
        "To obtain a list of Paragraph objects from a Document object stored in a variable named doc, you can access the paragraphs attribute of the Document object. The paragraphs attribute contains a list of all the paragraphs in the document.\n",
        "\n",
        "Here's an example:"
      ],
      "metadata": {
        "id": "GioYloONZq8p"
      }
    },
    {
      "cell_type": "code",
      "source": [
        "from docx import Document\n",
        "\n",
        "doc = Document('example.docx')\n",
        "\n",
        "paragraphs = doc.paragraphs\n"
      ],
      "metadata": {
        "id": "wVCejhTZZ1H5"
      },
      "execution_count": null,
      "outputs": []
    },
    {
      "cell_type": "markdown",
      "source": [
        "In this example, example.docx is the document file you are working with. The Document object is created by passing the document file name to the Document() constructor.\n",
        "\n",
        "To obtain a list of Paragraph objects, you can simply access the paragraphs attribute of the Document object (doc). This attribute provides direct access to all the paragraphs in the document, allowing you to iterate over them or perform operations on individual paragraphs.\n",
        "\n",
        "After executing the above code, the paragraphs variable will contain a list of Paragraph objects, with each object representing a paragraph in the document. You can then manipulate or analyze the paragraphs as needed."
      ],
      "metadata": {
        "id": "inYGciRuZ4TZ"
      }
    },
    {
      "cell_type": "markdown",
      "source": [
        "8. What type of object has bold, underline, italic, strike, and outline variables?\n",
        "\n",
        "\n",
        "ans:\n",
        "\n",
        "\n",
        "\n",
        "The type of object that has bold, underline, italic, strike, and outline variables typically refers to a Font object in document processing libraries like python-docx.\n",
        "\n",
        "A Font object represents the character formatting properties of a specific text element, such as a Run object within a paragraph. It encapsulates various attributes related to the appearance of the text, including whether it is bold, underlined, italicized, struck through, or outlined.\n",
        "\n",
        "By accessing the bold, underline, italic, strike, and outline variables of a Font object, you can determine or modify the formatting properties of the associated text element.\n",
        "\n",
        "Here's an example to illustrate the usage of these variables:"
      ],
      "metadata": {
        "id": "Xiv4YArtZ7B5"
      }
    },
    {
      "cell_type": "code",
      "source": [
        "from docx import Document\n",
        "\n",
        "doc = Document('example.docx')\n",
        "paragraph = doc.paragraphs[0]  # Assume the first paragraph\n",
        "\n",
        "for run in paragraph.runs:\n",
        "    if run.bold:\n",
        "        print(\"Text is bold.\")\n",
        "    \n",
        "    if run.underline:\n",
        "        print(\"Text is underlined.\")\n",
        "    \n",
        "    if run.italic:\n",
        "        print(\"Text is italicized.\")\n",
        "    \n",
        "    if run.strike:\n",
        "        print(\"Text is struck through.\")\n",
        "    \n",
        "    if run.outline:\n",
        "        print(\"Text has an outline.\")\n",
        "\n"
      ],
      "metadata": {
        "id": "4tytb6u3aDS6"
      },
      "execution_count": null,
      "outputs": []
    },
    {
      "cell_type": "markdown",
      "source": [
        "In this example, assuming example.docx is the document file you are working with, we access the first paragraph in the document using doc.paragraphs[0]. Then, we iterate through the runs within that paragraph.\n",
        "\n",
        "For each run, we check the values of the bold, underline, italic, strike, and outline variables of the associated Font object (run.font). If any of these variables are True, we print a corresponding message indicating the presence of the respective formatting property.\n",
        "\n",
        "By using these variables, you can determine the formatting attributes applied to specific text elements and perform various operations based on their values."
      ],
      "metadata": {
        "id": "zHtn8xC9aF0C"
      }
    },
    {
      "cell_type": "markdown",
      "source": [
        "9. What is the difference between False, True, and None for the bold variable?\n",
        "\n",
        "\n",
        "ans:\n",
        "\n",
        "\n",
        "\n",
        "In the context of the bold variable of a Font object in document processing libraries like python-docx, False, True, and None have different meanings:\n",
        "\n",
        "False: When the bold variable is set to False, it indicates that the text associated with the Font object is not formatted as bold. This means that the text appears with the default or regular font weight.\n",
        "\n",
        "True: When the bold variable is set to True, it indicates that the text associated with the Font object is formatted as bold. This means that the text appears with a bold or heavier font weight.\n",
        "\n",
        "None: When the bold variable is set to None, it indicates that the text does not have an explicit bold formatting applied to it. In this case, the default or inherited formatting is used. It means that the boldness of the text is determined by the document's default style or by the presence of any style inheritance.\n",
        "\n",
        "To summarize:\n",
        "\n",
        "bold=False indicates the absence of bold formatting.\n",
        "bold=True indicates the presence of bold formatting.\n",
        "bold=None indicates the use of default or inherited formatting for boldness.\n",
        "By setting the bold variable to False, True, or None, you can control the boldness of the associated text element within a document."
      ],
      "metadata": {
        "id": "jLsJSR73aI02"
      }
    },
    {
      "cell_type": "markdown",
      "source": [
        "10. How do you create a Document object for a new Word document?\n",
        "\n",
        "\n",
        "ans:\n",
        "\n",
        "\n",
        "To create a Document object for a new Word document using the python-docx library, you can simply call the Document() constructor without any arguments. This will create an empty Document object that you can then populate with content.\n",
        "\n",
        "Here's an example:"
      ],
      "metadata": {
        "id": "vtd8bHlGaQPr"
      }
    },
    {
      "cell_type": "code",
      "source": [
        "from docx import Document\n",
        "\n",
        "doc = Document()\n"
      ],
      "metadata": {
        "id": "R8aMHSoZadvT"
      },
      "execution_count": null,
      "outputs": []
    },
    {
      "cell_type": "markdown",
      "source": [
        "In this example, the Document() constructor is called without passing any arguments. This creates a new, empty Document object named doc.\n",
        "\n",
        "Once you have the Document object, you can add paragraphs, tables, images, and other elements to it using the available methods provided by the python-docx library. For example, you can add a paragraph using the add_paragraph() method or add a table using the add_table() method.\n",
        "\n",
        "Here's an example that adds a paragraph to the document:"
      ],
      "metadata": {
        "id": "h_S-F9pxafYl"
      }
    },
    {
      "cell_type": "code",
      "source": [
        "from docx import Document\n",
        "\n",
        "doc = Document()\n",
        "\n",
        "paragraph = doc.add_paragraph(\"Hello, World!\")\n",
        "\n",
        "doc.save(\"new_document.docx\")\n"
      ],
      "metadata": {
        "id": "w580J10zajIF"
      },
      "execution_count": null,
      "outputs": []
    },
    {
      "cell_type": "markdown",
      "source": [
        "In this example, a new Document object is created. Then, a paragraph with the text \"Hello, World!\" is added using the add_paragraph() method. Finally, the document is saved as \"new_document.docx\" using the save() method.\n",
        "\n",
        "You can customize and populate the Document object with various content based on your requirements before saving it as a Word document."
      ],
      "metadata": {
        "id": "OijOn48SanHl"
      }
    },
    {
      "cell_type": "markdown",
      "source": [
        "11. How do you add a paragraph with the text &#39;Hello, there!&#39; to a Document object stored in a\n",
        "variable named doc?\n",
        "\n",
        "\n",
        "ans:\n",
        "\n",
        "To add a paragraph with the text 'Hello, there!' to a Document object stored in a variable named doc, you can use the add_paragraph() method of the Document object.\n",
        "\n",
        "Here's an example:"
      ],
      "metadata": {
        "id": "60WVvPJZaqb9"
      }
    },
    {
      "cell_type": "code",
      "source": [
        "from docx import Document\n",
        "\n",
        "doc = Document()\n",
        "\n",
        "paragraph = doc.add_paragraph('Hello, there!')\n",
        "\n",
        "doc.save('document.docx')\n"
      ],
      "metadata": {
        "id": "sIDSax1ta4Fq"
      },
      "execution_count": null,
      "outputs": []
    },
    {
      "cell_type": "markdown",
      "source": [
        "\n",
        "In this example, an empty Document object is created and stored in the doc variable. The add_paragraph() method is then called on the doc object to add a paragraph with the specified text 'Hello, there!'. The resulting paragraph is assigned to the paragraph variable, but it can be omitted if you don't need to reference it later.\n",
        "\n",
        "Finally, the save() method is used to save the Document object as a Word document. In this case, the document is saved as 'document.docx' in the current directory.\n",
        "\n",
        "After executing this code, the Document object doc will contain a paragraph with the text 'Hello, there!' that can be further modified or added to as needed.\n"
      ],
      "metadata": {
        "id": "7WV_-EIqa87W"
      }
    },
    {
      "cell_type": "markdown",
      "source": [
        "12. What integers represent the levels of headings available in Word documents?\n",
        "\n",
        "\n",
        "ans:\n",
        "\n",
        "\n",
        "\n",
        "In Word documents, the levels of headings are typically represented by integers ranging from 1 to 9. Each integer corresponds to a specific level of heading, with 1 being the highest level and 9 being the lowest level.\n",
        "\n",
        "Here's the mapping of integers to heading levels in Word documents:\n",
        "\n",
        "Heading 1: Level 1\n",
        "Heading 2: Level 2\n",
        "Heading 3: Level 3\n",
        "Heading 4: Level 4\n",
        "Heading 5: Level 5\n",
        "Heading 6: Level 6\n",
        "Heading 7: Level 7\n",
        "Heading 8: Level 8\n",
        "Heading 9: Level 9\n",
        "These heading levels are commonly used to structure the content of a Word document and create a hierarchical organization. The higher the heading level, the more prominent and significant the heading is considered.\n",
        "\n",
        "When working with the python-docx library, you can use these integers to set the appropriate heading level for paragraphs or to apply specific styles associated with each heading level."
      ],
      "metadata": {
        "id": "kc8jY0L9bAJO"
      }
    }
  ]
}