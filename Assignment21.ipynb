{
  "nbformat": 4,
  "nbformat_minor": 0,
  "metadata": {
    "colab": {
      "provenance": [],
      "authorship_tag": "ABX9TyNgchnV0aKZQTMqevZ5D7Sy",
      "include_colab_link": true
    },
    "kernelspec": {
      "name": "python3",
      "display_name": "Python 3"
    },
    "language_info": {
      "name": "python"
    }
  },
  "cells": [
    {
      "cell_type": "markdown",
      "metadata": {
        "id": "view-in-github",
        "colab_type": "text"
      },
      "source": [
        "<a href=\"https://colab.research.google.com/github/Pavan-Nagulla/Python-Assignments/blob/main/Assignment21.ipynb\" target=\"_parent\"><img src=\"https://colab.research.google.com/assets/colab-badge.svg\" alt=\"Open In Colab\"/></a>"
      ]
    },
    {
      "cell_type": "code",
      "execution_count": null,
      "metadata": {
        "id": "lIDo74nWnPDw"
      },
      "outputs": [],
      "source": []
    },
    {
      "cell_type": "markdown",
      "source": [
        "1. Add the current date to the text file today.txt as a string.\n",
        "\n",
        "ans:\n",
        "\n",
        "To add the current date to the text file \"today.txt\" as a string, you can use the following code:"
      ],
      "metadata": {
        "id": "CBjBnMoInavf"
      }
    },
    {
      "cell_type": "code",
      "source": [
        "import datetime\n",
        "\n",
        "# Get the current date\n",
        "current_date = datetime.date.today()\n",
        "\n",
        "# Convert the date to a string\n",
        "date_string = str(current_date)\n",
        "\n",
        "# Open the file in append mode and write the date string\n",
        "with open('today.txt', 'a') as file:\n",
        "    file.write(date_string)\n"
      ],
      "metadata": {
        "id": "JPeO0Yf5nuxZ"
      },
      "execution_count": null,
      "outputs": []
    },
    {
      "cell_type": "markdown",
      "source": [
        "In this code, we first import the datetime module to work with dates and times.\n",
        "\n",
        "Next, we use the date.today() method to get the current date.\n",
        "\n",
        "Then, we convert the date to a string using the str() function.\n",
        "\n",
        "Finally, we open the \"today.txt\" file in append mode ('a') using a with statement, which automatically handles closing the file after writing. We then write the date string to the file using the write() method.\n",
        "\n",
        "After running this code, the current date will be added as a string to the \"today.txt\" file."
      ],
      "metadata": {
        "id": "-PJZZSUWnxsZ"
      }
    },
    {
      "cell_type": "markdown",
      "source": [
        "2. Read the text file today.txt into the string today_string\n",
        "\n",
        "ans:\n",
        "To read the contents of the text file \"today.txt\" into a string named today_string, you can use the following code:"
      ],
      "metadata": {
        "id": "EOIWjJ6On0_x"
      }
    },
    {
      "cell_type": "code",
      "source": [
        "with open('today.txt', 'r') as file:\n",
        "    today_string = file.read()\n"
      ],
      "metadata": {
        "id": "ZjWmBRV_n54N"
      },
      "execution_count": null,
      "outputs": []
    },
    {
      "cell_type": "markdown",
      "source": [
        "In this code, we use a with statement to open the file \"today.txt\" in read mode ('r'). Inside the with block, we read the contents of the file using the read() method and assign it to the variable today_string.\n",
        "\n",
        "After running this code, the contents of the \"today.txt\" file will be stored in the today_string variable as a string."
      ],
      "metadata": {
        "id": "9CQZKpoDn8e_"
      }
    },
    {
      "cell_type": "markdown",
      "source": [
        "3. Parse the date from today_string.\n",
        "\n",
        "ans:\n",
        "\n",
        "\n",
        "To parse the date from the string today_string, you can use the datetime module in Python. Here's an example code to parse the date:"
      ],
      "metadata": {
        "id": "5YZZiTBIn-wt"
      }
    },
    {
      "cell_type": "code",
      "source": [
        "import datetime\n",
        "\n",
        "# Assuming the date is in the format YYYY-MM-DD\n",
        "date_format = '%Y-%m-%d'\n",
        "\n",
        "# Parse the date from the string\n",
        "parsed_date = datetime.datetime.strptime(today_string.strip(), date_format).date()\n",
        "\n",
        "# Print the parsed date\n",
        "print(parsed_date)\n"
      ],
      "metadata": {
        "id": "Q2GHEc5foEqG"
      },
      "execution_count": null,
      "outputs": []
    },
    {
      "cell_type": "markdown",
      "source": [
        "In this code, we import the datetime module to work with dates and times.\n",
        "\n",
        "Assuming that the date in the today_string follows the format \"YYYY-MM-DD\", we define the date_format variable with the corresponding format string '%Y-%m-%d'.\n",
        "\n",
        "Then, we use the strptime() method from datetime to parse the date from the today_string. The strip() method is used to remove any leading or trailing whitespace from the string before parsing.\n",
        "\n",
        "Finally, we print the parsed date using the print() function.\n",
        "\n",
        "After running this code, the date from the today_string will be parsed and printed. Make sure that the today_string variable contains a valid date string in the expected format for successful parsing."
      ],
      "metadata": {
        "id": "tJOvE1xpoHXx"
      }
    },
    {
      "cell_type": "markdown",
      "source": [
        "4. List the files in your current directory\n",
        "\n",
        "ans:\n",
        "\n",
        "\n",
        "\n",
        "As an AI language model, I don't have direct access to the file system or the ability to list files in a specific directory. However, I can provide you with an example code snippet that demonstrates how you can list files in the current directory using the os module in Python:"
      ],
      "metadata": {
        "id": "VSvpqTCuoH15"
      }
    },
    {
      "cell_type": "code",
      "source": [
        "import os\n",
        "\n",
        "# Get the list of files in the current directory\n",
        "file_list = os.listdir()\n",
        "\n",
        "# Print the list of files\n",
        "for file_name in file_list:\n",
        "    print(file_name)\n"
      ],
      "metadata": {
        "id": "fJ3ux-LUoOk5"
      },
      "execution_count": null,
      "outputs": []
    },
    {
      "cell_type": "markdown",
      "source": [
        "In this code, we import the os module, which provides various functions for interacting with the operating system.\n",
        "\n",
        "The os.listdir() function is used to retrieve a list of file names in the current directory. By not passing any arguments to os.listdir(), it will list files in the current working directory.\n",
        "\n",
        "We then iterate over the file_list using a loop and print each file name.\n",
        "\n",
        "By executing this code, you will be able to list the files in your current directory."
      ],
      "metadata": {
        "id": "q7i0967_oRdx"
      }
    },
    {
      "cell_type": "markdown",
      "source": [
        "5. Create a list of all of the files in your parent directory (minimum five files should be available).\n",
        "\n",
        "ans:\n",
        "\n",
        "\n",
        "As an AI language model, I don't have direct access to the file system or the ability to list files in a specific directory on my parent server. However, I can provide you with an example code snippet that demonstrates how you can create a list of files in your parent directory using the os module in Python:"
      ],
      "metadata": {
        "id": "SArxFhXgoSHg"
      }
    },
    {
      "cell_type": "code",
      "source": [
        "import os\n",
        "\n",
        "# Get the current directory\n",
        "current_directory = os.getcwd()\n",
        "\n",
        "# Get the parent directory\n",
        "parent_directory = os.path.dirname(current_directory)\n",
        "\n",
        "# Get the list of files in the parent directory\n",
        "file_list = os.listdir(parent_directory)\n",
        "\n",
        "# Print the list of files\n",
        "for file_name in file_list:\n",
        "    print(file_name)\n"
      ],
      "metadata": {
        "id": "tbKkhfXsobzF"
      },
      "execution_count": null,
      "outputs": []
    },
    {
      "cell_type": "markdown",
      "source": [
        "In this code, we import the os module, which provides various functions for interacting with the operating system.\n",
        "\n",
        "First, we use the os.getcwd() function to get the current working directory.\n",
        "\n",
        "Next, we use the os.path.dirname() function to obtain the parent directory by passing the current directory as an argument.\n",
        "\n",
        "Then, we use the os.listdir() function to retrieve a list of file names in the parent directory.\n",
        "\n",
        "Finally, we iterate over the file_list using a loop and print each file name.\n",
        "\n",
        "Please note that the ability to list files in the parent directory depends on the permissions and access rights of the user running the Python script. Ensure that you have the necessary permissions to access files in the parent directory."
      ],
      "metadata": {
        "id": "v-s-6aDzod5l"
      }
    },
    {
      "cell_type": "markdown",
      "source": [
        "6. Use multiprocessing to create three separate processes. Make each one wait a random number of\n",
        "seconds between one and five, print the current time, and then exit.\n",
        "\n",
        "\n",
        "ans:\n",
        "\n",
        "\n",
        "Sure! Here's an example code snippet that uses the multiprocessing module to create three separate processes. Each process will wait for a random number of seconds between one and five, print the current time, and then exit:"
      ],
      "metadata": {
        "id": "BXogcdbQoeX8"
      }
    },
    {
      "cell_type": "code",
      "source": [
        "import multiprocessing\n",
        "import random\n",
        "import time\n",
        "from datetime import datetime\n",
        "\n",
        "def process_function():\n",
        "    # Generate a random sleep time between 1 and 5 seconds\n",
        "    sleep_time = random.randint(1, 5)\n",
        "    \n",
        "    # Sleep for the generated time\n",
        "    time.sleep(sleep_time)\n",
        "    \n",
        "    # Get the current time\n",
        "    current_time = datetime.now().strftime(\"%Y-%m-%d %H:%M:%S\")\n",
        "    \n",
        "    # Print the current time\n",
        "    print(f\"Current time: {current_time}\")\n",
        "    \n",
        "    # Exit the process\n",
        "    multiprocessing.current_process().close()\n",
        "\n",
        "if __name__ == '__main__':\n",
        "    # Create three separate processes\n",
        "    processes = []\n",
        "    for _ in range(3):\n",
        "        process = multiprocessing.Process(target=process_function)\n",
        "        processes.append(process)\n",
        "        process.start()\n",
        "    \n",
        "    # Wait for all processes to finish\n",
        "    for process in processes:\n",
        "        process.join()\n"
      ],
      "metadata": {
        "id": "3U0Zpkduopso"
      },
      "execution_count": null,
      "outputs": []
    },
    {
      "cell_type": "markdown",
      "source": [
        "In this code, we first import the necessary modules including multiprocessing, random, time, and datetime.\n",
        "\n",
        "Next, we define the process_function() that will be executed by each separate process. Inside the function, we generate a random sleep time between 1 and 5 seconds using random.randint(), sleep for the generated time using time.sleep(), get the current time using datetime.now(), and print the current time.\n",
        "\n",
        "In the main part of the code, we use a if __name__ == '__main__': block to ensure that the code is only executed when the script is run directly, not when imported as a module.\n",
        "\n",
        "Inside this block, we create three separate processes by iterating three times using a loop. For each iteration, we create a new process using multiprocessing.Process() and pass the process_function as the target. We start each process using process.start().\n",
        "\n",
        "After creating all the processes, we use another loop to wait for each process to finish using process.join().\n",
        "\n",
        "By running this code, you will see three separate processes being executed concurrently. Each process will wait for a random number of seconds, print the current time, and then exit. The exact order and timing of the output may vary due to the random sleep times."
      ],
      "metadata": {
        "id": "X3G_9_ZsouRQ"
      }
    },
    {
      "cell_type": "markdown",
      "source": [
        "7. Create a date object of your day of birth.\n",
        "\n",
        "ans:\n",
        "\n",
        "\n",
        "As an AI language model, I don't have personal information or a specific day of birth. However, I can show you an example of how to create a date object representing a specific day of birth.\n",
        "\n",
        "To create a date object representing a specific day of birth, you can use the datetime module in Python. Here's an example code snippet:"
      ],
      "metadata": {
        "id": "TOavhT0Zou7g"
      }
    },
    {
      "cell_type": "code",
      "source": [
        "import datetime\n",
        "\n",
        "# Specify the day of birth\n",
        "year = 1990\n",
        "month = 10\n",
        "day = 15\n",
        "\n",
        "# Create a date object for the day of birth\n",
        "date_of_birth = datetime.date(year, month, day)\n",
        "\n",
        "# Print the date of birth\n",
        "print(date_of_birth)\n"
      ],
      "metadata": {
        "id": "09E4PnZDo5Xs"
      },
      "execution_count": null,
      "outputs": []
    },
    {
      "cell_type": "markdown",
      "source": [
        "In this code, we use the datetime module to work with dates and times.\n",
        "\n",
        "You need to specify the year, month, and day of your birth in the variables year, month, and day, respectively.\n",
        "\n",
        "Then, we use the datetime.date() function to create a date object representing the specified day of birth by passing the year, month, and day as arguments.\n",
        "\n",
        "Finally, we print the date_of_birth to display the date object representing your day of birth.\n",
        "\n",
        "Replace the values of year, month, and day in the code with your actual date of birth to create the corresponding date object."
      ],
      "metadata": {
        "id": "lrHrl_iko8rE"
      }
    },
    {
      "cell_type": "markdown",
      "source": [
        "8. What day of the week was your day of birth?\n",
        "\n",
        "\n",
        "ans:\n",
        "\n",
        "\n",
        "\n",
        "As an AI language model, I don't have personal information or a specific day of birth. However, I can show you an example of how to determine the day of the week for a given date using the datetime module in Python.\n",
        "\n",
        "To determine the day of the week for a specific date, you can use the strftime() method with the %A format code, which returns the full weekday name. Here's an example code snippet:"
      ],
      "metadata": {
        "id": "2jM7GPIbo_Nk"
      }
    },
    {
      "cell_type": "code",
      "source": [
        "import datetime\n",
        "\n",
        "# Specify the day of birth\n",
        "year = 1990\n",
        "month = 10\n",
        "day = 15\n",
        "\n",
        "# Create a date object for the day of birth\n",
        "date_of_birth = datetime.date(year, month, day)\n",
        "\n",
        "# Determine the day of the week\n",
        "day_of_week = date_of_birth.strftime('%A')\n",
        "\n",
        "# Print the day of the week\n",
        "print(day_of_week)\n"
      ],
      "metadata": {
        "id": "iEkJoOoMpF9X"
      },
      "execution_count": null,
      "outputs": []
    },
    {
      "cell_type": "markdown",
      "source": [
        "In this code, we use the datetime module to work with dates and times.\n",
        "\n",
        "You need to specify the year, month, and day of your birth in the variables year, month, and day, respectively.\n",
        "\n",
        "Then, we use the datetime.date() function to create a date object representing the specified day of birth by passing the year, month, and day as arguments.\n",
        "\n",
        "Next, we use the strftime() method with the format code %A to obtain the full weekday name for the date of birth.\n",
        "\n",
        "Finally, we print the day_of_week to display the day of the week for your day of birth.\n",
        "\n",
        "Replace the values of year, month, and day in the code with your actual date of birth to determine the corresponding day of the week."
      ],
      "metadata": {
        "id": "t4skb5BypKP3"
      }
    },
    {
      "cell_type": "markdown",
      "source": [
        "9. When will you be (or when were you) 10,000 days old?\n",
        "\n",
        "\n",
        "ans:\n",
        "\n",
        "\n",
        "\n",
        "As an AI language model, I don't have a specific date of birth or an age. Therefore, I cannot provide a precise answer regarding when I will be or when I was 10,000 days old.\n",
        "\n",
        "However, if you would like to calculate the date when a person will be or was 10,000 days old, you can use the datetime module in Python. Here's an example code snippet:"
      ],
      "metadata": {
        "id": "71oNBMkppKy_"
      }
    },
    {
      "cell_type": "code",
      "source": [
        "import datetime\n",
        "\n",
        "# Specify the date of birth\n",
        "year = 1990\n",
        "month = 10\n",
        "day = 15\n",
        "\n",
        "# Create a date object for the date of birth\n",
        "date_of_birth = datetime.date(year, month, day)\n",
        "\n",
        "# Calculate the target date by adding 10,000 days\n",
        "target_date = date_of_birth + datetime.timedelta(days=10000)\n",
        "\n",
        "# Print the target date\n",
        "print(target_date)\n"
      ],
      "metadata": {
        "id": "wLui3bvypUIK"
      },
      "execution_count": null,
      "outputs": []
    },
    {
      "cell_type": "markdown",
      "source": [
        "In this code, we use the datetime module to work with dates and times.\n",
        "\n",
        "You need to specify the year, month, and day of the person's birth in the variables year, month, and day, respectively.\n",
        "\n",
        "Then, we use the datetime.date() function to create a date object representing the specified date of birth by passing the year, month, and day as arguments.\n",
        "\n",
        "Next, we calculate the target date by adding 10,000 days to the date of birth using the datetime.timedelta() function with the days parameter set to 10,000.\n",
        "\n",
        "Finally, we print the target_date to display the date when the person will be or was 10,000 days old.\n",
        "\n",
        "Replace the values of year, month, and day in the code with the actual date of birth to calculate the corresponding target date."
      ],
      "metadata": {
        "id": "q_3-uZmOpWP7"
      }
    }
  ]
}