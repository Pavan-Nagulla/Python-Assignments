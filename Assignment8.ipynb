{
  "nbformat": 4,
  "nbformat_minor": 0,
  "metadata": {
    "colab": {
      "provenance": [],
      "authorship_tag": "ABX9TyO/cDuGKIyjdyKjmIBSjRbB",
      "include_colab_link": true
    },
    "kernelspec": {
      "name": "python3",
      "display_name": "Python 3"
    },
    "language_info": {
      "name": "python"
    }
  },
  "cells": [
    {
      "cell_type": "markdown",
      "metadata": {
        "id": "view-in-github",
        "colab_type": "text"
      },
      "source": [
        "<a href=\"https://colab.research.google.com/github/Pavan-Nagulla/Python-Assignments/blob/main/Assignment8.ipynb\" target=\"_parent\"><img src=\"https://colab.research.google.com/assets/colab-badge.svg\" alt=\"Open In Colab\"/></a>"
      ]
    },
    {
      "cell_type": "markdown",
      "source": [
        "1. Is the Python Standard Library included with PyInputPlus?\n",
        "\n",
        "No, the Python Standard Library is not included with PyInputPlus. PyInputPlus is a third-party library that provides additional functionality for taking user input in Python. It is not part of the Python Standard Library, which is a collection of modules that are included with Python by default.\n",
        "\n",
        "PyInputPlus provides features such as input validation, timeout functionality, and automatic retries. It aims to make it easier to handle user input in a more controlled and robust manner. However, it is a separate library and needs to be installed separately using a package manager such as pip."
      ],
      "metadata": {
        "id": "qdgXbrllV6Wg"
      }
    },
    {
      "cell_type": "markdown",
      "source": [
        "2. Why is PyInputPlus commonly imported with import pyinputplus as pypi?\n",
        "\n",
        "\n",
        "\n",
        "\n",
        "PyInputPlus is commonly imported with the alias pypi (or any other desired alias) to make it easier and more convenient to reference the library in the code.\n",
        "\n",
        "Using an alias allows you to use a shorter and more concise name when accessing functions or classes from the PyInputPlus library. Instead of typing out the full name pyinputplus each time you want to use a function or class from the library, you can use the shorter alias pypi (or any other alias you choose) to save typing effort and make the code more readable."
      ],
      "metadata": {
        "id": "aoAeeLOUWMP6"
      }
    },
    {
      "cell_type": "markdown",
      "source": [
        "3. How do you distinguish between inputInt() and inputFloat()?\n",
        "\n",
        "\n",
        "\n",
        "inputInt(prompt=None, min=None, max=None, greaterThan=None, lessThan=None, blank=False, limit=None, timeout=None, default=None, strip=True):\n",
        "\n",
        "The inputInt() function is used when you want to specifically accept integer input from the user.\n",
        "It validates that the user input is a valid integer. If the input is not a valid integer, it will prompt the user to enter a valid integer.\n",
        "You can provide additional validation criteria such as minimum value (min), maximum value (max), greater than (greaterThan), less than (lessThan), and more."
      ],
      "metadata": {
        "id": "j9twR-m_WV63"
      }
    },
    {
      "cell_type": "code",
      "source": [
        "import pyinputplus as pypi\n",
        "\n",
        "age = pypi.inputInt(\"Enter your age: \")\n",
        "print(\"You entered:\", age)\n"
      ],
      "metadata": {
        "colab": {
          "base_uri": "https://localhost:8080/",
          "height": 356
        },
        "id": "BKzeqcacWi46",
        "outputId": "9e8907ae-165b-4339-a263-e81daa5ccab4"
      },
      "execution_count": 1,
      "outputs": [
        {
          "output_type": "error",
          "ename": "ModuleNotFoundError",
          "evalue": "ignored",
          "traceback": [
            "\u001b[0;31m---------------------------------------------------------------------------\u001b[0m",
            "\u001b[0;31mModuleNotFoundError\u001b[0m                       Traceback (most recent call last)",
            "\u001b[0;32m<ipython-input-1-b4631f1bed7c>\u001b[0m in \u001b[0;36m<cell line: 1>\u001b[0;34m()\u001b[0m\n\u001b[0;32m----> 1\u001b[0;31m \u001b[0;32mimport\u001b[0m \u001b[0mpyinputplus\u001b[0m \u001b[0;32mas\u001b[0m \u001b[0mpypi\u001b[0m\u001b[0;34m\u001b[0m\u001b[0;34m\u001b[0m\u001b[0m\n\u001b[0m\u001b[1;32m      2\u001b[0m \u001b[0;34m\u001b[0m\u001b[0m\n\u001b[1;32m      3\u001b[0m \u001b[0mage\u001b[0m \u001b[0;34m=\u001b[0m \u001b[0mpypi\u001b[0m\u001b[0;34m.\u001b[0m\u001b[0minputInt\u001b[0m\u001b[0;34m(\u001b[0m\u001b[0;34m\"Enter your age: \"\u001b[0m\u001b[0;34m)\u001b[0m\u001b[0;34m\u001b[0m\u001b[0;34m\u001b[0m\u001b[0m\n\u001b[1;32m      4\u001b[0m \u001b[0mprint\u001b[0m\u001b[0;34m(\u001b[0m\u001b[0;34m\"You entered:\"\u001b[0m\u001b[0;34m,\u001b[0m \u001b[0mage\u001b[0m\u001b[0;34m)\u001b[0m\u001b[0;34m\u001b[0m\u001b[0;34m\u001b[0m\u001b[0m\n",
            "\u001b[0;31mModuleNotFoundError\u001b[0m: No module named 'pyinputplus'",
            "",
            "\u001b[0;31m---------------------------------------------------------------------------\u001b[0;32m\nNOTE: If your import is failing due to a missing package, you can\nmanually install dependencies using either !pip or !apt.\n\nTo view examples of installing some common dependencies, click the\n\"Open Examples\" button below.\n\u001b[0;31m---------------------------------------------------------------------------\u001b[0m\n"
          ],
          "errorDetails": {
            "actions": [
              {
                "action": "open_url",
                "actionText": "Open Examples",
                "url": "/notebooks/snippets/importing_libraries.ipynb"
              }
            ]
          }
        }
      ]
    },
    {
      "cell_type": "markdown",
      "source": [
        "inputFloat(prompt=None, min=None, max=None, greaterThan=None, lessThan=None, blank=False, limit=None, timeout=None, default=None, strip=True):\n",
        "\n",
        "The inputFloat() function is used when you want to specifically accept floating-point numbers (decimal numbers) as input from the user.\n",
        "It validates that the user input is a valid floating-point number. If the input is not a valid float, it will prompt the user to enter a valid float.\n",
        "Similar to inputInt(), you can provide additional validation criteria such as minimum value (min), maximum value (max), greater than (greaterThan), less than (lessThan), and more.\n",
        "Example usage:"
      ],
      "metadata": {
        "id": "ChmC4BhmWofi"
      }
    },
    {
      "cell_type": "code",
      "execution_count": null,
      "metadata": {
        "id": "Vc3gJeXmVNrA"
      },
      "outputs": [],
      "source": [
        "import pyinputplus as pypi\n",
        "\n",
        "temperature = pypi.inputFloat(\"Enter the temperature: \")\n",
        "print(\"The temperature is:\", temperature)\n"
      ]
    },
    {
      "cell_type": "markdown",
      "source": [
        "4. Using PyInputPlus, how do you ensure that the user enters a whole number between 0 and 99?\n",
        "\n",
        "\n",
        "\n",
        "To ensure that the user enters a whole number between 0 and 99 using PyInputPlus, you can use the inputInt() function with the min and max arguments to specify the range of acceptable values.\n",
        "\n",
        "Here's an example:"
      ],
      "metadata": {
        "id": "PFN72KgGWzM-"
      }
    },
    {
      "cell_type": "code",
      "source": [
        "import pyinputplus as pypi\n",
        "\n",
        "number = pypi.inputInt(\"Enter a number between 0 and 99: \", min=0, max=99)\n",
        "print(\"You entered:\", number)\n"
      ],
      "metadata": {
        "colab": {
          "base_uri": "https://localhost:8080/",
          "height": 356
        },
        "id": "10lcSSq8W63Y",
        "outputId": "64b835b7-3507-4af2-d66e-baf493e180dc"
      },
      "execution_count": 2,
      "outputs": [
        {
          "output_type": "error",
          "ename": "ModuleNotFoundError",
          "evalue": "ignored",
          "traceback": [
            "\u001b[0;31m---------------------------------------------------------------------------\u001b[0m",
            "\u001b[0;31mModuleNotFoundError\u001b[0m                       Traceback (most recent call last)",
            "\u001b[0;32m<ipython-input-2-e5932b410dac>\u001b[0m in \u001b[0;36m<cell line: 1>\u001b[0;34m()\u001b[0m\n\u001b[0;32m----> 1\u001b[0;31m \u001b[0;32mimport\u001b[0m \u001b[0mpyinputplus\u001b[0m \u001b[0;32mas\u001b[0m \u001b[0mpypi\u001b[0m\u001b[0;34m\u001b[0m\u001b[0;34m\u001b[0m\u001b[0m\n\u001b[0m\u001b[1;32m      2\u001b[0m \u001b[0;34m\u001b[0m\u001b[0m\n\u001b[1;32m      3\u001b[0m \u001b[0mnumber\u001b[0m \u001b[0;34m=\u001b[0m \u001b[0mpypi\u001b[0m\u001b[0;34m.\u001b[0m\u001b[0minputInt\u001b[0m\u001b[0;34m(\u001b[0m\u001b[0;34m\"Enter a number between 0 and 99: \"\u001b[0m\u001b[0;34m,\u001b[0m \u001b[0mmin\u001b[0m\u001b[0;34m=\u001b[0m\u001b[0;36m0\u001b[0m\u001b[0;34m,\u001b[0m \u001b[0mmax\u001b[0m\u001b[0;34m=\u001b[0m\u001b[0;36m99\u001b[0m\u001b[0;34m)\u001b[0m\u001b[0;34m\u001b[0m\u001b[0;34m\u001b[0m\u001b[0m\n\u001b[1;32m      4\u001b[0m \u001b[0mprint\u001b[0m\u001b[0;34m(\u001b[0m\u001b[0;34m\"You entered:\"\u001b[0m\u001b[0;34m,\u001b[0m \u001b[0mnumber\u001b[0m\u001b[0;34m)\u001b[0m\u001b[0;34m\u001b[0m\u001b[0;34m\u001b[0m\u001b[0m\n",
            "\u001b[0;31mModuleNotFoundError\u001b[0m: No module named 'pyinputplus'",
            "",
            "\u001b[0;31m---------------------------------------------------------------------------\u001b[0;32m\nNOTE: If your import is failing due to a missing package, you can\nmanually install dependencies using either !pip or !apt.\n\nTo view examples of installing some common dependencies, click the\n\"Open Examples\" button below.\n\u001b[0;31m---------------------------------------------------------------------------\u001b[0m\n"
          ],
          "errorDetails": {
            "actions": [
              {
                "action": "open_url",
                "actionText": "Open Examples",
                "url": "/notebooks/snippets/importing_libraries.ipynb"
              }
            ]
          }
        }
      ]
    },
    {
      "cell_type": "markdown",
      "source": [
        "In this example, inputInt() is used to prompt the user to enter a number between 0 and 99. The min argument is set to 0 and the max argument is set to 99, which defines the acceptable range of values. If the user enters a value outside this range or a non-integer value, PyInputPlus will re-prompt the user until a valid input is provided.\n",
        "\n",
        "By specifying the min and max arguments, you can ensure that the user enters a whole number within the desired range."
      ],
      "metadata": {
        "id": "trT-5LFWXBBq"
      }
    },
    {
      "cell_type": "markdown",
      "source": [
        "5. What is transferred to the keyword arguments allowRegexes and blockRegexes?\n",
        "\n",
        "\n",
        "\n",
        "In PyInputPlus, the keyword arguments allowRegexes and blockRegexes are used to specify regular expressions for input validation.\n",
        "\n",
        "allowRegexes allows certain patterns to be accepted as valid input.\n",
        "blockRegexes blocks certain patterns from being accepted as valid input.\n",
        "Both allowRegexes and blockRegexes accept a list of regular expression patterns as their values. These patterns define the allowed or blocked input formats.\n",
        "\n",
        "Here's an example that demonstrates the usage of allowRegexes and blockRegexes:"
      ],
      "metadata": {
        "id": "8JoyQoCeXB8i"
      }
    },
    {
      "cell_type": "code",
      "source": [
        "import pyinputplus as pypi\n",
        "\n",
        "# Only allow input that starts with 'A' or ends with 'B'\n",
        "input_value = pypi.inputStr(\"Enter a string: \", allowRegexes=['^A', 'B$'])\n",
        "\n",
        "# Block input that contains consecutive digits\n",
        "number = pypi.inputInt(\"Enter a number: \", blockRegexes=[r'\\d{2}'])\n",
        "\n",
        "print(\"You entered:\", input_value)\n",
        "print(\"You entered:\", number)\n"
      ],
      "metadata": {
        "id": "Pl1vWOGHXOLn"
      },
      "execution_count": null,
      "outputs": []
    },
    {
      "cell_type": "markdown",
      "source": [
        "In this example:\n",
        "\n",
        "The allowRegexes argument allows input that starts with 'A' or ends with 'B'.\n",
        "The blockRegexes argument blocks input that contains consecutive digits (e.g., '11', '22', '33', etc.).\n",
        "By specifying regular expression patterns in allowRegexes and blockRegexes, you can control and validate the input based on specific patterns or formats."
      ],
      "metadata": {
        "id": "6MMCGOBgXRIm"
      }
    },
    {
      "cell_type": "markdown",
      "source": [
        "6. If a blank input is entered three times, what does inputStr(limit=3) do?\n",
        "\n",
        "\n",
        "If a blank input is entered three times while using inputStr(limit=3) in PyInputPlus, it will raise a ValidationException.\n",
        "\n",
        "The limit argument in inputStr() specifies the maximum number of times the user can provide an invalid input before a ValidationException is raised. In this case, a blank input is considered an invalid input because it does not satisfy the requirement of providing a non-empty string.\n",
        "\n",
        "Here's an example:"
      ],
      "metadata": {
        "id": "Zs7IlELQXRC-"
      }
    },
    {
      "cell_type": "code",
      "source": [
        "import pyinputplus as pypi\n",
        "\n",
        "input_value = pypi.inputStr(\"Enter a non-empty string: \", limit=3)\n",
        "print(\"You entered:\", input_value)\n"
      ],
      "metadata": {
        "id": "8RAVfgPnYLF6"
      },
      "execution_count": null,
      "outputs": []
    },
    {
      "cell_type": "markdown",
      "source": [
        "7. If blank input is entered three times, what does inputStr(limit=3, default=&#39;hello&#39;) do?\n",
        "\n",
        "\n",
        "\n",
        "\n",
        "If a blank input is entered three times while using inputStr(limit=3, default='hello') in PyInputPlus, it will return the default value 'hello' without raising a ValidationException.\n",
        "\n",
        "The limit argument in inputStr() specifies the maximum number of times the user can provide an invalid input before a ValidationException is raised. In this case, a blank input is considered an invalid input because it does not satisfy the requirement of providing a non-empty string.\n",
        "\n",
        "The default argument provides a fallback value that is returned if the user reaches the limit of invalid inputs. Instead of raising a ValidationException, when the limit is reached, the function will return the default value provided.\n",
        "\n",
        "Here's an example:"
      ],
      "metadata": {
        "id": "P7cPDHMLYOYu"
      }
    },
    {
      "cell_type": "code",
      "source": [
        "import pyinputplus as pypi\n",
        "\n",
        "input_value = pypi.inputStr(\"Enter a non-empty string: \", limit=3, default='hello')\n",
        "print(\"You entered:\", input_value)\n"
      ],
      "metadata": {
        "id": "dlbrAgqBYWx2"
      },
      "execution_count": null,
      "outputs": []
    }
  ]
}