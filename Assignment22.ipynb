{
  "nbformat": 4,
  "nbformat_minor": 0,
  "metadata": {
    "colab": {
      "provenance": [],
      "authorship_tag": "ABX9TyNrKRhbsTnjClx5srpW4zBf",
      "include_colab_link": true
    },
    "kernelspec": {
      "name": "python3",
      "display_name": "Python 3"
    },
    "language_info": {
      "name": "python"
    }
  },
  "cells": [
    {
      "cell_type": "markdown",
      "metadata": {
        "id": "view-in-github",
        "colab_type": "text"
      },
      "source": [
        "<a href=\"https://colab.research.google.com/github/Pavan-Nagulla/Python-Assignments/blob/main/Assignment22.ipynb\" target=\"_parent\"><img src=\"https://colab.research.google.com/assets/colab-badge.svg\" alt=\"Open In Colab\"/></a>"
      ]
    },
    {
      "cell_type": "code",
      "execution_count": null,
      "metadata": {
        "id": "dgE0AIhopmMA"
      },
      "outputs": [],
      "source": []
    },
    {
      "cell_type": "markdown",
      "source": [
        "1. What is the result of the code, and explain?\n",
        "\n",
        "&gt;&gt;&gt; X = &#39;iNeuron&#39;\n",
        "&gt;&gt;&gt; def func():\n",
        "print(X)\n",
        "\n",
        "&gt;&gt;&gt; func()\n",
        "\n",
        "ans :\n",
        "\n",
        "\n",
        "\n",
        "The result of the code would be:\n",
        "\n",
        "iNeuron\n",
        "\n",
        "\n",
        "Explanation:\n",
        "\n",
        "The code starts by assigning the string 'iNeuron' to the variable X.\n",
        "Next, a function named func is defined.\n",
        "Inside the function func, the value of the variable X is printed using the print statement.\n",
        "Finally, the func function is called, which results in the execution of the function's code and printing the value of X, which is 'iNeuron'.\n",
        "Since the variable X is defined outside the function func and is accessible within the function's scope, the print statement inside func can access and display the value of X. Therefore, when the func function is called, it prints 'iNeuron' as the output."
      ],
      "metadata": {
        "id": "Z52SpJMrp6d7"
      }
    },
    {
      "cell_type": "markdown",
      "source": [
        "2. What is the result of the code, and explain?\n",
        "\n",
        "&gt;&gt;&gt; X = &#39;iNeuron&#39;\n",
        "&gt;&gt;&gt; def func():\n",
        "X = &#39;NI!&#39;\n",
        "\n",
        "&gt;&gt;&gt; func()\n",
        "&gt;&gt;&gt; print(X)\n",
        "\n",
        "\n",
        "ans:\n",
        "\n",
        "\n",
        "\n",
        "The result of the code would be:\n",
        "\n",
        "\n",
        "iNeuron\n",
        "\n",
        "\n",
        "\n",
        "Explanation:\n",
        "\n",
        "The code begins by assigning the string 'iNeuron' to the variable X.\n",
        "Next, a function named func is defined.\n",
        "Inside the func function, a new local variable X is created and assigned the string 'NI!'. This local variable X shadows the global variable X within the function's scope.\n",
        "The func function does not have any explicit return statement or print statement to display the value of X.\n",
        "After defining the func function, it is called.\n",
        "When the print(X) statement is executed outside the func function, it references the global variable X rather than the local variable X defined within func. Therefore, it prints the value of the global variable X, which is still 'iNeuron'.\n",
        "Since the local variable X inside func does not affect the global variable X, the value of X remains 'iNeuron' when it is printed outside the function."
      ],
      "metadata": {
        "id": "0FR68D16qL8J"
      }
    },
    {
      "cell_type": "markdown",
      "source": [
        "3. What does this code print, and why?\n",
        "\n",
        "&gt;&gt;&gt; X = &#39;iNeuron&#39;\n",
        "&gt;&gt;&gt; def func():\n",
        "X = &#39;NI&#39;\n",
        "print(X)\n",
        "\n",
        "&gt;&gt;&gt; func()\n",
        "&gt;&gt;&gt; print(X)\n",
        "\n",
        "\n",
        "\n",
        "ans:\n",
        "\n",
        "\n",
        "\n",
        "The code would print:\n",
        "\n",
        "\n",
        "NI\n",
        "iNeuron\n",
        "\n",
        "\n",
        "\n",
        "Explanation:\n",
        "\n",
        "Initially, the string 'iNeuron' is assigned to the global variable X.\n",
        "The function func is defined, which creates a new local variable X and assigns it the value 'NI'.\n",
        "Inside the func function, the print(X) statement is executed, which prints the value of the local variable X, which is 'NI'.\n",
        "After defining the func function, it is called.\n",
        "When the print(X) statement is executed outside the func function, it refers to the global variable X, which has the value 'iNeuron'. Therefore, it prints 'iNeuron'.\n",
        "The local variable X defined within the func function is separate from the global variable X. Modifying the local variable X inside the function does not affect the value of the global variable X. Hence, when print(X) is called outside the function, it displays the value assigned to the global variable X, which remains unchanged as 'iNeuron'."
      ],
      "metadata": {
        "id": "JWPv6VNBqXmp"
      }
    },
    {
      "cell_type": "markdown",
      "source": [
        "4. What output does this code produce? Why?\n",
        "\n",
        "&gt;&gt;&gt; X = &#39;iNeuron&#39;\n",
        "&gt;&gt;&gt; def func():\n",
        "global X\n",
        "X = &#39;NI&#39;\n",
        "\n",
        "&gt;&gt;&gt; func()\n",
        "&gt;&gt;&gt; print(X)\n",
        "\n",
        "ans:\n",
        "\n",
        "\n",
        "\n",
        "The output of the code would be:\n",
        "\n",
        "\n",
        "NI\n",
        "\n",
        "\n",
        "\n",
        "Explanation:\n",
        "\n",
        "Initially, the string 'iNeuron' is assigned to the global variable X.\n",
        "The func function is defined.\n",
        "Inside the func function, the global keyword is used to indicate that the variable X being referenced is the global variable X rather than creating a new local variable with the same name.\n",
        "The value 'NI' is assigned to the global variable X.\n",
        "After defining the func function, it is called.\n",
        "When the print(X) statement is executed, it refers to the modified global variable X, which now has the value 'NI'. Therefore, it prints 'NI'.\n",
        "By using the global keyword inside the function, we explicitly specify that the variable X being assigned is the global variable X. This allows us to modify the value of the global variable X within the function's scope, and the modified value is reflected outside the function as well."
      ],
      "metadata": {
        "id": "L5aSqPy8qhBE"
      }
    },
    {
      "cell_type": "markdown",
      "source": [
        "5. What about this code—what’s the output, and why?\n",
        "\n",
        "&gt;&gt;&gt; X = &#39;iNeuron&#39;\n",
        "&gt;&gt;&gt; def func():\n",
        "X = &#39;NI&#39;\n",
        "def nested():\n",
        "print(X)\n",
        "nested()\n",
        "\n",
        "&gt;&gt;&gt; func()\n",
        "&gt;&gt;&gt; X\n",
        "\n",
        "\n",
        "ans:\n",
        "\n",
        "\n",
        "The output of the code would be:\n",
        "\n",
        "\n",
        "iNeuron  \n",
        "\n",
        "\n",
        "\n",
        "\n",
        "Explanation:\n",
        "\n",
        "Initially, the string 'iNeuron' is assigned to the global variable X.\n",
        "The func function is defined.\n",
        "Inside the func function, a new local variable X is created and assigned the value 'NI'.\n",
        "Within the func function, another nested function named nested is defined.\n",
        "Inside the nested function, the print(X) statement is executed, which references the variable X in the scope of the nearest enclosing function, which is the func function. Therefore, it prints the value of the local variable X, which is 'NI'.\n",
        "After defining the nested function, it is immediately called within the func function.\n",
        "When the func function is called, it executes the nested function, which prints 'NI' as the output.\n",
        "Finally, outside the function, the value of the global variable X is printed, which remains unchanged as 'iNeuron'.\n",
        "The local variable X defined within the func function is separate from the global variable X. The print(X) statement inside the nested function looks for the value of X in the nearest enclosing scope, which is the func function's scope. Therefore, it prints the value of the local variable X defined in func.\n",
        "\n",
        "\n",
        "\n",
        "\n",
        " "
      ],
      "metadata": {
        "id": "KWzP47T6qsIR"
      }
    },
    {
      "cell_type": "markdown",
      "source": [
        "6. How about this code: what is its output in Python 3, and explain?\n",
        "\n",
        "&gt;&gt;&gt; def func():\n",
        "X = &#39;NI&#39;\n",
        "def nested():\n",
        "nonlocal X\n",
        "X = &#39;Spam&#39;\n",
        "nested()\n",
        "print(X)\n",
        "\n",
        "&gt;&gt;&gt; func()\n",
        "\n",
        "\n",
        "ans:\n",
        "\n",
        "\n",
        "\n",
        "The output of the code would be:\n",
        "\n",
        "\n",
        "Spam\n",
        "\n",
        "\n",
        "\n",
        "\n",
        "Explanation:\n",
        "\n",
        "The func function is defined.\n",
        "Inside the func function, a local variable X is created and assigned the value 'NI'.\n",
        "Within the func function, another nested function named nested is defined.\n",
        "Inside the nested function, the nonlocal keyword is used to indicate that the variable X being referenced is from the nearest enclosing scope, which is the scope of the func function.\n",
        "The value 'Spam' is assigned to the X variable using the nonlocal keyword, which modifies the value of the X variable in the func function's scope.\n",
        "After defining the nested function, it is immediately called within the func function.\n",
        "When the nested function is executed, it assigns 'Spam' to the variable X in the func function's scope.\n",
        "Finally, within the func function, the value of X is printed, which is 'Spam'.\n",
        "The nonlocal keyword is used to indicate that a variable is not local to the current function scope but is instead defined in an enclosing scope. In this case, it allows the nested function to modify the X variable in the func function's scope, leading to the output 'Spam' when print(X) is executed."
      ],
      "metadata": {
        "id": "S6AtT2seq3M8"
      }
    },
    {
      "cell_type": "markdown",
      "source": [],
      "metadata": {
        "id": "o3eRpvD0rAer"
      }
    },
    {
      "cell_type": "markdown",
      "source": [],
      "metadata": {
        "id": "ZUKQIHrAqDre"
      }
    }
  ]
}