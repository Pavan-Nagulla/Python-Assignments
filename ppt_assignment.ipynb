{
  "nbformat": 4,
  "nbformat_minor": 0,
  "metadata": {
    "colab": {
      "provenance": [],
      "authorship_tag": "ABX9TyML9eQtzPJy3pUux3T37xL2",
      "include_colab_link": true
    },
    "kernelspec": {
      "name": "python3",
      "display_name": "Python 3"
    },
    "language_info": {
      "name": "python"
    }
  },
  "cells": [
    {
      "cell_type": "markdown",
      "metadata": {
        "id": "view-in-github",
        "colab_type": "text"
      },
      "source": [
        "<a href=\"https://colab.research.google.com/github/Pavan-Nagulla/Python-Assignments/blob/main/ppt_assignment.ipynb\" target=\"_parent\"><img src=\"https://colab.research.google.com/assets/colab-badge.svg\" alt=\"Open In Colab\"/></a>"
      ]
    },
    {
      "cell_type": "code",
      "execution_count": 2,
      "metadata": {
        "colab": {
          "base_uri": "https://localhost:8080/"
        },
        "id": "kn34ykQ2shzv",
        "outputId": "a7391297-5299-4934-fc71-f2331b93b1c2"
      },
      "outputs": [
        {
          "output_type": "stream",
          "name": "stdout",
          "text": [
            "2\n"
          ]
        }
      ],
      "source": [
        "def mySqrt(x):\n",
        "    if x == 0:  # Base case: if x is 0, the square root is 0\n",
        "        return 0\n",
        "\n",
        "    left = 1  # Start the binary search range from 1\n",
        "    right = x  # End the binary search range at x\n",
        "\n",
        "    while left <= right:\n",
        "        mid = (left + right) // 2  # Calculate the midpoint\n",
        "\n",
        "        if mid * mid <= x < (mid + 1) * (mid + 1):\n",
        "            return mid  # Found the exact square root, return mid\n",
        "\n",
        "        elif x < mid * mid:\n",
        "            right = mid - 1  # Go to the left half of the range\n",
        "\n",
        "        else:\n",
        "            left = mid + 1  # Go to the right half of the range\n",
        "\n",
        "    return left - 1  # If no exact square root is found, return the floor value\n",
        "\n",
        "\n",
        "ans = 4\n",
        "result = mySqrt(ans)\n",
        "print(result)\n",
        "\n"
      ]
    }
  ]
}