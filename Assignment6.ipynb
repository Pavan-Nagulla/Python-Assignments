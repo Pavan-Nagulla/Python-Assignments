{
  "nbformat": 4,
  "nbformat_minor": 0,
  "metadata": {
    "colab": {
      "provenance": [],
      "authorship_tag": "ABX9TyMmB3U+gZSWKfpg0e3AkYPC",
      "include_colab_link": true
    },
    "kernelspec": {
      "name": "python3",
      "display_name": "Python 3"
    },
    "language_info": {
      "name": "python"
    }
  },
  "cells": [
    {
      "cell_type": "markdown",
      "metadata": {
        "id": "view-in-github",
        "colab_type": "text"
      },
      "source": [
        "<a href=\"https://colab.research.google.com/github/Pavan-Nagulla/Python-Assignments/blob/main/Assignment6.ipynb\" target=\"_parent\"><img src=\"https://colab.research.google.com/assets/colab-badge.svg\" alt=\"Open In Colab\"/></a>"
      ]
    },
    {
      "cell_type": "markdown",
      "source": [
        "1. What are escape characters, and how do you use them?\n",
        "\n",
        "Escape characters are special characters that are used to represent certain actions or characters that cannot be directly typed or interpreted in a string. They are typically denoted by a backslash \\ followed by a specific character or sequence.\n",
        "\n",
        "Escape characters allow us to include characters such as double quotes (\"), single quotes ('), backslashes (\\), and other special characters within a string. They are used to modify the interpretation of subsequent characters in the string.\n",
        "\n",
        "Here are some commonly used escape characters:\n",
        "\n",
        "\\': Single quote character\n",
        "\\\": Double quote character\n",
        "\\\\: Backslash character\n",
        "\\n: Newline character (line break)\n",
        "\\t: Tab character\n",
        "\\r: Carriage return character\n",
        "\\b: Backspace character\n",
        "\\f: Form feed character"
      ],
      "metadata": {
        "id": "qeqm4HO5QuR6"
      }
    },
    {
      "cell_type": "markdown",
      "source": [
        "2. What do the escape characters n and t stand for?\n",
        "The escape characters \\n and \\t represent specific actions related to formatting and layout within a string:\n",
        "\n",
        "\\n: Newline character (line break)\n",
        "When encountered in a string, \\n is interpreted as a command to start a new line. It creates a line break, moving the subsequent text to a new line.\n",
        "It is commonly used to format text into separate lines or paragraphs."
      ],
      "metadata": {
        "id": "HbkHVwUXRCYy"
      }
    },
    {
      "cell_type": "code",
      "execution_count": 1,
      "metadata": {
        "colab": {
          "base_uri": "https://localhost:8080/"
        },
        "id": "gxwKsjlcKqxP",
        "outputId": "4b85a97a-279d-4880-e898-e9b87f4cb670"
      },
      "outputs": [
        {
          "output_type": "stream",
          "name": "stdout",
          "text": [
            "Hello\n",
            "World\n"
          ]
        }
      ],
      "source": [
        "print(\"Hello\\nWorld\")\n"
      ]
    },
    {
      "cell_type": "markdown",
      "source": [
        "\\t: Tab character\n",
        "When encountered in a string, \\t is interpreted as a command to insert a horizontal tab. It creates a tabular space or indentation in the output.\n",
        "It is commonly used for aligning columns or creating consistent indentation."
      ],
      "metadata": {
        "id": "FeHD8dlSRT6-"
      }
    },
    {
      "cell_type": "code",
      "source": [
        "print(\"Name:\\tJohn\")\n",
        "print(\"Age:\\t25\")\n"
      ],
      "metadata": {
        "colab": {
          "base_uri": "https://localhost:8080/"
        },
        "id": "iWtFFFwyRYXb",
        "outputId": "1885cfb8-d879-40f4-9952-6e82648d85ea"
      },
      "execution_count": 2,
      "outputs": [
        {
          "output_type": "stream",
          "name": "stdout",
          "text": [
            "Name:\tJohn\n",
            "Age:\t25\n"
          ]
        }
      ]
    },
    {
      "cell_type": "markdown",
      "source": [
        "3. What is the way to include backslash characters in a string?\n",
        "\n",
        "\n",
        "To include a backslash character (\\) itself in a string, you need to use the escape character \\\\.\n",
        "\n",
        "The double backslash \\\\ is interpreted as a single backslash character in the resulting string. This is because the first backslash acts as an escape character, indicating that the following character should be treated as a literal character and not as a special character.\n",
        "\n",
        "Here's an example in Python:"
      ],
      "metadata": {
        "id": "42jWt_-jRfVP"
      }
    },
    {
      "cell_type": "code",
      "source": [
        "my_string = \"This is a backslash: \\\\\"\n",
        "print(my_string)\n"
      ],
      "metadata": {
        "colab": {
          "base_uri": "https://localhost:8080/"
        },
        "id": "RSTKFz2QRr0i",
        "outputId": "412511c9-ec23-40b4-fb57-483ef8226ec8"
      },
      "execution_count": 3,
      "outputs": [
        {
          "output_type": "stream",
          "name": "stdout",
          "text": [
            "This is a backslash: \\\n"
          ]
        }
      ]
    },
    {
      "cell_type": "markdown",
      "source": [
        "4. The string &quot;Howl&#39;s Moving Castle&quot; is a correct value. Why isn&#39;t the single quote character in the\n",
        "word Howl&#39;s not escaped a problem?\n",
        "\n",
        "In the string \"Howl's Moving Castle\", the single quote character within the word \"Howl's\" does not need to be escaped because the string itself is enclosed in double quotes (\").\n",
        "\n",
        "In most programming languages, including Python, you can use either single quotes (') or double quotes (\") to define a string. Both types of quotes can be used interchangeably to create string literals.\n",
        "\n",
        "When a string is enclosed in one type of quote, you can freely include the other type of quote within the string without the need for escaping. This is because the quotes used to enclose the string determine the string boundaries, and the other type of quote is treated as a regular character within the string.\n",
        "\n",
        "So, in the string \"Howl's Moving Castle\", the single quote within \"Howl's\" is interpreted as part of the string and not as a delimiter or escape character. Therefore, it doesn't cause any issues or need to be escaped."
      ],
      "metadata": {
        "id": "XTdNLilHRtzK"
      }
    },
    {
      "cell_type": "code",
      "source": [
        "my_string = \"Howl's Moving Castle\"\n",
        "print(my_string)\n"
      ],
      "metadata": {
        "colab": {
          "base_uri": "https://localhost:8080/"
        },
        "id": "nxsNzYpZR6Zd",
        "outputId": "39ca7bf1-ff78-495b-ec89-ae9a38286977"
      },
      "execution_count": 4,
      "outputs": [
        {
          "output_type": "stream",
          "name": "stdout",
          "text": [
            "Howl's Moving Castle\n"
          ]
        }
      ]
    },
    {
      "cell_type": "markdown",
      "source": [
        "5. How do you write a string of newlines if you don&#39;t want to use the n character?\n",
        "\n",
        "If you want to write a string with newlines without using the \\n character, you have a few alternative options:\n",
        "\n",
        "Use triple quotes (''' or \"\"\") to define a multiline string:"
      ],
      "metadata": {
        "id": "r5lMKl_ZR8XU"
      }
    },
    {
      "cell_type": "code",
      "source": [
        "my_string = '''Line 1\n",
        "Line 2\n",
        "Line 3'''\n",
        "print(my_string)\n",
        "\n",
        "my_string = '''Line 1\n",
        "Line 2\n",
        "Line 3'''\n",
        "print(my_string)\n"
      ],
      "metadata": {
        "colab": {
          "base_uri": "https://localhost:8080/"
        },
        "id": "vQYkh2Q7SLq_",
        "outputId": "15d0afed-b696-4874-c380-fde7ecf829b3"
      },
      "execution_count": 6,
      "outputs": [
        {
          "output_type": "stream",
          "name": "stdout",
          "text": [
            "Line 1\n",
            "Line 2\n",
            "Line 3\n",
            "Line 1\n",
            "Line 2\n",
            "Line 3\n"
          ]
        }
      ]
    },
    {
      "cell_type": "markdown",
      "source": [
        "6. What are the values of the given expressions?\n",
        "&#39;Hello, world!&#39;[1]\n",
        "&#39;Hello, world!&#39;[0:5]\n",
        "&#39;Hello, world!&#39;[:5]\n",
        "&#39;Hello, world!&#39;[3:]\n",
        "\n",
        "\n",
        "\n",
        "'Hello, world!'[1] evaluates to 'e'.\n",
        "'Hello, world!'[0:5] evaluates to 'Hello'.\n",
        "'Hello, world!'[:5] evaluates to 'Hello'.\n",
        "'Hello, world!'[3:] evaluates to 'lo, world!'."
      ],
      "metadata": {
        "id": "m9nI-xALSQ3f"
      }
    },
    {
      "cell_type": "markdown",
      "source": [
        "7. What are the values of the following expressions?\n",
        "&#39;Hello&#39;.upper()\n",
        "&#39;Hello&#39;.upper().isupper()\n",
        "&#39;Hello&#39;.upper().lower()\n",
        "\n",
        "\n",
        "\n",
        "'Hello'.upper() evaluates to 'HELLO'.\n",
        "'Hello'.upper().isupper() evaluates to True.\n",
        "'Hello'.upper().lower() evaluates to 'hello'."
      ],
      "metadata": {
        "id": "Xf1hJasmSgrB"
      }
    },
    {
      "cell_type": "markdown",
      "source": [
        "8. What are the values of the following expressions?\n",
        "&#39;Remember, remember, the fifth of July.&#39;.split()\n",
        "&#39;-&#39;.join(&#39;There can only one.&#39;.split())\n",
        "\n",
        "\n",
        "\n",
        "\n",
        "\n",
        "\n",
        "\n",
        "'Remember, remember, the fifth of July.'.split() evaluates to ['Remember,', 'remember,', 'the', 'fifth', 'of', 'July.'].\n",
        "'-'.join('There can only one.'.split()) evaluates to 'There-can-only-one.'."
      ],
      "metadata": {
        "id": "-QdUtBuQSx2Y"
      }
    },
    {
      "cell_type": "markdown",
      "source": [
        "9. What are the methods for right-justifying, left-justifying, and centering a string?\n",
        "\n",
        "\n",
        "Right-justifying a string: str.rjust(width, fillchar=' ')\n",
        "\n",
        "This method right-justifies the string by adding padding characters (default is space) to the left side of the string, until it reaches the specified width.\n",
        "The width parameter specifies the total width of the resulting string after justification.\n",
        "The fillchar parameter is optional and specifies the character used for padding. The default value is a space character.\n",
        "Example:"
      ],
      "metadata": {
        "id": "4n-kt17TTAQq"
      }
    },
    {
      "cell_type": "code",
      "source": [
        "my_string = 'Hello'\n",
        "justified_string = my_string.rjust(10)\n",
        "print(justified_string)\n"
      ],
      "metadata": {
        "colab": {
          "base_uri": "https://localhost:8080/"
        },
        "id": "biDuVDcKTIcq",
        "outputId": "d24e3fb6-f73d-49c8-9f05-26d39b87008a"
      },
      "execution_count": 7,
      "outputs": [
        {
          "output_type": "stream",
          "name": "stdout",
          "text": [
            "     Hello\n"
          ]
        }
      ]
    },
    {
      "cell_type": "markdown",
      "source": [
        "Left-justifying a string: str.ljust(width, fillchar=' ')\n",
        "\n",
        "This method left-justifies the string by adding padding characters (default is space) to the right side of the string, until it reaches the specified width.\n",
        "The width parameter specifies the total width of the resulting string after justification.\n",
        "The fillchar parameter is optional and specifies the character used for padding. The default value is a space character.\n",
        "Example:"
      ],
      "metadata": {
        "id": "8t0GHSV1TMhC"
      }
    },
    {
      "cell_type": "code",
      "source": [
        "my_string = 'Hello'\n",
        "justified_string = my_string.ljust(10)\n",
        "print(justified_string)\n"
      ],
      "metadata": {
        "colab": {
          "base_uri": "https://localhost:8080/"
        },
        "id": "u0XZimHLTP5F",
        "outputId": "78a5febe-c4aa-468c-9ac1-2bb3a65facd2"
      },
      "execution_count": 8,
      "outputs": [
        {
          "output_type": "stream",
          "name": "stdout",
          "text": [
            "Hello     \n"
          ]
        }
      ]
    },
    {
      "cell_type": "markdown",
      "source": [
        "Centering a string: str.center(width, fillchar=' ')\n",
        "\n",
        "This method centers the string by adding padding characters (default is space) on both sides of the string until it reaches the specified width.\n",
        "The width parameter specifies the total width of the resulting string after justification.\n",
        "The fillchar parameter is optional and specifies the character used for padding. The default value is a space character.\n",
        "Example:"
      ],
      "metadata": {
        "id": "cO2N1zmfTRmd"
      }
    },
    {
      "cell_type": "code",
      "source": [
        "my_string = 'Hello'\n",
        "justified_string = my_string.center(10)\n",
        "print(justified_string)\n"
      ],
      "metadata": {
        "colab": {
          "base_uri": "https://localhost:8080/"
        },
        "id": "ZS8BaRk8TT-2",
        "outputId": "f0003706-231c-4b14-9915-fca684c3b1cc"
      },
      "execution_count": 9,
      "outputs": [
        {
          "output_type": "stream",
          "name": "stdout",
          "text": [
            "  Hello   \n"
          ]
        }
      ]
    },
    {
      "cell_type": "markdown",
      "source": [
        "10. What is the best way to remove whitespace characters from the start or end?\n",
        "\n",
        "\n",
        "In Python, you can remove whitespace characters from the start or end of a string using the strip() method. The strip() method removes leading and trailing whitespace characters (spaces, tabs, newlines) from a string.\n",
        "\n",
        "Here's an example:"
      ],
      "metadata": {
        "id": "wZR6mpTRTbT1"
      }
    },
    {
      "cell_type": "code",
      "source": [
        "my_string = \"   Hello   \"\n",
        "trimmed_string = my_string.strip()\n",
        "print(trimmed_string)\n"
      ],
      "metadata": {
        "colab": {
          "base_uri": "https://localhost:8080/"
        },
        "id": "Bb6wAOkjTfzP",
        "outputId": "767fe727-f11a-4c00-924e-81afdc7cd96f"
      },
      "execution_count": 10,
      "outputs": [
        {
          "output_type": "stream",
          "name": "stdout",
          "text": [
            "Hello\n"
          ]
        }
      ]
    }
  ]
}