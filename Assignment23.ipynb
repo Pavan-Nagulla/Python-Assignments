{
  "nbformat": 4,
  "nbformat_minor": 0,
  "metadata": {
    "colab": {
      "provenance": [],
      "authorship_tag": "ABX9TyOm5iEfFUDJXe5XdWDW95U0",
      "include_colab_link": true
    },
    "kernelspec": {
      "name": "python3",
      "display_name": "Python 3"
    },
    "language_info": {
      "name": "python"
    }
  },
  "cells": [
    {
      "cell_type": "markdown",
      "metadata": {
        "id": "view-in-github",
        "colab_type": "text"
      },
      "source": [
        "<a href=\"https://colab.research.google.com/github/Pavan-Nagulla/Python-Assignments/blob/main/Assignment23.ipynb\" target=\"_parent\"><img src=\"https://colab.research.google.com/assets/colab-badge.svg\" alt=\"Open In Colab\"/></a>"
      ]
    },
    {
      "cell_type": "code",
      "execution_count": null,
      "metadata": {
        "id": "rnzVVMfEu4_X"
      },
      "outputs": [],
      "source": []
    },
    {
      "cell_type": "markdown",
      "source": [
        "1. What is the result of the code, and why?\n",
        "&gt;&gt;&gt; def func(a, b=6, c=8):\n",
        "print(a, b, c)\n",
        "&gt;&gt;&gt; func(1, 2)\n",
        "\n",
        "\n",
        "ans:\n",
        "\n",
        "\n",
        "The result of the code would be:\n",
        "\n",
        "\n",
        "1 2 8\n",
        "\n",
        "\n",
        "\n",
        "\n",
        "Explanation:\n",
        "\n",
        "The func function is defined with three parameters: a, b, and c.\n",
        "The parameter b has a default value of 6, and the parameter c has a default value of 8.\n",
        "When the func function is called with the arguments (1, 2), the value 1 is assigned to the parameter a, and the value 2 is assigned to the parameter b. Since no value is provided for the parameter c, it takes its default value of 8.\n",
        "The print(a, b, c) statement inside the func function then prints the values of the parameters a, b, and c, which are 1, 2, and 8, respectively.\n",
        "In this case, by providing the argument 2 for the parameter b, it overrides the default value of 6. The default value of 8 for the parameter c remains unchanged since no argument is provided for it."
      ],
      "metadata": {
        "id": "bf62NNzmu7Du"
      }
    },
    {
      "cell_type": "markdown",
      "source": [
        "2. What is the result of this code, and why?\n",
        "&gt;&gt;&gt; def func(a, b, c=5):\n",
        "print(a, b, c)\n",
        "&gt;&gt;&gt; func(1, c=3, b=2)\n",
        "\n",
        "\n",
        "ans:\n",
        "\n",
        "\n",
        "\n",
        "The result of the code would be:\n",
        "\n",
        "1 2 3\n",
        "\n",
        "\n",
        "\n",
        "Explanation:\n",
        "\n",
        "The func function is defined with three parameters: a, b, and c.\n",
        "When the func function is called with the arguments (1, c=3, b=2), the value 1 is assigned to the parameter a.\n",
        "The keyword arguments c=3 and b=2 explicitly specify the values for the parameters c and b, respectively.\n",
        "The print(a, b, c) statement inside the func function then prints the values of the parameters a, b, and c, which are 1, 2, and 3, respectively.\n",
        "In this case, the order of the keyword arguments in the function call does not matter because they are explicitly named. The values provided for c=3 and b=2 override the default values of c=5 and b, respectively, resulting in the output 1 2 3.\n",
        "\n",
        "\n",
        "\n",
        "\n"
      ],
      "metadata": {
        "id": "KZKEodx-vC61"
      }
    },
    {
      "cell_type": "markdown",
      "source": [
        "3. How about this code: what is its result, and why?\n",
        "&gt;&gt;&gt; def func(a, *pargs):\n",
        "print(a, pargs)\n",
        "&gt;&gt;&gt; func(1, 2, 3)\n",
        "\n",
        "\n",
        "ans:\n",
        "\n",
        "\n",
        "\n",
        "The result of the code would be:\n",
        "\n",
        "\n",
        "\n",
        "1 (2, 3)\n",
        "\n",
        "\n",
        "\n",
        "Explanation:\n",
        "\n",
        "The func function is defined with two parameters: a and *pargs.\n",
        "The *pargs parameter is a special syntax in Python that allows the function to accept any number of additional positional arguments.\n",
        "When the func function is called with the arguments (1, 2, 3), the value 1 is assigned to the parameter a, and the additional positional arguments 2 and 3 are collected into a tuple and assigned to the *pargs parameter.\n",
        "The print(a, pargs) statement inside the func function then prints the values of a and pargs.\n",
        "In this case, a has the value 1, and pargs is a tuple (2, 3) containing the additional positional arguments.\n",
        "The use of *pargs allows the function to accept any number of additional positional arguments beyond the first parameter. In this case, the arguments 2 and 3 are collected into the pargs tuple."
      ],
      "metadata": {
        "id": "VugbQsiQvTPw"
      }
    },
    {
      "cell_type": "markdown",
      "source": [
        "4. What does this code print, and why?\n",
        "&gt;&gt;&gt; def func(a, **kargs):\n",
        "print(a, kargs)\n",
        "&gt;&gt;&gt; func(a=1, c=3, b=2)"
      ],
      "metadata": {
        "id": "ccjlcAI9vk5u"
      }
    },
    {
      "cell_type": "code",
      "source": [
        "1 {'c': 3, 'b': 2}\n"
      ],
      "metadata": {
        "id": "gdp-iZwDvttV"
      },
      "execution_count": null,
      "outputs": []
    },
    {
      "cell_type": "markdown",
      "source": [
        "5. What gets printed by this, and explain?\n",
        "&gt;&gt;&gt; def func(a, b, c=8, d=5): print(a, b, c, d)\n",
        "&gt;&gt;&gt; func(1, *(5, 6))"
      ],
      "metadata": {
        "id": "BLAVDDgqvwp0"
      }
    },
    {
      "cell_type": "code",
      "source": [
        "1 5 6 5\n"
      ],
      "metadata": {
        "id": "9sMCC4Zbv0Uz"
      },
      "execution_count": null,
      "outputs": []
    },
    {
      "cell_type": "markdown",
      "source": [
        "6. what is the result of this, and explain?\n",
        "&gt;&gt;&gt; def func(a, b, c): a = 2; b[0] = &#39;x&#39;; c[&#39;a&#39;] = &#39;y&#39;\n",
        "&gt;&gt;&gt; l=1; m=[1]; n={&#39;a&#39;:0}\n",
        "&gt;&gt;&gt; func(l, m, n)\n",
        "\n",
        "&gt;&gt;&gt; l, m, n"
      ],
      "metadata": {
        "id": "aqb5EVTIv037"
      }
    },
    {
      "cell_type": "code",
      "source": [
        "(1, ['x'], {'a': 'y'})\n"
      ],
      "metadata": {
        "id": "-Bba5GH-v9br"
      },
      "execution_count": null,
      "outputs": []
    }
  ]
}