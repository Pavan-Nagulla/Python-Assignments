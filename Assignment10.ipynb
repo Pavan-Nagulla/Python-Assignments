{
  "nbformat": 4,
  "nbformat_minor": 0,
  "metadata": {
    "colab": {
      "provenance": [],
      "authorship_tag": "ABX9TyOYe1aUn9YCp8TTd0fOr7S7",
      "include_colab_link": true
    },
    "kernelspec": {
      "name": "python3",
      "display_name": "Python 3"
    },
    "language_info": {
      "name": "python"
    }
  },
  "cells": [
    {
      "cell_type": "markdown",
      "metadata": {
        "id": "view-in-github",
        "colab_type": "text"
      },
      "source": [
        "<a href=\"https://colab.research.google.com/github/Pavan-Nagulla/Python-Assignments/blob/main/Assignment10.ipynb\" target=\"_parent\"><img src=\"https://colab.research.google.com/assets/colab-badge.svg\" alt=\"Open In Colab\"/></a>"
      ]
    },
    {
      "cell_type": "markdown",
      "source": [
        "1. How do you distinguish between shutil.copy() and shutil.copytree()?\n",
        "\n",
        "The shutil.copy() and shutil.copytree() functions in Python's shutil module are used for copying files and directories, respectively. Here's how you can distinguish between them:\n",
        "\n",
        "shutil.copy(src, dst): This function is used to copy a single file from the source (src) to the destination (dst). It takes two arguments: the path of the source file to be copied and the path of the destination where the file should be copied to. If the destination is an existing file, it will be overwritten. If the destination directory does not exist, a FileNotFoundError will be raised.\n",
        "Example:"
      ],
      "metadata": {
        "id": "ni6eVdMlcfGY"
      }
    },
    {
      "cell_type": "code",
      "execution_count": null,
      "metadata": {
        "id": "CtjlqyJuccUY"
      },
      "outputs": [],
      "source": [
        "import shutil\n",
        "\n",
        "# Copy a file\n",
        "shutil.copy('path/to/source/file.txt', 'path/to/destination/file.txt')\n",
        "\n",
        "\n"
      ]
    },
    {
      "cell_type": "markdown",
      "source": [
        "shutil.copytree(src, dst): This function is used to recursively copy an entire directory tree from the source (src) to the destination (dst). It creates a new directory at the destination path and copies all the files and directories from the source directory tree to the destination directory. If the destination directory already exists, a FileExistsError will be raised.\n",
        "Example:"
      ],
      "metadata": {
        "id": "xmQYwn14d95M"
      }
    },
    {
      "cell_type": "code",
      "source": [
        "import shutil\n",
        "\n",
        "# Copy a directory tree\n",
        "shutil.copytree('path/to/source/dir', 'path/to/destination/dir')\n"
      ],
      "metadata": {
        "id": "hXCA4dz_d_bk"
      },
      "execution_count": null,
      "outputs": []
    },
    {
      "cell_type": "markdown",
      "source": [
        "2. What function is used to rename files??\n",
        "\n",
        "\n",
        "In Python's shutil module, the shutil.move() function is typically used to rename files. While the primary purpose of shutil.move() is to move files or directories from one location to another, it can also be used to rename files by specifying a new destination path with a different file name.\n",
        "\n",
        "Here's an example of how to use shutil.move() to rename a file:"
      ],
      "metadata": {
        "id": "U3V0fIdeeAFL"
      }
    },
    {
      "cell_type": "code",
      "source": [
        "import shutil\n",
        "\n",
        "# Rename a file\n",
        "shutil.move('path/to/oldfile.txt', 'path/to/newfile.txt')\n"
      ],
      "metadata": {
        "id": "ms1YAQnYeI1J"
      },
      "execution_count": null,
      "outputs": []
    },
    {
      "cell_type": "markdown",
      "source": [
        "In this example, the file 'path/to/oldfile.txt' is renamed to 'path/to/newfile.txt' by using shutil.move().\n",
        "\n",
        "Note that shutil.move() can also be used to move files across different directories or drives. If the source and destination paths refer to different directories, the file is moved to the new location and effectively renamed in the process.\n",
        "\n",
        "Keep in mind that shutil.move() raises an exception if the destination path already exists or if any other error occurs during the operation. It's recommended to handle potential exceptions appropriately in your code."
      ],
      "metadata": {
        "id": "CzktURDYeKlR"
      }
    },
    {
      "cell_type": "markdown",
      "source": [
        "3. What is the difference between the delete functions in the send2trash and shutil modules?\n",
        "\n",
        "\n",
        "\n",
        "The send2trash and shutil modules in Python provide different ways to delete files and directories. Here's the difference between their delete functions:\n",
        "\n",
        "send2trash.send2trash(path): This function from the send2trash module sends a file or directory to the operating system's trash or recycle bin instead of permanently deleting it. It provides a safer alternative to os.remove() or shutil.rmtree() as it allows the user to recover the deleted items from the trash if needed. It sends the specified file or directory to the trash, which may vary depending on the operating system."
      ],
      "metadata": {
        "id": "PycfQZ6TeNjR"
      }
    },
    {
      "cell_type": "code",
      "source": [
        "import send2trash\n",
        "\n",
        "# Send a file or directory to trash\n",
        "send2trash.send2trash('path/to/file.txt')\n"
      ],
      "metadata": {
        "id": "UjnyemHGfRXH"
      },
      "execution_count": null,
      "outputs": []
    },
    {
      "cell_type": "markdown",
      "source": [
        "shutil.rmtree(path): This function from the shutil module removes a directory and all its contents recursively, permanently deleting them from the file system. It is commonly used to delete entire directory trees. When shutil.rmtree() is called, it removes the specified directory and all its subdirectories and files."
      ],
      "metadata": {
        "id": "WlrBaCErfTWv"
      }
    },
    {
      "cell_type": "code",
      "source": [
        "import shutil\n",
        "\n",
        "# Permanently delete a directory and its contents\n",
        "shutil.rmtree('path/to/directory')\n"
      ],
      "metadata": {
        "id": "yBh8i2RpfVt_"
      },
      "execution_count": null,
      "outputs": []
    },
    {
      "cell_type": "markdown",
      "source": [
        "4.ZipFile objects have a close() method just like File objects’ close() method. What ZipFile method is\n",
        "equivalent to File objects’ open() method?\n",
        "\n",
        "\n",
        "\n",
        "\n",
        "The equivalent method in ZipFile objects to File objects' open() method is the ZipFile() constructor method.\n",
        "\n",
        "In the ZipFile module, to work with zip archives, you typically start by creating a ZipFile object using the ZipFile() constructor. This method allows you to open and access the contents of a zip archive.\n",
        "\n",
        "Here's an example that demonstrates how to use the ZipFile() method to open a zip file:"
      ],
      "metadata": {
        "id": "9zopyKyyfan4"
      }
    },
    {
      "cell_type": "code",
      "source": [
        "import zipfile\n",
        "\n",
        "# Open a zip file\n",
        "with zipfile.ZipFile('archive.zip', 'r') as myzip:\n",
        "    # Access the contents of the zip file\n",
        "    filelist = myzip.namelist()\n",
        "    for filename in filelist:\n",
        "        print(filename)\n"
      ],
      "metadata": {
        "id": "FIUSxNm3fytz"
      },
      "execution_count": null,
      "outputs": []
    },
    {
      "cell_type": "markdown",
      "source": [
        "In this example, zipfile.ZipFile('archive.zip', 'r') creates a ZipFile object that opens the 'archive.zip' file in read mode. The ZipFile() method is equivalent to open() when working with zip files, allowing you to access the contents of the archive.\n",
        "\n",
        "Remember to use the with statement to ensure proper closing of the ZipFile object, just like you would with File objects and their close() method."
      ],
      "metadata": {
        "id": "Iqqs5wx5f1Gr"
      }
    },
    {
      "cell_type": "markdown",
      "source": [
        "5. Create a programme that searches a folder tree for files with a certain file extension (such as .pdf\n",
        "or .jpg). Copy these files from whatever location they are in to a new folder."
      ],
      "metadata": {
        "id": "mbuG71phf4Wb"
      }
    },
    {
      "cell_type": "code",
      "source": [
        "import os\n",
        "import shutil\n",
        "\n",
        "def search_and_copy_files(source_folder, target_folder, extension):\n",
        "    # Create the target folder if it doesn't exist\n",
        "    if not os.path.exists(target_folder):\n",
        "        os.makedirs(target_folder)\n",
        "    \n",
        "    # Traverse the folder tree\n",
        "    for root, dirs, files in os.walk(source_folder):\n",
        "        for file in files:\n",
        "            if file.endswith(extension):\n",
        "                source_path = os.path.join(root, file)\n",
        "                target_path = os.path.join(target_folder, file)\n",
        "                shutil.copy2(source_path, target_path)  # Copy the file to the target folder\n",
        "\n",
        "# Example usage\n",
        "source_folder = '/path/to/source/folder'\n",
        "target_folder = '/path/to/target/folder'\n",
        "extension = '.pdf'\n",
        "\n",
        "search_and_copy_files(source_folder, target_folder, extension)\n"
      ],
      "metadata": {
        "id": "KppYpoZRgBF4"
      },
      "execution_count": null,
      "outputs": []
    },
    {
      "cell_type": "markdown",
      "source": [
        "In this example, the search_and_copy_files() function takes three parameters: the source_folder to search for files, the target_folder where the files will be copied, and the extension of the files to search for (e.g., '.pdf', '.jpg').\n",
        "\n",
        "The function creates the target_folder if it doesn't exist. Then, it recursively traverses the source_folder using os.walk() to iterate through all the subdirectories and files. For each file encountered, it checks if the file's extension matches the specified extension. If so, it constructs the source and target paths using os.path.join() and uses shutil.copy2() to copy the file to the target_folder.\n",
        "\n",
        "You can modify the source_folder, target_folder, and extension variables according to your requirements.\n",
        "\n",
        "\n",
        "\n",
        "\n"
      ],
      "metadata": {
        "id": "guFg64gqgDuo"
      }
    }
  ]
}