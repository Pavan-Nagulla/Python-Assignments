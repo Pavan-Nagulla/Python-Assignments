{
  "nbformat": 4,
  "nbformat_minor": 0,
  "metadata": {
    "colab": {
      "provenance": [],
      "authorship_tag": "ABX9TyNRSp1jV8Wm32F+iAJc4k7I",
      "include_colab_link": true
    },
    "kernelspec": {
      "name": "python3",
      "display_name": "Python 3"
    },
    "language_info": {
      "name": "python"
    }
  },
  "cells": [
    {
      "cell_type": "markdown",
      "metadata": {
        "id": "view-in-github",
        "colab_type": "text"
      },
      "source": [
        "<a href=\"https://colab.research.google.com/github/Pavan-Nagulla/Python-Assignments/blob/main/Assignment18.ipynb\" target=\"_parent\"><img src=\"https://colab.research.google.com/assets/colab-badge.svg\" alt=\"Open In Colab\"/></a>"
      ]
    },
    {
      "cell_type": "markdown",
      "source": [
        "1. Create a zoo.py file first. Define the hours() function, which prints the string &#39;Open 9-5 daily&#39;.\n",
        "Then, use the interactive interpreter to import the zoo module and call its hours() function.\n",
        "\n",
        "ans:\n",
        "\n",
        "To create the zoo.py file, follow these steps:\n",
        "\n",
        "Open a text editor or an Integrated Development Environment (IDE).\n",
        "Create a new file and save it as zoo.py.\n",
        "In the zoo.py file, add the following code:"
      ],
      "metadata": {
        "id": "kIswsPiRMO2t"
      }
    },
    {
      "cell_type": "code",
      "execution_count": null,
      "metadata": {
        "id": "HkavQnwCMKSf"
      },
      "outputs": [],
      "source": [
        "def hours():\n",
        "    print('Open 9-5 daily')\n"
      ]
    },
    {
      "cell_type": "markdown",
      "source": [
        "Save the file.\n",
        "Now, you can use the interactive interpreter to import the zoo module and call its hours() function. Here's how you can do it:\n",
        "\n",
        "Open the Python interactive interpreter by typing python or python3 in your command prompt or terminal and pressing Enter.\n",
        "\n",
        "Once you're in the Python interactive interpreter, import the zoo module by typing import zoo and pressing Enter.\n",
        "\n",
        "Call the hours() function from the zoo module by typing zoo.hours() and pressing Enter.\n",
        "\n",
        "Here's an example of what your session might look like:"
      ],
      "metadata": {
        "id": "PdLqbTCMMm3c"
      }
    },
    {
      "cell_type": "code",
      "source": [
        "Python 3.9.6 (default, Jun 29 2021, 10:01:55)\n",
        "[GCC 8.4.0] on linux\n",
        "Type \"help\", \"copyright\", \"credits\" or \"license\" for more information.\n",
        ">>> import zoo\n",
        ">>> zoo.hours()\n",
        "Open 9-5 daily\n",
        ">>>\n"
      ],
      "metadata": {
        "id": "KyEF2BpDMpI0"
      },
      "execution_count": null,
      "outputs": []
    },
    {
      "cell_type": "markdown",
      "source": [
        "The zoo.hours() function call will output the string 'Open 9-5 daily' as expected."
      ],
      "metadata": {
        "id": "DLccYxnGMrO8"
      }
    },
    {
      "cell_type": "markdown",
      "source": [
        "2. In the interactive interpreter, import the zoo module as menagerie and call its hours() function.\n",
        "\n",
        "ans:\n",
        "\n",
        "To import the zoo module as menagerie and call its hours() function in the interactive interpreter, follow these steps:\n",
        "\n",
        "Open the Python interactive interpreter by typing python or python3 in your command prompt or terminal and pressing Enter.\n",
        "\n",
        "Once you're in the Python interactive interpreter, import the zoo module as menagerie by typing import zoo as menagerie and pressing Enter.\n",
        "\n",
        "Call the hours() function from the menagerie module by typing menagerie.hours() and pressing Enter.\n",
        "\n",
        "Here's an example of what your session might look like:"
      ],
      "metadata": {
        "id": "DrvWgm7nMtVk"
      }
    },
    {
      "cell_type": "code",
      "source": [
        "Python 3.9.6 (default, Jun 29 2021, 10:01:55)\n",
        "[GCC 8.4.0] on linux\n",
        "Type \"help\", \"copyright\", \"credits\" or \"license\" for more information.\n",
        ">>> import zoo as menagerie\n",
        ">>> menagerie.hours()\n",
        "Open 9-5 daily\n",
        ">>>\n"
      ],
      "metadata": {
        "id": "zmTn0G68NEv0"
      },
      "execution_count": null,
      "outputs": []
    },
    {
      "cell_type": "markdown",
      "source": [
        "The menagerie.hours() function call will output the string 'Open 9-5 daily' as expected. By importing the zoo module as menagerie, you can reference the module using the menagerie name in your code."
      ],
      "metadata": {
        "id": "HfodTJQnNHwU"
      }
    },
    {
      "cell_type": "markdown",
      "source": [
        "3. Using the interpreter, explicitly import and call the hours() function from zoo.\n",
        "\n",
        "ans:\n",
        "\n",
        "To explicitly import and call the hours() function from the zoo module using the Python interpreter, follow these steps:\n",
        "\n",
        "Open the Python interactive interpreter by typing python or python3 in your command prompt or terminal and pressing Enter.\n",
        "\n",
        "Once you're in the Python interactive interpreter, import the hours() function from the zoo module by typing from zoo import hours and pressing Enter.\n",
        "\n",
        "Call the hours() function directly without referencing the module by typing hours() and pressing Enter.\n",
        "\n",
        "Here's an example of what your session might look like:"
      ],
      "metadata": {
        "id": "6P6gKX9eNIl9"
      }
    },
    {
      "cell_type": "code",
      "source": [
        "Python 3.9.6 (default, Jun 29 2021, 10:01:55)\n",
        "[GCC 8.4.0] on linux\n",
        "Type \"help\", \"copyright\", \"credits\" or \"license\" for more information.\n",
        ">>> from zoo import hours\n",
        ">>> hours()\n",
        "Open 9-5 daily\n",
        ">>>\n"
      ],
      "metadata": {
        "id": "XMOsLraqN6n0"
      },
      "execution_count": null,
      "outputs": []
    },
    {
      "cell_type": "markdown",
      "source": [
        "The hours() function call will output the string 'Open 9-5 daily' as expected. By using the from zoo import hours syntax, you directly import the hours() function from the zoo module into the current namespace, allowing you to call it without referencing the module name."
      ],
      "metadata": {
        "id": "HhbRJjjLN8tc"
      }
    },
    {
      "cell_type": "markdown",
      "source": [
        "4. Import the hours() function as info and call it.\n",
        "\n",
        "\n",
        "ans:\n",
        "\n",
        "To import the hours() function from the zoo module as info and call it, follow these steps:\n",
        "\n",
        "Open the Python interactive interpreter by typing python or python3 in your command prompt or terminal and pressing Enter.\n",
        "\n",
        "Once you're in the Python interactive interpreter, import the hours() function from the zoo module as info by typing from zoo import hours as info and pressing Enter.\n",
        "\n",
        "Call the info() function to execute it by typing info() and pressing Enter.\n",
        "\n",
        "Here's an example of what your session might look like:\n"
      ],
      "metadata": {
        "id": "uBhpmBeqPLf1"
      }
    },
    {
      "cell_type": "code",
      "source": [
        "Python 3.9.6 (default, Jun 29 2021, 10:01:55)\n",
        "[GCC 8.4.0] on linux\n",
        "Type \"help\", \"copyright\", \"credits\" or \"license\" for more information.\n",
        ">>> from zoo import hours as info\n",
        ">>> info()\n",
        "Open 9-5 daily\n",
        ">>>\n"
      ],
      "metadata": {
        "id": "tAK5fq2YTira"
      },
      "execution_count": null,
      "outputs": []
    },
    {
      "cell_type": "markdown",
      "source": [
        "The info() function call will output the string 'Open 9-5 daily' as expected. By using the from zoo import hours as info syntax, you import the hours() function from the zoo module and give it the name info in the current namespace, allowing you to call it using the info() name."
      ],
      "metadata": {
        "id": "Min3mqAXTk_y"
      }
    },
    {
      "cell_type": "markdown",
      "source": [
        "5. Create a plain dictionary with the key-value pairs &#39;a&#39;: 1, &#39;b&#39;: 2, and &#39;c&#39;: 3, and print it out.\n",
        "\n",
        "\n",
        "ans:\n",
        "\n",
        "\n",
        "To create a plain dictionary with the key-value pairs 'a': 1, 'b': 2, and 'c': 3, and print it out, you can follow these steps:\n",
        "\n",
        "Open a text editor or an Integrated Development Environment (IDE).\n",
        "\n",
        "Create a new file and save it with a .py extension (e.g., dictionary_example.py).\n",
        "\n",
        "In the file, add the following code:"
      ],
      "metadata": {
        "id": "yMsepuY1Tp2C"
      }
    },
    {
      "cell_type": "code",
      "source": [
        "dictionary = {'a': 1, 'b': 2, 'c': 3}\n",
        "print(dictionary)\n"
      ],
      "metadata": {
        "id": "kpsT6IHET-i6"
      },
      "execution_count": null,
      "outputs": []
    },
    {
      "cell_type": "markdown",
      "source": [
        "Save the file.\n",
        "\n",
        "Run the Python script using the Python interpreter or an IDE that supports running Python programs.\n",
        "\n",
        "The script will output the dictionary as follows:"
      ],
      "metadata": {
        "id": "WxrLlhB_UBnS"
      }
    },
    {
      "cell_type": "code",
      "source": [
        "{'a': 1, 'b': 2, 'c': 3}\n"
      ],
      "metadata": {
        "id": "8y7Jf-rWUC_K"
      },
      "execution_count": null,
      "outputs": []
    },
    {
      "cell_type": "markdown",
      "source": [
        "The dictionary with the key-value pairs 'a': 1, 'b': 2, and 'c': 3 will be created, and the print(dictionary) statement will display the dictionary contents on the console."
      ],
      "metadata": {
        "id": "pSZDT0qDUFaL"
      }
    },
    {
      "cell_type": "markdown",
      "source": [
        "6.Make an OrderedDict called fancy from the same pairs listed in 5 and print it. Did it print in the\n",
        "same order as plain?\n",
        "\n",
        "\n",
        "ans:\n",
        "\n",
        "\n",
        "To create an OrderedDict called fancy from the same key-value pairs listed in step 5 and print it, you can follow these steps:\n",
        "\n",
        "Open a text editor or an Integrated Development Environment (IDE).\n",
        "\n",
        "Create a new file and save it with a .py extension (e.g., ordered_dict_example.py).\n",
        "\n",
        "Import the OrderedDict class from the collections module by adding the following line of code at the beginning of the file:"
      ],
      "metadata": {
        "id": "lJtu3lFyUF-b"
      }
    },
    {
      "cell_type": "code",
      "source": [
        "from collections import OrderedDict\n"
      ],
      "metadata": {
        "id": "L5vgN-TJUQPS"
      },
      "execution_count": null,
      "outputs": []
    },
    {
      "cell_type": "markdown",
      "source": [
        "Create the fancy OrderedDict with the same key-value pairs by adding the following code:"
      ],
      "metadata": {
        "id": "j5b0aVEqUS8S"
      }
    },
    {
      "cell_type": "code",
      "source": [
        "fancy = OrderedDict([('a', 1), ('b', 2), ('c', 3)])\n",
        "print(fancy)\n"
      ],
      "metadata": {
        "id": "cq5t-0JDUUoS"
      },
      "execution_count": null,
      "outputs": []
    },
    {
      "cell_type": "markdown",
      "source": [
        "Save the file.\n",
        "\n",
        "Run the Python script using the Python interpreter or an IDE that supports running Python programs.\n",
        "\n",
        "The script will output the OrderedDict as follows:"
      ],
      "metadata": {
        "id": "JmKWfaahUYjx"
      }
    },
    {
      "cell_type": "code",
      "source": [
        "OrderedDict([('a', 1), ('b', 2), ('c', 3)])\n"
      ],
      "metadata": {
        "id": "F43kSreDUaLi"
      },
      "execution_count": null,
      "outputs": []
    },
    {
      "cell_type": "markdown",
      "source": [
        "The OrderedDict fancy with the key-value pairs 'a': 1, 'b': 2, and 'c': 3 will be created, and the print(fancy) statement will display the OrderedDict contents on the console.\n",
        "\n",
        "The OrderedDict maintains the insertion order of its elements. Therefore, when you print the OrderedDict, it will display the key-value pairs in the same order as they were inserted. In this case, the order will be 'a': 1, 'b': 2, and 'c': 3. Thus, the output order will be the same as the plain dictionary."
      ],
      "metadata": {
        "id": "M9A9bmScUa4q"
      }
    },
    {
      "cell_type": "markdown",
      "source": [
        "7. Make a default dictionary called dict_of_lists and pass it the argument list. Make the list\n",
        "dict_of_lists[&#39;a&#39;] and append the value &#39;something for a&#39; to it in one assignment. Print\n",
        "dict_of_lists[&#39;a&#39;].\n",
        "\n",
        "\n",
        "ans:\n",
        "\n",
        "o create a defaultdict called dict_of_lists and append the value 'something for a' to the list dict_of_lists['a'] in one assignment, and then print dict_of_lists['a'], you can follow these steps:\n",
        "\n",
        "Open a text editor or an Integrated Development Environment (IDE).\n",
        "\n",
        "Create a new file and save it with a .py extension (e.g., defaultdict_example.py).\n",
        "\n",
        "Import the defaultdict class from the collections module by adding the following line of code at the beginning of the file:\n",
        "\n",
        "python\n",
        "Copy code\n",
        "from collections import defaultdict\n",
        "Create the defaultdict dict_of_lists with the argument set to the list type by adding the following code:"
      ],
      "metadata": {
        "id": "L01ghnTSUdSi"
      }
    },
    {
      "cell_type": "code",
      "source": [
        "dict_of_lists = defaultdict(list)\n",
        "dict_of_lists['a'].append('something for a')\n",
        "print(dict_of_lists['a'])\n"
      ],
      "metadata": {
        "id": "_VDCBsyeWWj0"
      },
      "execution_count": null,
      "outputs": []
    },
    {
      "cell_type": "markdown",
      "source": [
        "Save the file.\n",
        "\n",
        "Run the Python script using the Python interpreter or an IDE that supports running Python programs.\n",
        "\n",
        "The script will output the list ['something for a'], which is the value associated with the key 'a' in the dict_of_lists.\n",
        "\n",
        "Here's what the contents of your defaultdict_example.py file would look like:"
      ],
      "metadata": {
        "id": "wi7jDKw_WZcR"
      }
    },
    {
      "cell_type": "code",
      "source": [
        "from collections import defaultdict\n",
        "\n",
        "dict_of_lists = defaultdict(list)\n",
        "dict_of_lists['a'].append('something for a')\n",
        "print(dict_of_lists['a'])\n"
      ],
      "metadata": {
        "id": "4Qp6U_tjWbZ7"
      },
      "execution_count": null,
      "outputs": []
    },
    {
      "cell_type": "markdown",
      "source": [
        "When you run the script, the output will be:\n",
        "\n",
        "css\n",
        "Copy code\n",
        "['something for a']\n",
        "The defaultdict ensures that accessing a nonexistent key ('a' in this case) returns an empty list ([]), which allows you to directly append values to it without explicitly creating the list beforehand.\n",
        "\n",
        "\n",
        "\n",
        "\n"
      ],
      "metadata": {
        "id": "nX7wuu-bWd1Z"
      }
    }
  ]
}